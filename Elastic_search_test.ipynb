{
 "cells": [
  {
   "cell_type": "code",
   "execution_count": 41,
   "source": [
    "import urllib.request \r\n",
    "import re\r\n",
    "import pandas as pd\r\n",
    "from pprint import pprint\r\n",
    "from elasticsearch import Elasticsearch"
   ],
   "outputs": [],
   "metadata": {}
  },
  {
   "cell_type": "code",
   "execution_count": 2,
   "source": [
    "import requests\r\n",
    "# run bin/elasticsearch in elasticsearch directory in terminal before running this cell\r\n",
    "res = requests.get('http://localhost:9200')"
   ],
   "outputs": [],
   "metadata": {}
  },
  {
   "cell_type": "code",
   "execution_count": 3,
   "source": [
    "es = Elasticsearch([{'host': 'localhost', 'port': 9200}])"
   ],
   "outputs": [],
   "metadata": {}
  },
  {
   "cell_type": "code",
   "execution_count": 4,
   "source": [
    "def test_ES(es):\r\n",
    "    return es.ping()  # got True"
   ],
   "outputs": [],
   "metadata": {}
  },
  {
   "cell_type": "code",
   "execution_count": 5,
   "source": [
    "if test_ES(es):\r\n",
    "    print('ES instance working')\r\n",
    "else:\r\n",
    "    print('ES instance not working')"
   ],
   "outputs": [
    {
     "output_type": "stream",
     "name": "stdout",
     "text": [
      "ES instance working\n"
     ]
    }
   ],
   "metadata": {}
  },
  {
   "cell_type": "code",
   "execution_count": 6,
   "source": [
    "def index_info(index_name):\r\n",
    "    count, deleted, shards, =  es.cat.indices(index=index_name, h=['docs.count', 'docs.deleted', 'pri'])[:-1].split(' ')\r\n",
    "    print(\r\n",
    "      \"\"\"\r\n",
    "      #### INDEX INFO #####\r\n",
    "      index_name = {}\r\n",
    "      doc_count = {}\r\n",
    "      shard_count = {}\r\n",
    "      deleted_doc_count = {}\r\n",
    "      \"\"\".format(index_name, count, shards, deleted)\r\n",
    "  )"
   ],
   "outputs": [],
   "metadata": {}
  },
  {
   "cell_type": "code",
   "execution_count": 7,
   "source": [
    "# read data from steam data directory \r\n",
    "games = pd.read_pickle('final_data_raw.pickle')"
   ],
   "outputs": [],
   "metadata": {}
  },
  {
   "cell_type": "code",
   "execution_count": 9,
   "source": [
    "game_meta = pd.read_csv('steamspy_cleaned_v2.csv')"
   ],
   "outputs": [],
   "metadata": {}
  },
  {
   "cell_type": "code",
   "execution_count": 10,
   "source": [
    "games['release_date'] = pd.to_datetime(games.release_date)"
   ],
   "outputs": [],
   "metadata": {}
  },
  {
   "cell_type": "code",
   "execution_count": 11,
   "source": [
    "_games = games.set_index('steam_appid')"
   ],
   "outputs": [],
   "metadata": {}
  },
  {
   "cell_type": "code",
   "execution_count": 12,
   "source": [
    "_game_meta = game_meta.set_index('appid')"
   ],
   "outputs": [],
   "metadata": {}
  },
  {
   "cell_type": "code",
   "execution_count": 14,
   "source": [
    "merged_df = _games.merge(_game_meta.iloc[:,[-1,-2]], left_index=True, right_index=True)"
   ],
   "outputs": [],
   "metadata": {}
  },
  {
   "cell_type": "code",
   "execution_count": 15,
   "source": [
    "merged_df.reset_index(inplace=True)"
   ],
   "outputs": [],
   "metadata": {}
  },
  {
   "cell_type": "code",
   "execution_count": 16,
   "source": [
    "merged_df.rename(columns={'index':'steam_appid'},inplace=True)"
   ],
   "outputs": [],
   "metadata": {}
  },
  {
   "cell_type": "code",
   "execution_count": 28,
   "source": [
    "merged_df.info()"
   ],
   "outputs": [
    {
     "output_type": "stream",
     "name": "stdout",
     "text": [
      "<class 'pandas.core.frame.DataFrame'>\n",
      "RangeIndex: 49417 entries, 0 to 49416\n",
      "Data columns (total 12 columns):\n",
      " #   Column             Non-Null Count  Dtype         \n",
      "---  ------             --------------  -----         \n",
      " 0   steam_appid        49417 non-null  int64         \n",
      " 1   type               49417 non-null  object        \n",
      " 2   name               49417 non-null  object        \n",
      " 3   about_the_game     49417 non-null  object        \n",
      " 4   short_description  49417 non-null  object        \n",
      " 5   developers         49417 non-null  object        \n",
      " 6   publishers         49417 non-null  object        \n",
      " 7   categories         49417 non-null  object        \n",
      " 8   genres             49417 non-null  object        \n",
      " 9   release_date       49417 non-null  datetime64[ns]\n",
      " 10  popularity         49417 non-null  float64       \n",
      " 11  rating             49417 non-null  float64       \n",
      "dtypes: datetime64[ns](1), float64(2), int64(1), object(8)\n",
      "memory usage: 4.5+ MB\n"
     ]
    }
   ],
   "metadata": {}
  },
  {
   "cell_type": "code",
   "execution_count": 27,
   "source": [
    "null_check = merged_df.isna()\r\n",
    "null_check.loc[null_check.values == True]"
   ],
   "outputs": [
    {
     "output_type": "execute_result",
     "data": {
      "text/plain": [
       "Empty DataFrame\n",
       "Columns: [steam_appid, type, name, about_the_game, short_description, developers, publishers, categories, genres, release_date, popularity, rating]\n",
       "Index: []"
      ],
      "text/html": [
       "<div>\n",
       "<style scoped>\n",
       "    .dataframe tbody tr th:only-of-type {\n",
       "        vertical-align: middle;\n",
       "    }\n",
       "\n",
       "    .dataframe tbody tr th {\n",
       "        vertical-align: top;\n",
       "    }\n",
       "\n",
       "    .dataframe thead th {\n",
       "        text-align: right;\n",
       "    }\n",
       "</style>\n",
       "<table border=\"1\" class=\"dataframe\">\n",
       "  <thead>\n",
       "    <tr style=\"text-align: right;\">\n",
       "      <th></th>\n",
       "      <th>steam_appid</th>\n",
       "      <th>type</th>\n",
       "      <th>name</th>\n",
       "      <th>about_the_game</th>\n",
       "      <th>short_description</th>\n",
       "      <th>developers</th>\n",
       "      <th>publishers</th>\n",
       "      <th>categories</th>\n",
       "      <th>genres</th>\n",
       "      <th>release_date</th>\n",
       "      <th>popularity</th>\n",
       "      <th>rating</th>\n",
       "    </tr>\n",
       "  </thead>\n",
       "  <tbody>\n",
       "  </tbody>\n",
       "</table>\n",
       "</div>"
      ]
     },
     "metadata": {},
     "execution_count": 27
    }
   ],
   "metadata": {}
  },
  {
   "cell_type": "code",
   "execution_count": 44,
   "source": [
    "#es.indices.delete(index='test-index')\r\n",
    "# es.indices.delete(index='steam_index_bm25')\r\n",
    "# es.indices.delete(index='steam_index_dfr')\r\n",
    "# index_name = 'steam_index_bm25'\r\n"
   ],
   "outputs": [],
   "metadata": {}
  },
  {
   "cell_type": "code",
   "execution_count": 29,
   "source": [
    "# set index name\r\n",
    "index_name = 'steam_index_bm25'\r\n",
    "# BM25 (Default index)\r\n",
    "request_body_bm25 = {\r\n",
    "      'settings': {\r\n",
    "            'number_of_shards': 1,\r\n",
    "            'number_of_replicas': 1\r\n",
    "            },\r\n",
    "      'mappings': {\r\n",
    "            'properties': {\r\n",
    "                  'app_id':{'type': 'integer'},\r\n",
    "                  'name': {'type': 'text'},\r\n",
    "                  'short_description': {\r\n",
    "                        'type': 'text',\r\n",
    "                        'analyzer': 'english'\r\n",
    "                        },\r\n",
    "                  'about_the_game': {\r\n",
    "                        'type': 'text',\r\n",
    "                        'analyzer': 'english'\r\n",
    "                        },\r\n",
    "                  'developers': {\r\n",
    "                        \"type\": \"text\",\r\n",
    "                        \"fields\": {\r\n",
    "                              \"raw\": {\r\n",
    "                                    \"type\": \"keyword\"\r\n",
    "                                    }\r\n",
    "                              }\r\n",
    "                        },\r\n",
    "                  'publishers': {\r\n",
    "                        \"type\": \"text\",\r\n",
    "                        \"fields\": {\r\n",
    "                              \"raw\": {\r\n",
    "                                    \"type\": \"keyword\"\r\n",
    "                                    }\r\n",
    "                              }\r\n",
    "                        },\r\n",
    "                  'categories': {\r\n",
    "                        \"type\": \"text\",\r\n",
    "                        \"fields\": {\r\n",
    "                              \"raw\": {\r\n",
    "                                    \"type\": \"keyword\"\r\n",
    "                                    }\r\n",
    "                              }\r\n",
    "                        },\r\n",
    "                  'genres': {\r\n",
    "                        \"type\": \"text\",\r\n",
    "                        \"fields\": {\r\n",
    "                              \"raw\": {\r\n",
    "                                    \"type\": \"keyword\"\r\n",
    "                                    }\r\n",
    "                              }\r\n",
    "                        },\r\n",
    "                  'release_date': {'type': 'date'},\r\n",
    "                  'popularity':{'type':'float'},\r\n",
    "                  'rating':{'type':'float'}\r\n",
    "                  }\r\n",
    "            }\r\n",
    "      }\r\n",
    "\r\n",
    "try:\r\n",
    "    es.indices.get(index_name)\r\n",
    "    print('index {} already exists'.format(index_name))\r\n",
    "except:\r\n",
    "    print('creating index {}'.format(index_name))\r\n",
    "    es.indices.create(index_name, body=request_body_bm25)\r\n",
    "    print('{} index created successfully'.format(index_name))"
   ],
   "outputs": [
    {
     "output_type": "stream",
     "name": "stdout",
     "text": [
      "creating index steam_index_bm25\n",
      "steam_index_bm25 index created successfully\n"
     ]
    }
   ],
   "metadata": {
    "tags": []
   }
  },
  {
   "cell_type": "code",
   "execution_count": 30,
   "source": [
    "merged_df.iloc[:,[0,2,3,4,5,6,7,8,9,10,11]].values"
   ],
   "outputs": [
    {
     "output_type": "execute_result",
     "data": {
      "text/plain": [
       "array([[10, 'Counter-Strike',\n",
       "        \"Play the world's number 1 online action game. Engage in an incredibly realistic brand of terrorist warfare in this wildly popular team-based game. Ally with teammates to complete strategic missions. Take out enemy sites. Rescue hostages. Your role affects your team's success. Your team's success affects your role.\",\n",
       "        ..., Timestamp('2000-01-11 00:00:00'), 0.8181818181818182,\n",
       "        38.60699720970165],\n",
       "       [20, 'Team Fortress Classic',\n",
       "        'One of the most popular online action games of all time, Team Fortress Classic features over nine character classes -- from Medic to Spy to Demolition Man -- enlisted in a unique style of online team warfare. Each character class possesses unique weapons, items, and abilities, as teams compete online in a variety of game play modes.',\n",
       "        ..., Timestamp('1999-01-04 00:00:00'), 0.6363636363636364,\n",
       "        5.924705882352941],\n",
       "       [30, 'Day of Defeat',\n",
       "        'Enlist in an intense brand of Axis vs. Allied teamplay set in the WWII European Theatre of Operations. Players assume the role of light/assault/heavy infantry, sniper or machine-gunner class, each with a unique arsenal of historical weaponry at their disposal. Missions are based on key historical operations. And, as war rages, players must work together with their squad to accomplish a variety of mission-specific objectives.',\n",
       "        ..., Timestamp('2003-01-05 00:00:00'), 0.7272727272727273,\n",
       "        8.926966292134832],\n",
       "       ...,\n",
       "       [1692480, 'Cavern Commandos',\n",
       "        'Inspired by classic platformers like Rick Dangerous, Cavern Commandos offers a challenging gaming experience with numerous weapons, hundreds of foes, and dozens of labyrinthine caverns.',\n",
       "        ..., Timestamp('2021-06-07 00:00:00'), 0.0, 0.0],\n",
       "       [1692580, 'Hidden Shapes Black Skull - Jigsaw Puzzle Game',\n",
       "        'Disconnect yourself from the world with this game and its beautiful art, inspired by the world of Pirates, created especially for you to relax, be inspired and have fun! Be amazed by the minimalist style and the fine art of this game! So that you can have fun and enjoy the game more, after solving a puzzle the complete art will be released, so at any time you can have fun again solving the entire puzzle. - Steam Community  Do not forget to follow us to know the news of this game and others!',\n",
       "        ..., Timestamp('2021-06-08 00:00:00'), 0.0, 0.0],\n",
       "       [1692590, 'Puzzles with cats',\n",
       "        'Hey! Have you already heard about the new game &quot;  Puzzles with cats  &quot;?  Puzzles with cats is a classic puzzle that invites you to put together a picture from a huge amount of details!⁃ &quot; How do I understand what exactly I need to collect?&quot; - Do not worry! As a hint in the upper right corner, you can always see what should come out in the end!  Puzzles with cats is a very interesting game, in each level you have to collect a super cute picture with a cat! By the way, in the game, we have collected 30 levels for you - this is as much as 30 fascinating puzzles that you need to solve! To open all the puzzles, you need to put the pictures in turn, starting with the first one. Collect the entire collection of jigsaw puzzles to have fun! Well, I invite you to quickly fold the picture in order to see the result and quickly proceed to the rest of the puzzles. Have a good game!',\n",
       "        ..., Timestamp('2021-06-07 00:00:00'), 0.0, 0.0]], dtype=object)"
      ]
     },
     "metadata": {},
     "execution_count": 30
    }
   ],
   "metadata": {}
  },
  {
   "cell_type": "code",
   "execution_count": 31,
   "source": [
    "for i, (appid, name, about_the_game, short_description,\r\n",
    "       developers, publishers, categories, \r\n",
    "       genres, release_date, popularity, rating) in enumerate(merged_df.iloc[:,[0,2,3,4,5,6,7,8,9,10,11]].values):\r\n",
    "    doc_body = {\r\n",
    "              'app_id': appid,\r\n",
    "              'title': name,\r\n",
    "              'short_description': short_description,\r\n",
    "              'about_the_game': about_the_game,\r\n",
    "              'developers': developers,\r\n",
    "              'publishers': publishers,\r\n",
    "              'categories': categories,\r\n",
    "              'genres': genres,\r\n",
    "              'release_date': release_date,\r\n",
    "              'popularity': popularity,\r\n",
    "              'rating': rating\r\n",
    "              }\r\n",
    "    es.index(index_name, doc_body, id=i)\r\n",
    "print('{} index populated successfully'.format(index_name))"
   ],
   "outputs": [
    {
     "output_type": "stream",
     "name": "stdout",
     "text": [
      "steam_index_bm25 index populated successfully\n"
     ]
    }
   ],
   "metadata": {}
  },
  {
   "cell_type": "code",
   "execution_count": 32,
   "source": [
    "print('we have made and index called {} with {} documents'.format(index_name, es.cat.count(index=index_name,h=['count'])))\r\n",
    "index_info(index_name)"
   ],
   "outputs": [
    {
     "output_type": "stream",
     "name": "stdout",
     "text": [
      "we have made and index called steam_index_bm25 with 49417\n",
      " documents\n",
      "\n",
      "      #### INDEX INFO #####\n",
      "      index_name = steam_index_bm25\n",
      "      doc_count = 49417\n",
      "      shard_count = 1\n",
      "      deleted_doc_count = 0\n",
      "      \n"
     ]
    }
   ],
   "metadata": {}
  },
  {
   "cell_type": "code",
   "execution_count": 42,
   "source": [
    "index_name = 'steam_index_dfr'\r\n",
    "#DFR index\r\n",
    "request_body_dfr = {\r\n",
    "    'settings': {\r\n",
    "        'number_of_shards': 1,\r\n",
    "        'number_of_replicas': 1,\r\n",
    "        'index': {'similarity': {\r\n",
    "            'dfr_similarity': {\r\n",
    "                'type': 'DFR',\r\n",
    "                'basic_model': 'g',\r\n",
    "                'after_effect': 'l',\r\n",
    "                'normalization': 'h2',\r\n",
    "                'normalization.h2.c':'3.0'\r\n",
    "                }\r\n",
    "            }\r\n",
    "        }\r\n",
    "    },\r\n",
    "    'mappings': {\r\n",
    "        'properties': {\r\n",
    "            'app_id':{'type': 'integer'},\r\n",
    "            'title': {\r\n",
    "                'type': 'text',\r\n",
    "                'similarity': 'dfr_similarity'\r\n",
    "                },\r\n",
    "            'short_description': {\r\n",
    "                'type': 'text',\r\n",
    "                'analyzer': 'english',\r\n",
    "                'similarity': 'dfr_similarity'\r\n",
    "                },\r\n",
    "            'about_the_game': {\r\n",
    "                'type': 'text',\r\n",
    "                'analyzer': 'english',\r\n",
    "                'similarity': 'dfr_similarity'\r\n",
    "                },\r\n",
    "            'developer': {\r\n",
    "                \"type\": \"text\",\r\n",
    "                'similarity': 'dfr_similarity',\r\n",
    "                \"fields\": {\r\n",
    "                    \"raw\": {\r\n",
    "                        \"type\": \"keyword\"\r\n",
    "                        }\r\n",
    "                    }\r\n",
    "                },\r\n",
    "            'publisher': {\r\n",
    "                \"type\": \"text\",\r\n",
    "                'similarity': 'dfr_similarity',\r\n",
    "                \"fields\": {\r\n",
    "                    \"raw\": {\r\n",
    "                        \"type\": \"keyword\"\r\n",
    "                        }\r\n",
    "                    }\r\n",
    "                },\r\n",
    "            'categories': {\r\n",
    "                \"type\": \"text\",\r\n",
    "                'similarity': 'dfr_similarity',\r\n",
    "                \"fields\": {\r\n",
    "                    \"raw\": {\r\n",
    "                        \"type\": \"keyword\"\r\n",
    "                        }\r\n",
    "                    }\r\n",
    "                },\r\n",
    "            'genres': {\r\n",
    "                \"type\": \"text\",\r\n",
    "                'similarity': 'dfr_similarity',\r\n",
    "                \"fields\": {\r\n",
    "                    \"raw\": {\r\n",
    "                        \"type\": \"keyword\"\r\n",
    "                        }\r\n",
    "                    }\r\n",
    "                },\r\n",
    "            'release_date': {'type': 'date'},\r\n",
    "            'popularity':{'type':'float'},\r\n",
    "            'rating':{'type':'integer'}\r\n",
    "        }\r\n",
    "    }\r\n",
    "}\r\n",
    "try:\r\n",
    "    es.indices.get(index_name)\r\n",
    "    print('index {} already exists'.format(index_name))\r\n",
    "except:\r\n",
    "    print('creating index {}'.format(index_name))\r\n",
    "    es.indices.create(index_name, body=request_body_dfr)\r\n",
    "    print('{} index created successfully'.format(index_name))"
   ],
   "outputs": [
    {
     "output_type": "stream",
     "name": "stdout",
     "text": [
      "creating index steam_index_dfr\n",
      "steam_index_dfr index created successfully\n"
     ]
    }
   ],
   "metadata": {
    "collapsed": true,
    "jupyter": {
     "outputs_hidden": true,
     "source_hidden": true
    },
    "tags": []
   }
  },
  {
   "cell_type": "code",
   "execution_count": null,
   "source": [
    "for i, (appid, name, about_the_game, short_description,\r\n",
    "       developers, publishers, categories, \r\n",
    "       genres, release_date, popularity, rating) in enumerate(merged_df.values[:,[0,2,3,4,5,6,7,8,9,10,11]]):\r\n",
    "    doc_body = {\r\n",
    "              'app_id': appid,\r\n",
    "              'title': name,\r\n",
    "              'short_description': short_description,\r\n",
    "              'about_the_game': about_the_game,\r\n",
    "              'developers': developers,\r\n",
    "              'publishers': publishers,\r\n",
    "              'categories': categories,\r\n",
    "              'genres': genres,\r\n",
    "              'release_date': release_date,\r\n",
    "              'popularity': popularity,\r\n",
    "              'rating': rating\r\n",
    "              }\r\n",
    "    es.index(index_name, doc_body, id=i)\r\n",
    "print('{} index populated successfully'.format(index_name))"
   ],
   "outputs": [],
   "metadata": {
    "jupyter": {
     "source_hidden": true
    },
    "tags": []
   }
  },
  {
   "cell_type": "code",
   "execution_count": null,
   "source": [
    "print('we have made and index called {} with {} documents'.format(index_name, es.cat.count(index=index_name,h=['count'])))\r\n",
    "index_info(index_name)"
   ],
   "outputs": [],
   "metadata": {
    "collapsed": true,
    "jupyter": {
     "outputs_hidden": true,
     "source_hidden": true
    },
    "tags": []
   }
  },
  {
   "cell_type": "code",
   "execution_count": 53,
   "source": [
    "query = 'dragon'\r\n",
    "fields = [\"title\", \"short_description\", 'about_the_game', 'developer', 'categories', 'genres']\r\n",
    "\r\n",
    "# start_date = my_result.result[0]\r\n",
    "start_date = datetime('1995')\r\n",
    "# # end_date = my_result.result[1]\r\n",
    "end_date = str('2018')\r\n",
    "\r\n",
    "# genre = genres_drop.value\r\n",
    "# category = categories_drop.value\r\n",
    "\r\n",
    "query_body = {\r\n",
    "    \"query\": {\r\n",
    "        'function_score':{\r\n",
    "            'query':{\r\n",
    "                \"bool\": {\r\n",
    "                    \"must\": [{\r\n",
    "                        \"multi_match\": {\r\n",
    "                            \"query\": query,\r\n",
    "                            \"fields\":  fields\r\n",
    "                        }\r\n",
    "                    }],\r\n",
    "                    # \"must\": [{\r\n",
    "                    #     'range': {\r\n",
    "                    #         'release_date': {\r\n",
    "                    #             'gte': start_date,\r\n",
    "                    #             'lte': end_date\r\n",
    "                    #         }\r\n",
    "                    #     }\r\n",
    "                    # }],\r\n",
    "                    'should':[{\r\n",
    "                        'function_score':{\r\n",
    "                            'field_value_factor': {\r\n",
    "                                'field': 'popularity',\r\n",
    "                                'factor': 1,'missing':0\r\n",
    "                                }\r\n",
    "                            }\r\n",
    "                        },{ \r\n",
    "                        'function_score': {\r\n",
    "                            'field_value_factor': {\r\n",
    "                                'field': 'rating',\r\n",
    "                                'factor': 0.001,\r\n",
    "                                # 'modifier':'square',\r\n",
    "                                'missing': 0\r\n",
    "                            }\r\n",
    "                        },\r\n",
    "                    }],\r\n",
    "                    # 'filter':[{\r\n",
    "                    #     'wildcard': {\r\n",
    "                    #         'genres.raw': genre\r\n",
    "                    #     },\r\n",
    "                    #     'wildcard': {\r\n",
    "                    #         'categories.raw': category\r\n",
    "                    #     }\r\n",
    "                    # }]\r\n",
    "                }\r\n",
    "            }\r\n",
    "        }\r\n",
    "    }\r\n",
    "}\r\n",
    "\r\n",
    "print('### RESULTS ####')\r\n",
    "explain= False\r\n",
    "results = es.search(index=index_name, body=query_body, explain=explain)['hits']['hits']\r\n",
    "for hit in results:\r\n",
    "    print(\r\n",
    "        \"\"\"\r\n",
    "        title: {}, \r\n",
    "        score: {}\r\n",
    "        popularity: {}\r\n",
    "        rating: {}\"\"\"\r\n",
    "        .format(hit['_source']['title'],\r\n",
    "                # hit['_source']['release_date'],\r\n",
    "                hit['_score'],\r\n",
    "                hit['_source']['popularity'],\r\n",
    "                hit['_source']['rating']\r\n",
    "                )\r\n",
    "        )\r\n",
    "if explain:\r\n",
    "    print('some info on results')\r\n",
    "    pprint(dict(hit['_explanation']))"
   ],
   "outputs": [
    {
     "output_type": "stream",
     "name": "stdout",
     "text": [
      "### RESULTS ####\n",
      "\n",
      "        title: Dragon Age: Origins - Ultimate Edition, \n",
      "        score: 8.613654\n",
      "        popularity: 0.5454545454545454\n",
      "        rating: 10.1875\n",
      "\n",
      "        title: Dragon Creek, \n",
      "        score: 8.513478\n",
      "        popularity: 0.0\n",
      "        rating: 16.5\n",
      "\n",
      "        title: School of Dragons, \n",
      "        score: 8.30145\n",
      "        popularity: 0.5454545454545454\n",
      "        rating: 1.2547547547547548\n",
      "\n",
      "        title: Dragonia, \n",
      "        score: 8.205552\n",
      "        popularity: 0.3636363636363636\n",
      "        rating: 5.449048152295632\n",
      "\n",
      "        title: Liege Dragon, \n",
      "        score: 8.187167\n",
      "        popularity: 0.2727272727272727\n",
      "        rating: 0.0\n",
      "\n",
      "        title: Dragon's Sin, \n",
      "        score: 8.112987\n",
      "        popularity: 0.3636363636363636\n",
      "        rating: 2.046052631578948\n",
      "\n",
      "        title: Elmarion: Dragon's Princess, \n",
      "        score: 8.111111\n",
      "        popularity: 0.1818181818181818\n",
      "        rating: 5.0\n",
      "\n",
      "        title: Dragons and Titans, \n",
      "        score: 8.088365\n",
      "        popularity: 0.5454545454545454\n",
      "        rating: 3.512649800266312\n",
      "\n",
      "        title: DRAGON BALL XENOVERSE 2, \n",
      "        score: 8.036694\n",
      "        popularity: 0.4545454545454545\n",
      "        rating: 6.493030882754851\n",
      "\n",
      "        title: Dragon's Prophet, \n",
      "        score: 7.958708\n",
      "        popularity: 0.3636363636363636\n",
      "        rating: 2.2406015037593985\n"
     ]
    }
   ],
   "metadata": {}
  },
  {
   "cell_type": "markdown",
   "source": [
    "***\r\n",
    "\r\n",
    "***"
   ],
   "metadata": {}
  },
  {
   "cell_type": "code",
   "execution_count": null,
   "source": [
    "genres_list = []\r\n",
    "for genres in games.genres:\r\n",
    "    for g in genres:\r\n",
    "        genre_list.append(g)\r\n",
    "        \r\n",
    "genres_list = list(set(genre_list)) + ['*']   \r\n",
    "\r\n",
    "categories_list = []\r\n",
    "for categories in games.categories:\r\n",
    "    for c in categories:\r\n",
    "        categories_list.append(c)\r\n",
    "        \r\n",
    "categories_list = list(set(categories_list)) + ['*'] "
   ],
   "outputs": [],
   "metadata": {}
  },
  {
   "cell_type": "code",
   "execution_count": null,
   "source": [
    "import ipywidgets as widgets\r\n",
    "import pandas as pd\r\n",
    "from datetime import datetime\r\n",
    "from ipywidgets import interactive\r\n",
    "from IPython.display import display, Markdown, clear_output\r\n",
    "\r\n",
    "\r\n",
    "dates = pd.date_range(games.release_date.min(), games.release_date.max())\r\n",
    "\r\n",
    "options = [(date.strftime(' %d\\%m\\%Y '), date) for date in dates]\r\n",
    "index = (0, len(options)-1)\r\n",
    "\r\n",
    "selection_range_slider = widgets.SelectionRangeSlider(\r\n",
    "    options=options,\r\n",
    "    index=index,\r\n",
    "    description='Dates',\r\n",
    "    orientation='horizontal',\r\n",
    "    layout={'width': '500px'}\r\n",
    ")\r\n",
    "\r\n",
    "# Define any function\r\n",
    "def return_dates(date_range):\r\n",
    "    return date_range\r\n",
    "\r\n",
    "# Create sliders using interactive\r\n",
    "my_result = interactive(return_dates, date_range = selection_range_slider)\r\n",
    "\r\n",
    "text = widgets.Text(\r\n",
    "       placeholder = 'type query',\r\n",
    "       description='Search',\r\n",
    "        layout={'width': '500px'})\r\n",
    "\r\n",
    "button = widgets.Button(description='search')\r\n",
    "out = widgets.Output()\r\n",
    "\r\n",
    "def on_button_clicked(_):\r\n",
    "      # \"linking function with output\"\r\n",
    "    with out:\r\n",
    "      # what happens when we press the button\r\n",
    "        clear_output()\r\n",
    "        search()\r\n",
    "    \r\n",
    "# linking button and function together using a button's method\r\n",
    "button.on_click(on_button_clicked)\r\n",
    "\r\n",
    "genres_drop = widgets.Dropdown(description='genres',\r\n",
    "                options= genres_list, value='*')\r\n",
    "\r\n",
    "categories_drop = widgets.Dropdown(description='categories',\r\n",
    "                                   options= categories_list, value='*')\r\n",
    "\r\n",
    "# You can also view this in a notebook without using display.\r\n",
    "display(text, my_result, genres_drop, categories_drop, button, out)"
   ],
   "outputs": [],
   "metadata": {}
  },
  {
   "cell_type": "code",
   "execution_count": null,
   "source": [],
   "outputs": [],
   "metadata": {}
  }
 ],
 "metadata": {
  "kernelspec": {
   "name": "python3",
   "display_name": "Python 3.8.10 64-bit ('Latest': conda)"
  },
  "language_info": {
   "codemirror_mode": {
    "name": "ipython",
    "version": 3
   },
   "file_extension": ".py",
   "mimetype": "text/x-python",
   "name": "python",
   "nbconvert_exporter": "python",
   "pygments_lexer": "ipython3",
   "version": "3.8.10"
  },
  "interpreter": {
   "hash": "c3e4c92655df72f09200b5c392c3cdb2bcde9b6d779510dd5f151645d2773f89"
  }
 },
 "nbformat": 4,
 "nbformat_minor": 5
}