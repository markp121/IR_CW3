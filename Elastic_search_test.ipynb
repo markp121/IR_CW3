{
 "cells": [
  {
   "cell_type": "code",
   "execution_count": 2,
   "id": "e3861302-12ab-4f04-9c83-4c00c01d8fc2",
   "metadata": {},
   "outputs": [],
   "source": [
    "import urllib.request \n",
    "import re\n",
    "from elasticsearch import Elasticsearch"
   ]
  },
  {
   "cell_type": "code",
   "execution_count": 3,
   "id": "c4525bbc-6943-47ae-9deb-7a6d7966a348",
   "metadata": {},
   "outputs": [],
   "source": [
    "import requests\n",
    "# run bin/elasticsearch in elasticsearch directory in terminal before running this cell\n",
    "res = requests.get('http://localhost:9200')"
   ]
  },
  {
   "cell_type": "code",
   "execution_count": 4,
   "id": "d45b987b-3bdd-4445-ab9d-cfd9bc474d52",
   "metadata": {},
   "outputs": [],
   "source": [
    "es = Elasticsearch([{'host': 'localhost', 'port': 9200}])"
   ]
  },
  {
   "cell_type": "code",
   "execution_count": 5,
   "id": "be4b0853-c745-4d61-81e1-c387a4e94f97",
   "metadata": {},
   "outputs": [],
   "source": [
    "def test_ES(es):\n",
    "    return es.ping()  # got True"
   ]
  },
  {
   "cell_type": "code",
   "execution_count": 6,
   "id": "24ebff89-c732-4043-83e6-37adeb694b3f",
   "metadata": {},
   "outputs": [
    {
     "output_type": "stream",
     "name": "stdout",
     "text": [
      "ES instance working\n"
     ]
    }
   ],
   "source": [
    "if test_ES(es):\n",
    "    print('ES instance working')\n",
    "else:\n",
    "    print('ES instance not working')"
   ]
  },
  {
   "cell_type": "code",
   "execution_count": 7,
   "id": "688a6773-7916-4271-a543-41300990c50f",
   "metadata": {},
   "outputs": [],
   "source": [
    "def index_info(index_name):\n",
    "    count, deleted, shards, =  es.cat.indices(index=index_name, h=['docs.count', 'docs.deleted', 'pri'])[:-1].split(' ')\n",
    "    print(\n",
    "      \"\"\"\n",
    "      #### INDEX INFO #####\n",
    "      index_name = {}\n",
    "      doc_count = {}\n",
    "      shard_count = {}\n",
    "      deleted_doc_count = {}\n",
    "      \"\"\".format(index_name, count, shards, deleted)\n",
    "  )"
   ]
  },
  {
   "cell_type": "code",
   "execution_count": 8,
   "id": "f2671290-c2f1-4a75-8aa1-8b599de36d6b",
   "metadata": {},
   "outputs": [],
   "source": [
    "import pandas as pd\n",
    "# read data from steam data directory \n",
    "games = pd.read_pickle('final_data.pickle')"
   ]
  },
  {
   "cell_type": "code",
   "execution_count": 29,
   "metadata": {},
   "outputs": [
    {
     "output_type": "execute_result",
     "data": {
      "text/plain": [
       "       type                                            name  steam_appid  \\\n",
       "0      game                                  Counter-Strike           10   \n",
       "1      game                           Team Fortress Classic           20   \n",
       "2      game                                   Day of Defeat           30   \n",
       "3      game                              Deathmatch Classic           40   \n",
       "4      game                       Half-Life: Opposing Force           50   \n",
       "...     ...                                             ...          ...   \n",
       "57307  game                             Football tournament      1691700   \n",
       "57308  game                            Survival Escape Room      1691760   \n",
       "57311  game                                Cavern Commandos      1692480   \n",
       "57312  game  Hidden Shapes Black Skull - Jigsaw Puzzle Game      1692580   \n",
       "57313  game                               Puzzles with cats      1692590   \n",
       "\n",
       "               developers         publishers  \\\n",
       "0                 [Valve]            [Valve]   \n",
       "1                 [Valve]            [Valve]   \n",
       "2                 [Valve]            [Valve]   \n",
       "3                 [Valve]            [Valve]   \n",
       "4      [Gearbox Software]            [Valve]   \n",
       "...                   ...                ...   \n",
       "57307   [Phoenixxx Games]  [Phoenixxx Games]   \n",
       "57308       [Braden Frye]       [Frye Games]   \n",
       "57311      [Soiree Games]     [Soiree Games]   \n",
       "57312       [YAW Studios]      [YAW Studios]   \n",
       "57313     [wow wow Games]    [wow wow Games]   \n",
       "\n",
       "                                              categories  \\\n",
       "0      [Multi-player, PvP, Online PvP, Shared/Split S...   \n",
       "1      [Multi-player, PvP, Online PvP, Shared/Split S...   \n",
       "2               [Multi-player, Valve Anti-Cheat enabled]   \n",
       "3      [Multi-player, PvP, Online PvP, Shared/Split S...   \n",
       "4      [Single-player, Multi-player, Valve Anti-Cheat...   \n",
       "...                                                  ...   \n",
       "57307                                    [Single-player]   \n",
       "57308                                    [Single-player]   \n",
       "57311           [Single-player, Full controller support]   \n",
       "57312                [Single-player, Steam Achievements]   \n",
       "57313                                    [Single-player]   \n",
       "\n",
       "                                    genres  \\\n",
       "0                                 [Action]   \n",
       "1                                 [Action]   \n",
       "2                                 [Action]   \n",
       "3                                 [Action]   \n",
       "4                                 [Action]   \n",
       "...                                    ...   \n",
       "57307  [Casual, Indie, Simulation, Sports]   \n",
       "57308                              [Indie]   \n",
       "57311                      [Action, Indie]   \n",
       "57312                      [Casual, Indie]   \n",
       "57313                      [Casual, Indie]   \n",
       "\n",
       "                                    about_the_game_clean  \\\n",
       "0      play world number 1 online action game engage ...   \n",
       "1      one popular online action game time team fortr...   \n",
       "2      enlist intense brand axis v allied teamplay se...   \n",
       "3      enjoy fast paced multiplayer gaming deathmatch...   \n",
       "4      return black mesa research facility one milita...   \n",
       "...                                                  ...   \n",
       "57307  football united country world football field n...   \n",
       "57308  welcome survival escape room youve kidnapped m...   \n",
       "57311  inspired classic platformers like rick dangero...   \n",
       "57312  disconnect world game beautiful art inspired w...   \n",
       "57313  hey already heard new game quot puzzle cat quo...   \n",
       "\n",
       "                                 short_description_clean release_date  \\\n",
       "0      play world number 1 online action game engage ...   2000-11-01   \n",
       "1      one popular online action game time team fortr...   1999-04-01   \n",
       "2      enlist intense brand axis v allied teamplay se...   2003-05-01   \n",
       "3      enjoy fast paced multiplayer gaming deathmatch...   2001-06-01   \n",
       "4      return black mesa research facility one milita...   1999-11-01   \n",
       "...                                                  ...          ...   \n",
       "57307  football united country world football field n...   2021-07-02   \n",
       "57308  youve kidnapped much time escape keep mind one...   2021-07-23   \n",
       "57311  inspired classic platformers like rick dangero...   2021-07-06   \n",
       "57312  relax beautiful hand drawn puzzle inspired wor...   2021-08-06   \n",
       "57313  puzzle cat classic puzzle invite put together ...   2021-07-06   \n",
       "\n",
       "                                          about_the_game  \n",
       "0      Play the world's number 1 online action game. ...  \n",
       "1      One of the most popular online action games of...  \n",
       "2      Enlist in an intense brand of Axis vs. Allied ...  \n",
       "3      Enjoy fast paced multiplayer gaming with Death...  \n",
       "4      Return to the Black Mesa Research Facility as ...  \n",
       "...                                                  ...  \n",
       "57307  Football has united all the countries of the w...  \n",
       "57308  Welcome to Survival Escape Room, You've been k...  \n",
       "57311  Inspired by classic platformers like Rick Dang...  \n",
       "57312  Disconnect yourself from the world with this g...  \n",
       "57313  Hey! Have you already heard about the new game...  \n",
       "\n",
       "[49317 rows x 11 columns]"
      ],
      "text/html": "<div>\n<style scoped>\n    .dataframe tbody tr th:only-of-type {\n        vertical-align: middle;\n    }\n\n    .dataframe tbody tr th {\n        vertical-align: top;\n    }\n\n    .dataframe thead th {\n        text-align: right;\n    }\n</style>\n<table border=\"1\" class=\"dataframe\">\n  <thead>\n    <tr style=\"text-align: right;\">\n      <th></th>\n      <th>type</th>\n      <th>name</th>\n      <th>steam_appid</th>\n      <th>developers</th>\n      <th>publishers</th>\n      <th>categories</th>\n      <th>genres</th>\n      <th>about_the_game_clean</th>\n      <th>short_description_clean</th>\n      <th>release_date</th>\n      <th>about_the_game</th>\n    </tr>\n  </thead>\n  <tbody>\n    <tr>\n      <th>0</th>\n      <td>game</td>\n      <td>Counter-Strike</td>\n      <td>10</td>\n      <td>[Valve]</td>\n      <td>[Valve]</td>\n      <td>[Multi-player, PvP, Online PvP, Shared/Split S...</td>\n      <td>[Action]</td>\n      <td>play world number 1 online action game engage ...</td>\n      <td>play world number 1 online action game engage ...</td>\n      <td>2000-11-01</td>\n      <td>Play the world's number 1 online action game. ...</td>\n    </tr>\n    <tr>\n      <th>1</th>\n      <td>game</td>\n      <td>Team Fortress Classic</td>\n      <td>20</td>\n      <td>[Valve]</td>\n      <td>[Valve]</td>\n      <td>[Multi-player, PvP, Online PvP, Shared/Split S...</td>\n      <td>[Action]</td>\n      <td>one popular online action game time team fortr...</td>\n      <td>one popular online action game time team fortr...</td>\n      <td>1999-04-01</td>\n      <td>One of the most popular online action games of...</td>\n    </tr>\n    <tr>\n      <th>2</th>\n      <td>game</td>\n      <td>Day of Defeat</td>\n      <td>30</td>\n      <td>[Valve]</td>\n      <td>[Valve]</td>\n      <td>[Multi-player, Valve Anti-Cheat enabled]</td>\n      <td>[Action]</td>\n      <td>enlist intense brand axis v allied teamplay se...</td>\n      <td>enlist intense brand axis v allied teamplay se...</td>\n      <td>2003-05-01</td>\n      <td>Enlist in an intense brand of Axis vs. Allied ...</td>\n    </tr>\n    <tr>\n      <th>3</th>\n      <td>game</td>\n      <td>Deathmatch Classic</td>\n      <td>40</td>\n      <td>[Valve]</td>\n      <td>[Valve]</td>\n      <td>[Multi-player, PvP, Online PvP, Shared/Split S...</td>\n      <td>[Action]</td>\n      <td>enjoy fast paced multiplayer gaming deathmatch...</td>\n      <td>enjoy fast paced multiplayer gaming deathmatch...</td>\n      <td>2001-06-01</td>\n      <td>Enjoy fast paced multiplayer gaming with Death...</td>\n    </tr>\n    <tr>\n      <th>4</th>\n      <td>game</td>\n      <td>Half-Life: Opposing Force</td>\n      <td>50</td>\n      <td>[Gearbox Software]</td>\n      <td>[Valve]</td>\n      <td>[Single-player, Multi-player, Valve Anti-Cheat...</td>\n      <td>[Action]</td>\n      <td>return black mesa research facility one milita...</td>\n      <td>return black mesa research facility one milita...</td>\n      <td>1999-11-01</td>\n      <td>Return to the Black Mesa Research Facility as ...</td>\n    </tr>\n    <tr>\n      <th>...</th>\n      <td>...</td>\n      <td>...</td>\n      <td>...</td>\n      <td>...</td>\n      <td>...</td>\n      <td>...</td>\n      <td>...</td>\n      <td>...</td>\n      <td>...</td>\n      <td>...</td>\n      <td>...</td>\n    </tr>\n    <tr>\n      <th>57307</th>\n      <td>game</td>\n      <td>Football tournament</td>\n      <td>1691700</td>\n      <td>[Phoenixxx Games]</td>\n      <td>[Phoenixxx Games]</td>\n      <td>[Single-player]</td>\n      <td>[Casual, Indie, Simulation, Sports]</td>\n      <td>football united country world football field n...</td>\n      <td>football united country world football field n...</td>\n      <td>2021-07-02</td>\n      <td>Football has united all the countries of the w...</td>\n    </tr>\n    <tr>\n      <th>57308</th>\n      <td>game</td>\n      <td>Survival Escape Room</td>\n      <td>1691760</td>\n      <td>[Braden Frye]</td>\n      <td>[Frye Games]</td>\n      <td>[Single-player]</td>\n      <td>[Indie]</td>\n      <td>welcome survival escape room youve kidnapped m...</td>\n      <td>youve kidnapped much time escape keep mind one...</td>\n      <td>2021-07-23</td>\n      <td>Welcome to Survival Escape Room, You've been k...</td>\n    </tr>\n    <tr>\n      <th>57311</th>\n      <td>game</td>\n      <td>Cavern Commandos</td>\n      <td>1692480</td>\n      <td>[Soiree Games]</td>\n      <td>[Soiree Games]</td>\n      <td>[Single-player, Full controller support]</td>\n      <td>[Action, Indie]</td>\n      <td>inspired classic platformers like rick dangero...</td>\n      <td>inspired classic platformers like rick dangero...</td>\n      <td>2021-07-06</td>\n      <td>Inspired by classic platformers like Rick Dang...</td>\n    </tr>\n    <tr>\n      <th>57312</th>\n      <td>game</td>\n      <td>Hidden Shapes Black Skull - Jigsaw Puzzle Game</td>\n      <td>1692580</td>\n      <td>[YAW Studios]</td>\n      <td>[YAW Studios]</td>\n      <td>[Single-player, Steam Achievements]</td>\n      <td>[Casual, Indie]</td>\n      <td>disconnect world game beautiful art inspired w...</td>\n      <td>relax beautiful hand drawn puzzle inspired wor...</td>\n      <td>2021-08-06</td>\n      <td>Disconnect yourself from the world with this g...</td>\n    </tr>\n    <tr>\n      <th>57313</th>\n      <td>game</td>\n      <td>Puzzles with cats</td>\n      <td>1692590</td>\n      <td>[wow wow Games]</td>\n      <td>[wow wow Games]</td>\n      <td>[Single-player]</td>\n      <td>[Casual, Indie]</td>\n      <td>hey already heard new game quot puzzle cat quo...</td>\n      <td>puzzle cat classic puzzle invite put together ...</td>\n      <td>2021-07-06</td>\n      <td>Hey! Have you already heard about the new game...</td>\n    </tr>\n  </tbody>\n</table>\n<p>49317 rows × 11 columns</p>\n</div>"
     },
     "metadata": {},
     "execution_count": 29
    }
   ],
   "source": [
    "games"
   ]
  },
  {
   "cell_type": "code",
   "execution_count": 30,
   "metadata": {},
   "outputs": [
    {
     "output_type": "stream",
     "name": "stdout",
     "text": [
      "<class 'pandas.core.frame.DataFrame'>\nInt64Index: 49317 entries, 0 to 57313\nData columns (total 11 columns):\n #   Column                   Non-Null Count  Dtype         \n---  ------                   --------------  -----         \n 0   type                     49317 non-null  object        \n 1   name                     49317 non-null  object        \n 2   steam_appid              49317 non-null  int64         \n 3   developers               49317 non-null  object        \n 4   publishers               49317 non-null  object        \n 5   categories               49317 non-null  object        \n 6   genres                   49317 non-null  object        \n 7   about_the_game_clean     49317 non-null  object        \n 8   short_description_clean  49317 non-null  object        \n 9   release_date             49317 non-null  datetime64[ns]\n 10  about_the_game           49317 non-null  object        \ndtypes: datetime64[ns](1), int64(1), object(9)\nmemory usage: 5.5+ MB\n"
     ]
    }
   ],
   "source": [
    "games.info()"
   ]
  },
  {
   "cell_type": "code",
   "execution_count": 18,
   "id": "3a0bb897-259f-42e4-ba5a-0db61648ca4f",
   "metadata": {},
   "outputs": [
    {
     "output_type": "execute_result",
     "data": {
      "text/plain": [
       "{'acknowledged': True}"
      ]
     },
     "metadata": {},
     "execution_count": 18
    }
   ],
   "source": [
    "# es.indices.delete(index='steam_test')"
   ]
  },
  {
   "cell_type": "code",
   "execution_count": 19,
   "id": "23ef5aae-457e-482f-88c4-1e2496bd1b6d",
   "metadata": {
    "tags": []
   },
   "outputs": [
    {
     "output_type": "stream",
     "name": "stdout",
     "text": [
      "creating index steam_test\nsteam_test index has been created\n"
     ]
    }
   ],
   "source": [
    "request_body = {\n",
    "    'settings': {\n",
    "        'number_of_shards': 1,\n",
    "        'number_of_replicas': 1,\n",
    "        \n",
    "    },\n",
    "    'mappings': {\n",
    "          'properties': {\n",
    "              'title': {'type': 'text'},\n",
    "              'App_ID':{'type': 'long'},\n",
    "              'developer': {'type': 'text'},\n",
    "              'publisher': {'type': 'text'},\n",
    "              'categories': {'type': 'keyword'},\n",
    "              'genres': {'type': 'keyword'},\n",
    "              'body': {'type': 'text'},\n",
    "              'abstract': {'type': 'text'},\n",
    "              'release_date': {\n",
    "                  'type': 'date',\n",
    "                  'format':'yyyy-mm-dd'},\n",
    "          }\n",
    "    }\n",
    "}\n",
    "\n",
    "index_name = 'steam_test'\n",
    "try:\n",
    "    es.indices.get(index_name)\n",
    "    print('index {} already exists'.format(index_name))\n",
    "except:\n",
    "    print('creating index {}'.format(index_name))\n",
    "    es.indices.create(index_name, body=request_body)\n",
    "    print('{} index has been created'.format(index_name))"
   ]
  },
  {
   "cell_type": "code",
   "execution_count": 26,
   "metadata": {},
   "outputs": [
    {
     "output_type": "stream",
     "name": "stdout",
     "text": [
      "legnth:  9\n"
     ]
    },
    {
     "output_type": "execute_result",
     "data": {
      "text/plain": [
       "array(['Counter-Strike', 10, list(['Valve']), list(['Valve']),\n",
       "       list(['Multi-player', 'PvP', 'Online PvP', 'Shared/Split Screen PvP', 'Valve Anti-Cheat enabled']),\n",
       "       list(['Action']),\n",
       "       'play world number 1 online action game engage incredibly realistic brand terrorist warfare wildly popular team based game ally teammate complete strategic mission take enemy site rescue hostage role affect team success team success affect role',\n",
       "       'play world number 1 online action game engage incredibly realistic brand terrorist warfare wildly popular team based game ally teammate complete strategic mission take enemy site rescue hostage role affect team success team success affect role',\n",
       "       Timestamp('2000-11-01 00:00:00')], dtype=object)"
      ]
     },
     "metadata": {},
     "execution_count": 26
    }
   ],
   "source": [
    "print('legnth: ',len(games.values[0,1:-1]))\n",
    "games.values[0,1:-1]"
   ]
  },
  {
   "cell_type": "code",
   "execution_count": 27,
   "id": "36bbda69-d516-40ea-a544-1e505c47738b",
   "metadata": {},
   "outputs": [
    {
     "output_type": "error",
     "ename": "RequestError",
     "evalue": "RequestError(400, 'mapper_parsing_exception', \"failed to parse field [release_date] of type [date] in document with id '0'. Preview of field's value: '2000-11-01T00:00:00'\")",
     "traceback": [
      "\u001b[1;31m---------------------------------------------------------------------------\u001b[0m",
      "\u001b[1;31mRequestError\u001b[0m                              Traceback (most recent call last)",
      "\u001b[1;32m<ipython-input-27-a8e3f76d0edf>\u001b[0m in \u001b[0;36m<module>\u001b[1;34m\u001b[0m\n\u001b[0;32m     11\u001b[0m             \u001b[1;34m'release_date'\u001b[0m\u001b[1;33m:\u001b[0m \u001b[0mrelease_date\u001b[0m\u001b[1;33m\u001b[0m\u001b[1;33m\u001b[0m\u001b[0m\n\u001b[0;32m     12\u001b[0m               }\n\u001b[1;32m---> 13\u001b[1;33m     \u001b[0mes\u001b[0m\u001b[1;33m.\u001b[0m\u001b[0mindex\u001b[0m\u001b[1;33m(\u001b[0m\u001b[0mindex_name\u001b[0m\u001b[1;33m,\u001b[0m \u001b[0mdoc_body\u001b[0m\u001b[1;33m,\u001b[0m \u001b[0mid\u001b[0m\u001b[1;33m=\u001b[0m\u001b[0mi\u001b[0m\u001b[1;33m)\u001b[0m\u001b[1;33m\u001b[0m\u001b[1;33m\u001b[0m\u001b[0m\n\u001b[0m",
      "\u001b[1;32m~\\anaconda3\\envs\\Latest\\lib\\site-packages\\elasticsearch\\client\\utils.py\u001b[0m in \u001b[0;36m_wrapped\u001b[1;34m(*args, **kwargs)\u001b[0m\n\u001b[0;32m    150\u001b[0m                 \u001b[1;32mif\u001b[0m \u001b[0mp\u001b[0m \u001b[1;32min\u001b[0m \u001b[0mkwargs\u001b[0m\u001b[1;33m:\u001b[0m\u001b[1;33m\u001b[0m\u001b[1;33m\u001b[0m\u001b[0m\n\u001b[0;32m    151\u001b[0m                     \u001b[0mparams\u001b[0m\u001b[1;33m[\u001b[0m\u001b[0mp\u001b[0m\u001b[1;33m]\u001b[0m \u001b[1;33m=\u001b[0m \u001b[0mkwargs\u001b[0m\u001b[1;33m.\u001b[0m\u001b[0mpop\u001b[0m\u001b[1;33m(\u001b[0m\u001b[0mp\u001b[0m\u001b[1;33m)\u001b[0m\u001b[1;33m\u001b[0m\u001b[1;33m\u001b[0m\u001b[0m\n\u001b[1;32m--> 152\u001b[1;33m             \u001b[1;32mreturn\u001b[0m \u001b[0mfunc\u001b[0m\u001b[1;33m(\u001b[0m\u001b[1;33m*\u001b[0m\u001b[0margs\u001b[0m\u001b[1;33m,\u001b[0m \u001b[0mparams\u001b[0m\u001b[1;33m=\u001b[0m\u001b[0mparams\u001b[0m\u001b[1;33m,\u001b[0m \u001b[0mheaders\u001b[0m\u001b[1;33m=\u001b[0m\u001b[0mheaders\u001b[0m\u001b[1;33m,\u001b[0m \u001b[1;33m**\u001b[0m\u001b[0mkwargs\u001b[0m\u001b[1;33m)\u001b[0m\u001b[1;33m\u001b[0m\u001b[1;33m\u001b[0m\u001b[0m\n\u001b[0m\u001b[0;32m    153\u001b[0m \u001b[1;33m\u001b[0m\u001b[0m\n\u001b[0;32m    154\u001b[0m         \u001b[1;32mreturn\u001b[0m \u001b[0m_wrapped\u001b[0m\u001b[1;33m\u001b[0m\u001b[1;33m\u001b[0m\u001b[0m\n",
      "\u001b[1;32m~\\anaconda3\\envs\\Latest\\lib\\site-packages\\elasticsearch\\client\\__init__.py\u001b[0m in \u001b[0;36mindex\u001b[1;34m(self, index, body, doc_type, id, params, headers)\u001b[0m\n\u001b[0;32m    396\u001b[0m             \u001b[0mdoc_type\u001b[0m \u001b[1;33m=\u001b[0m \u001b[1;34m\"_doc\"\u001b[0m\u001b[1;33m\u001b[0m\u001b[1;33m\u001b[0m\u001b[0m\n\u001b[0;32m    397\u001b[0m \u001b[1;33m\u001b[0m\u001b[0m\n\u001b[1;32m--> 398\u001b[1;33m         return self.transport.perform_request(\n\u001b[0m\u001b[0;32m    399\u001b[0m             \u001b[1;34m\"POST\"\u001b[0m \u001b[1;32mif\u001b[0m \u001b[0mid\u001b[0m \u001b[1;32min\u001b[0m \u001b[0mSKIP_IN_PATH\u001b[0m \u001b[1;32melse\u001b[0m \u001b[1;34m\"PUT\"\u001b[0m\u001b[1;33m,\u001b[0m\u001b[1;33m\u001b[0m\u001b[1;33m\u001b[0m\u001b[0m\n\u001b[0;32m    400\u001b[0m             \u001b[0m_make_path\u001b[0m\u001b[1;33m(\u001b[0m\u001b[0mindex\u001b[0m\u001b[1;33m,\u001b[0m \u001b[0mdoc_type\u001b[0m\u001b[1;33m,\u001b[0m \u001b[0mid\u001b[0m\u001b[1;33m)\u001b[0m\u001b[1;33m,\u001b[0m\u001b[1;33m\u001b[0m\u001b[1;33m\u001b[0m\u001b[0m\n",
      "\u001b[1;32m~\\anaconda3\\envs\\Latest\\lib\\site-packages\\elasticsearch\\transport.py\u001b[0m in \u001b[0;36mperform_request\u001b[1;34m(self, method, url, headers, params, body)\u001b[0m\n\u001b[0;32m    390\u001b[0m                         \u001b[1;32mraise\u001b[0m \u001b[0me\u001b[0m\u001b[1;33m\u001b[0m\u001b[1;33m\u001b[0m\u001b[0m\n\u001b[0;32m    391\u001b[0m                 \u001b[1;32melse\u001b[0m\u001b[1;33m:\u001b[0m\u001b[1;33m\u001b[0m\u001b[1;33m\u001b[0m\u001b[0m\n\u001b[1;32m--> 392\u001b[1;33m                     \u001b[1;32mraise\u001b[0m \u001b[0me\u001b[0m\u001b[1;33m\u001b[0m\u001b[1;33m\u001b[0m\u001b[0m\n\u001b[0m\u001b[0;32m    393\u001b[0m \u001b[1;33m\u001b[0m\u001b[0m\n\u001b[0;32m    394\u001b[0m             \u001b[1;32melse\u001b[0m\u001b[1;33m:\u001b[0m\u001b[1;33m\u001b[0m\u001b[1;33m\u001b[0m\u001b[0m\n",
      "\u001b[1;32m~\\anaconda3\\envs\\Latest\\lib\\site-packages\\elasticsearch\\transport.py\u001b[0m in \u001b[0;36mperform_request\u001b[1;34m(self, method, url, headers, params, body)\u001b[0m\n\u001b[0;32m    356\u001b[0m \u001b[1;33m\u001b[0m\u001b[0m\n\u001b[0;32m    357\u001b[0m             \u001b[1;32mtry\u001b[0m\u001b[1;33m:\u001b[0m\u001b[1;33m\u001b[0m\u001b[1;33m\u001b[0m\u001b[0m\n\u001b[1;32m--> 358\u001b[1;33m                 status, headers_response, data = connection.perform_request(\n\u001b[0m\u001b[0;32m    359\u001b[0m                     \u001b[0mmethod\u001b[0m\u001b[1;33m,\u001b[0m\u001b[1;33m\u001b[0m\u001b[1;33m\u001b[0m\u001b[0m\n\u001b[0;32m    360\u001b[0m                     \u001b[0murl\u001b[0m\u001b[1;33m,\u001b[0m\u001b[1;33m\u001b[0m\u001b[1;33m\u001b[0m\u001b[0m\n",
      "\u001b[1;32m~\\anaconda3\\envs\\Latest\\lib\\site-packages\\elasticsearch\\connection\\http_urllib3.py\u001b[0m in \u001b[0;36mperform_request\u001b[1;34m(self, method, url, params, body, timeout, ignore, headers)\u001b[0m\n\u001b[0;32m    267\u001b[0m                 \u001b[0mmethod\u001b[0m\u001b[1;33m,\u001b[0m \u001b[0mfull_url\u001b[0m\u001b[1;33m,\u001b[0m \u001b[0murl\u001b[0m\u001b[1;33m,\u001b[0m \u001b[0morig_body\u001b[0m\u001b[1;33m,\u001b[0m \u001b[0mduration\u001b[0m\u001b[1;33m,\u001b[0m \u001b[0mresponse\u001b[0m\u001b[1;33m.\u001b[0m\u001b[0mstatus\u001b[0m\u001b[1;33m,\u001b[0m \u001b[0mraw_data\u001b[0m\u001b[1;33m\u001b[0m\u001b[1;33m\u001b[0m\u001b[0m\n\u001b[0;32m    268\u001b[0m             )\n\u001b[1;32m--> 269\u001b[1;33m             \u001b[0mself\u001b[0m\u001b[1;33m.\u001b[0m\u001b[0m_raise_error\u001b[0m\u001b[1;33m(\u001b[0m\u001b[0mresponse\u001b[0m\u001b[1;33m.\u001b[0m\u001b[0mstatus\u001b[0m\u001b[1;33m,\u001b[0m \u001b[0mraw_data\u001b[0m\u001b[1;33m)\u001b[0m\u001b[1;33m\u001b[0m\u001b[1;33m\u001b[0m\u001b[0m\n\u001b[0m\u001b[0;32m    270\u001b[0m \u001b[1;33m\u001b[0m\u001b[0m\n\u001b[0;32m    271\u001b[0m         self.log_request_success(\n",
      "\u001b[1;32m~\\anaconda3\\envs\\Latest\\lib\\site-packages\\elasticsearch\\connection\\base.py\u001b[0m in \u001b[0;36m_raise_error\u001b[1;34m(self, status_code, raw_data)\u001b[0m\n\u001b[0;32m    313\u001b[0m             \u001b[0mlogger\u001b[0m\u001b[1;33m.\u001b[0m\u001b[0mwarning\u001b[0m\u001b[1;33m(\u001b[0m\u001b[1;34m\"Undecodable raw error response from server: %s\"\u001b[0m\u001b[1;33m,\u001b[0m \u001b[0merr\u001b[0m\u001b[1;33m)\u001b[0m\u001b[1;33m\u001b[0m\u001b[1;33m\u001b[0m\u001b[0m\n\u001b[0;32m    314\u001b[0m \u001b[1;33m\u001b[0m\u001b[0m\n\u001b[1;32m--> 315\u001b[1;33m         raise HTTP_EXCEPTIONS.get(status_code, TransportError)(\n\u001b[0m\u001b[0;32m    316\u001b[0m             \u001b[0mstatus_code\u001b[0m\u001b[1;33m,\u001b[0m \u001b[0merror_message\u001b[0m\u001b[1;33m,\u001b[0m \u001b[0madditional_info\u001b[0m\u001b[1;33m\u001b[0m\u001b[1;33m\u001b[0m\u001b[0m\n\u001b[0;32m    317\u001b[0m         )\n",
      "\u001b[1;31mRequestError\u001b[0m: RequestError(400, 'mapper_parsing_exception', \"failed to parse field [release_date] of type [date] in document with id '0'. Preview of field's value: '2000-11-01T00:00:00'\")"
     ]
    }
   ],
   "source": [
    "for i, (title, App_ID, developer, publisher, categories, genres, body, abstract, release_date) in enumerate(games.values[:,1:-1]):\n",
    "    doc_body = {\n",
    "            'title': title,\n",
    "            'App_ID': App_ID,\n",
    "            'developer': developer,\n",
    "            'publisher': publisher,\n",
    "            'categories': categories,\n",
    "            'genres': genres,\n",
    "            'body': body,\n",
    "            'abstract': abstract,\n",
    "            'release_date': release_date\n",
    "              }\n",
    "    es.index(index_name, doc_body, id=i)"
   ]
  },
  {
   "cell_type": "code",
   "execution_count": 109,
   "id": "704c5157-3f52-44d5-83b2-8dde2a561212",
   "metadata": {},
   "outputs": [
    {
     "name": "stdout",
     "output_type": "stream",
     "text": [
      "we have made and index called steam_test with 56122\n",
      " documents\n",
      "\n",
      "      #### INDEX INFO #####\n",
      "      index_name = steam_test\n",
      "      doc_count = 56122\n",
      "      shard_count = 1\n",
      "      deleted_doc_count = 0\n",
      "      \n"
     ]
    }
   ],
   "source": [
    "print('we have made and index called {} with {} documents'.format(index_name, es.cat.count(index=index_name,h=['count'])))\n",
    "index_info(index_name)"
   ]
  },
  {
   "cell_type": "code",
   "execution_count": 11,
   "id": "31bfe536-8c7f-4a2d-bac2-857ca5ec1d5b",
   "metadata": {},
   "outputs": [
    {
     "output_type": "execute_result",
     "data": {
      "text/plain": [
       "{'_index': 'steam_test',\n",
       " '_type': '_doc',\n",
       " '_id': '50',\n",
       " '_version': 1,\n",
       " '_seq_no': 50,\n",
       " '_primary_term': 1,\n",
       " 'found': True,\n",
       " '_source': {'App_ID': 2290,\n",
       "  'title': 'Final DOOM',\n",
       "  'abstract': 'Two New, 32-Level DOOM II Episodes. Evilution: Far from earth, the UAC recommenced their experiments on on of the moons of Jupiter. A spaceship, mistaken for a supply vexxel on radar, hovered above the base. Hideous demons poured out, blanketing the base with death. All your comrades were quickly slaughtered or zombified.',\n",
       "  'body': \"Two New, 32-Level DOOM II Episodes.Evilution:Far from earth, the UAC recommenced their experiments on on of the moons of Jupiter. A spaceship, mistaken for a supply vexxel on radar, hovered above the base. Hideous demons poured out, blanketing the base with death. All your comrades were quickly slaughtered or zombified. This time, it's not about survival. It's about revenge.The Plutonia Experiment:Every effort has been made by the nation's top scientists to close the seven interdimensional Gates of Hell, but one portal remains open. Alone, you must infiltrate the ravaged complex, defeat the demon Gatekeeper and seal the last Hell-hole before the undead are prepared to, once again, take over the world.\",\n",
       "  'developer': ['id Software'],\n",
       "  'publisher': ['id Software'],\n",
       "  'categories': ['Single-player', 'Steam Cloud'],\n",
       "  'genres': ['Action'],\n",
       "  'release_date': '3 Aug 2007'}}"
      ]
     },
     "metadata": {},
     "execution_count": 11
    }
   ],
   "source": [
    "es.get(index=index_name, id=50)"
   ]
  },
  {
   "cell_type": "code",
   "execution_count": 95,
   "id": "98f64701-6600-436a-a02c-c5347c4f9c47",
   "metadata": {},
   "outputs": [
    {
     "name": "stdout",
     "output_type": "stream",
     "text": [
      "### RESULTS ####\n",
      "title: Poly Pirates - score: 6.499002\n",
      "title: Bob Came in Pieces - score: 6.425233\n",
      "title: Deep Space Battle Simulator - score: 6.351606\n",
      "title: V ARRR - score: 6.2367477\n",
      "title: 1912 Titanic Mystery - score: 6.2364287\n",
      "title: SEX Cruise VR - score: 6.2364287\n",
      "title: Rocket Squad - score: 6.191264\n",
      "title: Captivus - score: 6.17612\n",
      "title: Adrorium - score: 6.1709504\n",
      "title: PXL-SHIP - score: 6.168356\n",
      "some info on results\n",
      "{'value': 6.168356, 'description': 'weight(body:ship in 41823) [PerFieldSimilarity], result of:', 'details': [{'value': 6.168356, 'description': 'score(freq=4.0), computed as boost * idf * tf from:', 'details': [{'value': 2.2, 'description': 'boost', 'details': []}, {'value': 3.2122538, 'description': 'idf, computed as log(1 + (N - n + 0.5) / (n + 0.5)) from:', 'details': [{'value': 2257, 'description': 'n, number of documents containing term', 'details': []}, {'value': 56064, 'description': 'N, total number of documents with field', 'details': []}]}, {'value': 0.8728445, 'description': 'tf, computed as freq / (freq + k1 * (1 - b + b * dl / avgdl)) from:', 'details': [{'value': 4.0, 'description': 'freq, occurrences of term within document', 'details': []}, {'value': 1.2, 'description': 'k1, term saturation parameter', 'details': []}, {'value': 0.75, 'description': 'b, length normalization parameter', 'details': []}, {'value': 68.0, 'description': 'dl, length of field (approximate)', 'details': []}, {'value': 216.47047, 'description': 'avgdl, average length of field', 'details': []}]}]}]}\n"
     ]
    }
   ],
   "source": [
    "query_body = {\n",
    "    'query':{\n",
    "        'term': {\n",
    "            'body':  'ship'\n",
    "        }\n",
    "    }\n",
    "}\n",
    "print('### RESULTS ####')\n",
    "explain=True\n",
    "results = es.search(index=index_name, body=query_body, explain=explain)['hits']['hits']\n",
    "for hit in results:\n",
    "    print('title: {} - score: {}'.format(hit['_source']['title'], hit['_score']))\n",
    "if explain:\n",
    "    print('some info on results')\n",
    "    print(hit['_explanation'])"
   ]
  },
  {
   "cell_type": "code",
   "execution_count": null,
   "id": "2debab71-37b6-4665-a9dd-aae4310ae9a4",
   "metadata": {},
   "outputs": [],
   "source": []
  }
 ],
 "metadata": {
  "kernelspec": {
   "name": "python3",
   "display_name": "Python 3.8.10 64-bit ('Latest': conda)"
  },
  "language_info": {
   "codemirror_mode": {
    "name": "ipython",
    "version": 3
   },
   "file_extension": ".py",
   "mimetype": "text/x-python",
   "name": "python",
   "nbconvert_exporter": "python",
   "pygments_lexer": "ipython3",
   "version": "3.8.10"
  },
  "interpreter": {
   "hash": "c3e4c92655df72f09200b5c392c3cdb2bcde9b6d779510dd5f151645d2773f89"
  }
 },
 "nbformat": 4,
 "nbformat_minor": 5
}