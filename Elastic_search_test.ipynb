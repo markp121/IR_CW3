{
 "cells": [
  {
   "cell_type": "code",
   "execution_count": 1,
   "id": "0f6a9fad",
   "metadata": {},
   "outputs": [],
   "source": [
    "import urllib.request \n",
    "import re\n",
    "import pandas as pd\n",
    "from elasticsearch import Elasticsearch"
   ]
  },
  {
   "cell_type": "code",
   "execution_count": 2,
   "id": "6ac6bddb",
   "metadata": {},
   "outputs": [],
   "source": [
    "import requests\n",
    "# run bin/elasticsearch in elasticsearch directory in terminal before running this cell\n",
    "res = requests.get('http://localhost:9200')"
   ]
  },
  {
   "cell_type": "code",
   "execution_count": 3,
   "id": "17aba0d1",
   "metadata": {},
   "outputs": [],
   "source": [
    "es = Elasticsearch([{'host': 'localhost', 'port': 9200}])"
   ]
  },
  {
   "cell_type": "code",
   "execution_count": 4,
   "id": "28bcdadc",
   "metadata": {},
   "outputs": [],
   "source": [
    "def test_ES(es):\n",
    "    return es.ping()  # got True"
   ]
  },
  {
   "cell_type": "code",
   "execution_count": 5,
   "id": "aab484fc",
   "metadata": {},
   "outputs": [
    {
     "name": "stdout",
     "output_type": "stream",
     "text": [
      "ES instance working\n"
     ]
    },
    {
     "name": "stderr",
     "output_type": "stream",
     "text": [
      "/home/mark/anaconda3/envs/nlp/lib/python3.9/site-packages/elasticsearch/connection/base.py:208: ElasticsearchWarning: Elasticsearch built-in security features are not enabled. Without authentication, your cluster could be accessible to anyone. See https://www.elastic.co/guide/en/elasticsearch/reference/7.13/security-minimal-setup.html to enable security.\n",
      "  warnings.warn(message, category=ElasticsearchWarning)\n"
     ]
    }
   ],
   "source": [
    "if test_ES(es):\n",
    "    print('ES instance working')\n",
    "else:\n",
    "    print('ES instance not working')"
   ]
  },
  {
   "cell_type": "code",
   "execution_count": 6,
   "id": "557d2af6",
   "metadata": {},
   "outputs": [],
   "source": [
    "def index_info(index_name):\n",
    "    count, deleted, shards, =  es.cat.indices(index=index_name, h=['docs.count', 'docs.deleted', 'pri'])[:-1].split(' ')\n",
    "    print(\n",
    "      \"\"\"\n",
    "      #### INDEX INFO #####\n",
    "      index_name = {}\n",
    "      doc_count = {}\n",
    "      shard_count = {}\n",
    "      deleted_doc_count = {}\n",
    "      \"\"\".format(index_name, count, shards, deleted)\n",
    "  )"
   ]
  },
  {
   "cell_type": "code",
   "execution_count": 7,
   "id": "0524448f",
   "metadata": {},
   "outputs": [],
   "source": [
    "# read data from steam data directory\n",
    "games = pd.read_pickle('final_data_raw_V3.pickle')"
   ]
  },
  {
   "cell_type": "code",
   "execution_count": 8,
   "id": "73cf8a66",
   "metadata": {},
   "outputs": [],
   "source": [
    "#es.indices.delete(index='steam_index_dfr')"
   ]
  },
  {
   "cell_type": "code",
   "execution_count": 9,
   "id": "e4a9c36f",
   "metadata": {},
   "outputs": [],
   "source": [
    "# set index name\n",
    "index_name = 'steam_index_bm25_final'"
   ]
  },
  {
   "cell_type": "code",
   "execution_count": 63,
   "id": "ac1efa3d",
   "metadata": {},
   "outputs": [
    {
     "name": "stdout",
     "output_type": "stream",
     "text": [
      "index steam_index_bm25_final already exists\n"
     ]
    },
    {
     "name": "stderr",
     "output_type": "stream",
     "text": [
      "/home/mark/anaconda3/envs/nlp/lib/python3.9/site-packages/elasticsearch/connection/base.py:208: ElasticsearchWarning: Elasticsearch built-in security features are not enabled. Without authentication, your cluster could be accessible to anyone. See https://www.elastic.co/guide/en/elasticsearch/reference/7.13/security-minimal-setup.html to enable security.\n",
      "  warnings.warn(message, category=ElasticsearchWarning)\n"
     ]
    }
   ],
   "source": [
    "# BM25 (Default index)\n",
    "request_body_bm25_final = {\n",
    "    'settings': {\n",
    "        'number_of_shards': 1,\n",
    "        'number_of_replicas': 1,\n",
    "        \n",
    "    },\n",
    "    'mappings': {\n",
    "          'properties': {\n",
    "              'app_id':{'type': 'integer'},\n",
    "              'title': {'type': 'text'},\n",
    "              'short_description': {\n",
    "                  'type': 'text',\n",
    "                  'analyzer': 'english'\n",
    "              },\n",
    "              'about_the_game': {\n",
    "                  'type': 'text',\n",
    "                  'analyzer': 'english'\n",
    "              },\n",
    "              'developers': {\n",
    "                    \"type\": \"text\",\n",
    "                    \"fields\": {\"raw\": {\"type\": \"keyword\"}}\n",
    "              },\n",
    "              'publishers': {\n",
    "                    \"type\": \"text\",\n",
    "                    \"fields\": {\"raw\": {\"type\": \"keyword\"}}\n",
    "              },\n",
    "              'categories': {\n",
    "                    \"type\": \"text\",\n",
    "                    \"fields\": {\"raw\": {\"type\": \"keyword\"}}\n",
    "              },\n",
    "              'genres': {\n",
    "                    \"type\": \"text\",\n",
    "                    \"fields\": {\"raw\": {\"type\": \"keyword\"}}\n",
    "              },\n",
    "              'is_released': {\"type\": \"keyword\"},\n",
    "              'release_date': {'type': 'date'},\n",
    "              'popularity':{'type':'float'},\n",
    "              'rating':{'type':'float'}\n",
    "          }\n",
    "    }\n",
    "}\n",
    "\n",
    "try:\n",
    "    es.indices.get(index_name)\n",
    "    print('index {} already exists'.format(index_name))\n",
    "except:\n",
    "    print('creating index {}'.format(index_name))\n",
    "    es.indices.create(index_name, body=request_body_bm25_final)"
   ]
  },
  {
   "cell_type": "code",
   "execution_count": null,
   "id": "75d1d13d",
   "metadata": {},
   "outputs": [],
   "source": [
    "for i, (name, app_id, about_the_game, short_description,\n",
    "       developers, publishers, categories, genres, release_date, is_released, rating, popularity) in enumerate(games.values[:,1:]):\n",
    "    doc_body = {\n",
    "              'app_id': app_id,\n",
    "              'title': name,\n",
    "              'short_description': short_description,\n",
    "              'about_the_game': about_the_game,\n",
    "              'developers': developers,\n",
    "              'publishers': publishers,\n",
    "              'categories': categories,\n",
    "              'genres': genres,\n",
    "              'is_released': is_released,\n",
    "              'release_date': release_date,\n",
    "              'rating': rating,\n",
    "              'popularity': popularity\n",
    "              }\n",
    "    es.index(index_name, doc_body, id=i)"
   ]
  },
  {
   "cell_type": "code",
   "execution_count": null,
   "id": "7574a4b1",
   "metadata": {},
   "outputs": [],
   "source": [
    "print('we have made and index called {} with {} documents'.format(index_name, es.cat.count(index=index_name,h=['count'])))\n",
    "index_info(index_name)"
   ]
  },
  {
   "cell_type": "code",
   "execution_count": null,
   "id": "c0186bd2",
   "metadata": {},
   "outputs": [],
   "source": [
    "index_name = 'steam_index_dfr_final'"
   ]
  },
  {
   "cell_type": "code",
   "execution_count": null,
   "id": "da3acfe2",
   "metadata": {},
   "outputs": [],
   "source": [
    "#DFR index\n",
    "request_body_dfr = {\n",
    "        'settings': {\n",
    "        'number_of_shards': 1,\n",
    "        'number_of_replicas': 1,\n",
    "        'index': {\n",
    "            'similarity': {\n",
    "                'dfr_similarity': {\n",
    "                    'type': 'DFR',\n",
    "                    'basic_model': 'g',\n",
    "                    'after_effect': 'l',\n",
    "                    'normalization': 'h2',\n",
    "                    'normalization.h2.c':'3.0'\n",
    "\n",
    "                }\n",
    "            }\n",
    "        }\n",
    "        },\n",
    "    'mappings': {\n",
    "          'properties': {\n",
    "              'app_id':{'type': 'integer'},\n",
    "              'title': {\n",
    "                  'type': 'text', \n",
    "                  'similarity': 'dfr_similarity'\n",
    "              },\n",
    "              'short_description': {\n",
    "                  'type': 'text', \n",
    "                  'analyzer': 'english', \n",
    "                  'similarity': 'dfr_similarity'\n",
    "              },\n",
    "              'about_the_game': {\n",
    "                  'type': 'text', \n",
    "                  'analyzer': 'english', \n",
    "                  'similarity': 'dfr_similarity'\n",
    "              },\n",
    "              'developer': {\n",
    "                  \"type\": \"text\",\n",
    "                  'similarity': 'dfr_similarity',\n",
    "                    \"fields\": {\n",
    "                    \"raw\": {\"type\": \"keyword\"}}\n",
    "              },\n",
    "              'publisher': {\n",
    "                  \"type\": \"text\",\n",
    "                  'similarity': 'dfr_similarity',\n",
    "                    \"fields\": {\n",
    "                    \"raw\": {\"type\": \"keyword\"}}\n",
    "              },\n",
    "              'categories': {\n",
    "                  \"type\": \"text\",\n",
    "                  'similarity': 'dfr_similarity',\n",
    "                    \"fields\": {\n",
    "                    \"raw\": {\"type\": \"keyword\"}}\n",
    "              },\n",
    "              'genres': {\n",
    "                  \"type\": \"text\", \n",
    "                  'similarity': 'dfr_similarity',\n",
    "                    \"fields\": {\n",
    "                    \"raw\": { \"type\": \"keyword\"}}\n",
    "              },\n",
    "              'is_released': {\"type\": \"keyword\"},\n",
    "              'release_date': {'type': 'date'},\n",
    "              'popularity':{'type':'float'},\n",
    "              'rating':{'type':'float'}\n",
    "          }\n",
    "    }\n",
    "}\n",
    "\n",
    "try:\n",
    "    es.indices.get(index_name)\n",
    "    print('index {} already exists'.format(index_name))\n",
    "except:\n",
    "    print('creating index {}'.format(index_name))\n",
    "    es.indices.create(index_name, body=request_body_dfr)"
   ]
  },
  {
   "cell_type": "code",
   "execution_count": null,
   "id": "130074e7",
   "metadata": {},
   "outputs": [],
   "source": [
    "# indexing using DFR\n",
    "for i, (name, app_id, about_the_game, short_description,\n",
    "       developers, publishers, categories, genres, release_date, is_released, rating, popularity) in enumerate(games.values[:,1:]):\n",
    "    doc_body = {\n",
    "              'app_id': app_id,\n",
    "              'title': name,\n",
    "              'short_description': short_description,\n",
    "              'about_the_game': about_the_game,\n",
    "              'developers': developers,\n",
    "              'publishers': publishers,\n",
    "              'categories': categories,\n",
    "              'genres': genres,\n",
    "              'is_released': is_released,\n",
    "              'release_date': release_date,\n",
    "              'rating': rating,\n",
    "              'popularity': popularity\n",
    "              }\n",
    "    es.index(index_name, doc_body, id=i)"
   ]
  },
  {
   "cell_type": "code",
   "execution_count": null,
   "id": "06d7a284",
   "metadata": {},
   "outputs": [],
   "source": [
    "print('we have made and index called {} with {} documents'.format(index_name, es.cat.count(index=index_name,h=['count'])))\n",
    "index_info(index_name)"
   ]
  }
 ],
 "metadata": {
  "interpreter": {
   "hash": "c3e4c92655df72f09200b5c392c3cdb2bcde9b6d779510dd5f151645d2773f89"
  },
  "kernelspec": {
   "display_name": "Python 3 (ipykernel)",
   "language": "python",
   "name": "python3"
  },
  "language_info": {
   "codemirror_mode": {
    "name": "ipython",
    "version": 3
   },
   "file_extension": ".py",
   "mimetype": "text/x-python",
   "name": "python",
   "nbconvert_exporter": "python",
   "pygments_lexer": "ipython3",
   "version": "3.9.5"
  }
 },
 "nbformat": 4,
 "nbformat_minor": 5
}
