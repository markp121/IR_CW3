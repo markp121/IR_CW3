{
 "cells": [
  {
   "cell_type": "code",
   "execution_count": 1,
   "id": "c556efa2-f05b-4773-8654-06a98318a2d0",
   "metadata": {},
   "outputs": [],
   "source": [
    "import urllib.request \n",
    "import re\n",
    "import pandas as pd\n",
    "from elasticsearch import Elasticsearch"
   ]
  },
  {
   "cell_type": "code",
   "execution_count": 2,
   "id": "7eb62a81-1b0c-4278-92ff-fb4aa9792d19",
   "metadata": {},
   "outputs": [],
   "source": [
    "import requests\n",
    "# run bin/elasticsearch in elasticsearch directory in terminal before running this cell\n",
    "res = requests.get('http://localhost:9200')"
   ]
  },
  {
   "cell_type": "code",
   "execution_count": 3,
   "id": "e573f349-3e68-4c43-98b1-c6cb59b5a3fa",
   "metadata": {},
   "outputs": [],
   "source": [
    "es = Elasticsearch([{'host': 'localhost', 'port': 9200}])"
   ]
  },
  {
   "cell_type": "code",
   "execution_count": 4,
   "id": "db144b1a-b018-4b4a-bc0b-04dc042db9be",
   "metadata": {},
   "outputs": [],
   "source": [
    "def test_ES(es):\n",
    "    return es.ping()  # got True"
   ]
  },
  {
   "cell_type": "code",
   "execution_count": 5,
   "id": "f5d143a1-085d-4120-aa87-026dd09e82be",
   "metadata": {},
   "outputs": [
    {
     "name": "stdout",
     "output_type": "stream",
     "text": [
      "ES instance working\n"
     ]
    },
    {
     "name": "stderr",
     "output_type": "stream",
     "text": [
      "/home/mark/anaconda3/envs/nlp/lib/python3.9/site-packages/elasticsearch/connection/base.py:208: ElasticsearchWarning: Elasticsearch built-in security features are not enabled. Without authentication, your cluster could be accessible to anyone. See https://www.elastic.co/guide/en/elasticsearch/reference/7.13/security-minimal-setup.html to enable security.\n",
      "  warnings.warn(message, category=ElasticsearchWarning)\n"
     ]
    }
   ],
   "source": [
    "if test_ES(es):\n",
    "    print('ES instance working')\n",
    "else:\n",
    "    print('ES instance not working')"
   ]
  },
  {
   "cell_type": "code",
   "execution_count": 6,
   "id": "0e6c9734-9436-40da-ae66-a157145f1595",
   "metadata": {},
   "outputs": [],
   "source": [
    "def index_info(index_name):\n",
    "    count, deleted, shards, =  es.cat.indices(index=index_name, h=['docs.count', 'docs.deleted', 'pri'])[:-1].split(' ')\n",
    "    print(\n",
    "      \"\"\"\n",
    "      #### INDEX INFO #####\n",
    "      index_name = {}\n",
    "      doc_count = {}\n",
    "      shard_count = {}\n",
    "      deleted_doc_count = {}\n",
    "      \"\"\".format(index_name, count, shards, deleted)\n",
    "  )"
   ]
  },
  {
   "cell_type": "code",
   "execution_count": 7,
   "id": "ff6baa9e-6b48-4770-86b9-9c4113a77efc",
   "metadata": {},
   "outputs": [],
   "source": [
    "# read data from steam data directory\n",
    "games = pd.read_pickle('final_data_raw_V3.pickle')"
   ]
  },
  {
   "cell_type": "code",
   "execution_count": 8,
   "id": "16803fde-033a-42b9-a809-b58667bbc1bd",
   "metadata": {},
   "outputs": [],
   "source": [
    "#es.indices.delete(index='steam_index_dfr')"
   ]
  },
  {
   "cell_type": "code",
   "execution_count": 9,
   "id": "ee60dd78-7321-45b8-82f6-ed184e0069cf",
   "metadata": {},
   "outputs": [],
   "source": [
    "# set index name\n",
    "index_name = 'steam_index_bm25_final'"
   ]
  },
  {
   "cell_type": "code",
   "execution_count": 63,
   "id": "3f5009a0-b6d3-4c70-906b-a7ef3277d86d",
   "metadata": {},
   "outputs": [
    {
     "name": "stdout",
     "output_type": "stream",
     "text": [
      "index steam_index_bm25_final already exists\n"
     ]
    },
    {
     "name": "stderr",
     "output_type": "stream",
     "text": [
      "/home/mark/anaconda3/envs/nlp/lib/python3.9/site-packages/elasticsearch/connection/base.py:208: ElasticsearchWarning: Elasticsearch built-in security features are not enabled. Without authentication, your cluster could be accessible to anyone. See https://www.elastic.co/guide/en/elasticsearch/reference/7.13/security-minimal-setup.html to enable security.\n",
      "  warnings.warn(message, category=ElasticsearchWarning)\n"
     ]
    }
   ],
   "source": [
    "# BM25 (Default index)\n",
    "request_body_bm25_final = {\n",
    "    'settings': {\n",
    "        'number_of_shards': 1,\n",
    "        'number_of_replicas': 1,\n",
    "        \n",
    "    },\n",
    "    'mappings': {\n",
    "          'properties': {\n",
    "              'app_id':{'type': 'integer'},\n",
    "              'title': {'type': 'text'},\n",
    "              'short_description': {\n",
    "                  'type': 'text',\n",
    "                  'analyzer': 'english'\n",
    "              },\n",
    "              'about_the_game': {\n",
    "                  'type': 'text',\n",
    "                  'analyzer': 'english'\n",
    "              },\n",
    "              'developers': {\n",
    "                    \"type\": \"text\",\n",
    "                    \"fields\": {\"raw\": {\"type\": \"keyword\"}}\n",
    "              },\n",
    "              'publishers': {\n",
    "                    \"type\": \"text\",\n",
    "                    \"fields\": {\"raw\": {\"type\": \"keyword\"}}\n",
    "              },\n",
    "              'categories': {\n",
    "                    \"type\": \"text\",\n",
    "                    \"fields\": {\"raw\": {\"type\": \"keyword\"}}\n",
    "              },\n",
    "              'genres': {\n",
    "                    \"type\": \"text\",\n",
    "                    \"fields\": {\"raw\": {\"type\": \"keyword\"}}\n",
    "              },\n",
    "              'is_released': {\"type\": \"keyword\"},\n",
    "              'release_date': {'type': 'date'},\n",
    "              'popularity':{'type':'float'},\n",
    "              'rating':{'type':'float'}\n",
    "          }\n",
    "    }\n",
    "}\n",
    "\n",
    "try:\n",
    "    es.indices.get(index_name)\n",
    "    print('index {} already exists'.format(index_name))\n",
    "except:\n",
    "    print('creating index {}'.format(index_name))\n",
    "    es.indices.create(index_name, body=request_body_bm25_final)"
   ]
  },
  {
   "cell_type": "code",
   "execution_count": null,
   "id": "5e8ccfc0-037c-4e21-9afb-6c4e3c713ab8",
   "metadata": {},
   "outputs": [],
   "source": [
    "for i, (name, app_id, about_the_game, short_description,\n",
    "       developers, publishers, categories, genres, release_date, is_released, rating, popularity) in enumerate(games.values[:,1:]):\n",
    "    doc_body = {\n",
    "              'app_id': app_id,\n",
    "              'title': name,\n",
    "              'short_description': short_description,\n",
    "              'about_the_game': about_the_game,\n",
    "              'developers': developers,\n",
    "              'publishers': publishers,\n",
    "              'categories': categories,\n",
    "              'genres': genres,\n",
    "              'is_released': is_released,\n",
    "              'release_date': release_date,\n",
    "              'rating': rating,\n",
    "              'popularity': popularity\n",
    "              }\n",
    "    es.index(index_name, doc_body, id=i)"
   ]
  },
  {
   "cell_type": "code",
   "execution_count": null,
   "id": "7c4f229e-f454-4fb4-a29a-449df558fcde",
   "metadata": {},
   "outputs": [],
   "source": [
    "print('we have made and index called {} with {} documents'.format(index_name, es.cat.count(index=index_name,h=['count'])))\n",
    "index_info(index_name)"
   ]
  },
  {
   "cell_type": "code",
   "execution_count": null,
   "id": "9e65ec1f-9e8e-435c-9810-2ec650130e46",
   "metadata": {},
   "outputs": [],
   "source": [
    "index_name = 'steam_index_dfr_final'"
   ]
  },
  {
   "cell_type": "code",
   "execution_count": null,
   "id": "57d7d80d-d5f8-41d8-9d0f-dbbf16222fcc",
   "metadata": {},
   "outputs": [],
   "source": [
    "#DFR index\n",
    "request_body_dfr = {\n",
    "        'settings': {\n",
    "        'number_of_shards': 1,\n",
    "        'number_of_replicas': 1,\n",
    "        'index': {\n",
    "            'similarity': {\n",
    "                'dfr_similarity': {\n",
    "                    'type': 'DFR',\n",
    "                    'basic_model': 'g',\n",
    "                    'after_effect': 'l',\n",
    "                    'normalization': 'h2',\n",
    "                    'normalization.h2.c':'3.0'\n",
    "\n",
    "                }\n",
    "            }\n",
    "        }\n",
    "        \n",
    "    },\n",
    "    'mappings': {\n",
    "          'properties': {\n",
    "              'app_id':{'type': 'integer'},\n",
    "              'title': {\n",
    "                  'type': 'text', \n",
    "                  'similarity': 'dfr_similarity'\n",
    "              },\n",
    "              'short_description': {\n",
    "                  'type': 'text', \n",
    "                  'analyzer': 'english', \n",
    "                  'similarity': 'dfr_similarity'\n",
    "              },\n",
    "              'about_the_game': {\n",
    "                  'type': 'text', \n",
    "                  'analyzer': 'english', \n",
    "                  'similarity': 'dfr_similarity'\n",
    "              },\n",
    "              'developer': {\n",
    "                  \"type\": \"text\",\n",
    "                  'similarity': 'dfr_similarity',\n",
    "                    \"fields\": {\n",
    "                    \"raw\": {\"type\": \"keyword\"}}\n",
    "              },\n",
    "              'publisher': {\n",
    "                  \"type\": \"text\",\n",
    "                  'similarity': 'dfr_similarity',\n",
    "                    \"fields\": {\n",
    "                    \"raw\": {\"type\": \"keyword\"}}\n",
    "              },\n",
    "              'categories': {\n",
    "                  \"type\": \"text\",\n",
    "                  'similarity': 'dfr_similarity',\n",
    "                    \"fields\": {\n",
    "                    \"raw\": {\"type\": \"keyword\"}}\n",
    "              },\n",
    "              'genres': {\n",
    "                  \"type\": \"text\", \n",
    "                  'similarity': 'dfr_similarity',\n",
    "                    \"fields\": {\n",
    "                    \"raw\": { \"type\": \"keyword\"}}\n",
    "              },\n",
    "              'is_released': {\"type\": \"keyword\"},\n",
    "              'release_date': {'type': 'date'},\n",
    "              'popularity':{'type':'float'},\n",
    "              'rating':{'type':'float'}\n",
    "          }\n",
    "    }\n",
    "}\n",
    "\n",
    "try:\n",
    "    es.indices.get(index_name)\n",
    "    print('index {} already exists'.format(index_name))\n",
    "except:\n",
    "    print('creating index {}'.format(index_name))\n",
    "    es.indices.create(index_name, body=request_body_dfr)"
   ]
  },
  {
   "cell_type": "code",
   "execution_count": null,
   "id": "6135226f-80b2-4f41-9689-712f90e4d741",
   "metadata": {},
   "outputs": [],
   "source": [
    "# indexing using DFR\n",
    "for i, (name, app_id, about_the_game, short_description,\n",
    "       developers, publishers, categories, genres, release_date, is_released, rating, popularity) in enumerate(games.values[:,1:]):\n",
    "    doc_body = {\n",
    "              'app_id': app_id,\n",
    "              'title': name,\n",
    "              'short_description': short_description,\n",
    "              'about_the_game': about_the_game,\n",
    "              'developers': developers,\n",
    "              'publishers': publishers,\n",
    "              'categories': categories,\n",
    "              'genres': genres,\n",
    "              'is_released': is_released,\n",
    "              'release_date': release_date,\n",
    "              'rating': rating,\n",
    "              'popularity': popularity\n",
    "              }\n",
    "    es.index(index_name, doc_body, id=i)"
   ]
  },
  {
   "cell_type": "code",
   "execution_count": null,
   "id": "9de50273-6bb7-4f89-bcdd-8add06c2eb8f",
   "metadata": {},
   "outputs": [],
   "source": [
    "print('we have made and index called {} with {} documents'.format(index_name, es.cat.count(index=index_name,h=['count'])))\n",
    "index_info(index_name)"
   ]
  },
  {
   "cell_type": "code",
   "execution_count": 10,
   "id": "7f047b3b-94c7-4e2b-89de-c246f33fa0d2",
   "metadata": {
    "jupyter": {
     "source_hidden": true
    },
    "tags": []
   },
   "outputs": [],
   "source": [
    "# search function that inlcudes query body will taken the varible from the widgets to complete the search \n",
    "def search():\n",
    "    query = text.value\n",
    "    fields = [\"title\", \"short_description\", 'about_the_game', 'developer', 'categories', 'genres']\n",
    "\n",
    "    start_date = date_slider.result[0]\n",
    "    end_date = date_slider.result[1]\n",
    "    \n",
    "    is_released = is_released_drop.value\n",
    "    genre = genres_drop.value\n",
    "    category = categories_drop.value\n",
    "    \n",
    "    popularity_factor = 10 if check[0].value == True else 0\n",
    "    rating_factor = 0.5 if check[1].value == True else 0\n",
    "    \n",
    "        \n",
    "    query_body = {\n",
    "        \"query\": {\n",
    "            'function_score': {\n",
    "                \"query\": {\n",
    "                    \"bool\": {\n",
    "                       'should': [{\n",
    "                                \"multi_match\": {\n",
    "                                    \"query\": query,\n",
    "                                    # 'type': 'most_fields', \n",
    "                                    \"fields\":  fields\n",
    "                                }\n",
    "                                \n",
    "                            },\n",
    "                            {\n",
    "                                'function_score':{\n",
    "                                    'field_value_factor': {\n",
    "                                        'field': 'popularity',\n",
    "                                        'factor': popularity_factor,\n",
    "                                    }\n",
    "                                }\n",
    "                            },\n",
    "                            { \n",
    "                                'function_score': {\n",
    "                                    'field_value_factor': {\n",
    "                                        'field': 'rating',\n",
    "                                        'factor': rating_factor,\n",
    "                                        'modifier': 'log1p'\n",
    "                                    }\n",
    "                                }\n",
    "                            }\n",
    "                        ],\n",
    "                        'filter': [\n",
    "                            {'wildcard': {'is_released': is_released}},\n",
    "                            {'range': {'release_date': {'gte': start_date,'lte': end_date}}},\n",
    "                            {'wildcard': {'genres.raw': genre}},\n",
    "                            {'wildcard': {'categories.raw': category}}\n",
    "                    ],\n",
    "                    # 'minimum_should_match': 0.2\n",
    "                }\n",
    "            }\n",
    "        }\n",
    "        }\n",
    "    }\n",
    "\n",
    "    print('### SEARCH RESULTS ###')\n",
    "    results = es.search(index=index_name, body=query_body)['hits']['hits']\n",
    "    for hit in results:\n",
    "        print('''\n",
    "GAME TITLE: {}, \n",
    "Release date: {}, \n",
    "Score: {:.4f}\n",
    "About: {:s}\n",
    "Developer(s): {}\n",
    "Publisher(s): {}\n",
    "Genre(s): {}\n",
    "Categories: {}\n",
    "Popularity: {:.2f}, Rating: {:.2f}\\n***\\n'''.format(hit['_source']['title'], \n",
    "                                     hit['_source']['release_date'][:10], \n",
    "                                     hit['_score'], hit['_source']['about_the_game'],\n",
    "                                     hit['_source']['developers'], hit['_source']['publishers'],\n",
    "                                     hit['_source']['genres'], hit['_source']['categories'],\n",
    "                                     hit['_source']['popularity'], hit['_source']['rating']))"
   ]
  },
  {
   "cell_type": "code",
   "execution_count": 11,
   "id": "c63bb0c0-c682-4077-b938-86e85d2e77bd",
   "metadata": {
    "jupyter": {
     "source_hidden": true
    },
    "tags": []
   },
   "outputs": [],
   "source": [
    "genre_list = []\n",
    "for genres in games.genres:\n",
    "    for g in genres:\n",
    "        genre_list.append(g)\n",
    "        \n",
    "genre_list = ['*'] + sorted(list(set(genre_list)))\n",
    "\n",
    "category_list = []\n",
    "for categories in games.categories:\n",
    "    for c in categories:\n",
    "        category_list.append(c)\n",
    "        \n",
    "category_list = ['*'] + sorted(list(set(category_list)))\n",
    "\n",
    "released_list = ['*'] + sorted(list(games.is_released.unique()))"
   ]
  },
  {
   "cell_type": "code",
   "execution_count": 19,
   "id": "916567d7-e0af-481f-9c0a-82b2cd039ff4",
   "metadata": {
    "jupyter": {
     "source_hidden": true
    },
    "tags": []
   },
   "outputs": [
    {
     "data": {
      "application/vnd.jupyter.widget-view+json": {
       "model_id": "e390d52d1f8b4e179dc579972c85cee7",
       "version_major": 2,
       "version_minor": 0
      },
      "text/plain": [
       "HTML(value='<h2>Steam Game Search Engine</h2>', layout=Layout(height='40px', left='205px'))"
      ]
     },
     "metadata": {},
     "output_type": "display_data"
    },
    {
     "data": {
      "application/vnd.jupyter.widget-view+json": {
       "model_id": "658ee8472c824862867b2924a125bd5c",
       "version_major": 2,
       "version_minor": 0
      },
      "text/plain": [
       "Text(value='', description='Search:', layout=Layout(width='603.5px'), placeholder='Enter query')"
      ]
     },
     "metadata": {},
     "output_type": "display_data"
    },
    {
     "data": {
      "application/vnd.jupyter.widget-view+json": {
       "model_id": "2ecd2d88acbf46f4ae8f4d1f76afc8a3",
       "version_major": 2,
       "version_minor": 0
      },
      "text/plain": [
       "interactive(children=(SelectionRangeSlider(description='Release date:', index=(0, 15889), layout=Layout(width=…"
      ]
     },
     "metadata": {},
     "output_type": "display_data"
    },
    {
     "data": {
      "application/vnd.jupyter.widget-view+json": {
       "model_id": "9e58b6d8e5f54d6ab42f6d6182965774",
       "version_major": 2,
       "version_minor": 0
      },
      "text/plain": [
       "Dropdown(description='Un/released:', layout=Layout(width='603.5px'), options=('*', 'released', 'unreleased'), …"
      ]
     },
     "metadata": {},
     "output_type": "display_data"
    },
    {
     "data": {
      "application/vnd.jupyter.widget-view+json": {
       "model_id": "fda2a6d2aa0748e898722e2745af71ee",
       "version_major": 2,
       "version_minor": 0
      },
      "text/plain": [
       "HBox(children=(Dropdown(description='Genre:', options=('*', 'Accounting', 'Action', 'Adventure', 'Animation ',…"
      ]
     },
     "metadata": {},
     "output_type": "display_data"
    },
    {
     "data": {
      "application/vnd.jupyter.widget-view+json": {
       "model_id": "72cabd9159a14a42b4120422770bf3eb",
       "version_major": 2,
       "version_minor": 0
      },
      "text/plain": [
       "HBox(children=(HTML(value='Influenced by:', layout=Layout(height='40px')), Checkbox(value=False, description='…"
      ]
     },
     "metadata": {},
     "output_type": "display_data"
    },
    {
     "data": {
      "application/vnd.jupyter.widget-view+json": {
       "model_id": "258f134a1b9146fda9e1e6fb4405e6e0",
       "version_major": 2,
       "version_minor": 0
      },
      "text/plain": [
       "Button(icon='search', layout=Layout(height='40px', left='90px', width='510px'), style=ButtonStyle())"
      ]
     },
     "metadata": {},
     "output_type": "display_data"
    },
    {
     "data": {
      "application/vnd.jupyter.widget-view+json": {
       "model_id": "ef1e587f9bc54c7b9166a6d524b5c3e1",
       "version_major": 2,
       "version_minor": 0
      },
      "text/plain": [
       "Output()"
      ]
     },
     "metadata": {},
     "output_type": "display_data"
    }
   ],
   "source": [
    "import ipywidgets as widgets\n",
    "from datetime import datetime\n",
    "from ipywidgets import interactive, Button, HBox, VBox, Checkbox, HTML, Layout\n",
    "from IPython.display import display, clear_output\n",
    "\n",
    "header = HTML('<h2>Steam Game Search Engine</h2>', layout=Layout(left= '205px', height='40px'))\n",
    "\n",
    "dates = pd.date_range(games.release_date.min(), games.release_date.max())\n",
    "\n",
    "options = [(date.strftime(' %d\\%m\\%Y '), date) for date in dates]\n",
    "index = (0, len(options)-1)\n",
    "\n",
    "selection_range_slider = widgets.SelectionRangeSlider(\n",
    "    options=options,\n",
    "    index=index,\n",
    "    description='Release date:',\n",
    "    orientation='horizontal',\n",
    "    layout={'width': '603.5px'}\n",
    ")\n",
    "\n",
    "# Define any function\n",
    "def return_dates(date_range):\n",
    "    return date_range\n",
    "\n",
    "# Create sliders using interactive\n",
    "date_slider = interactive(return_dates, date_range = selection_range_slider)\n",
    "\n",
    "text = widgets.Text(\n",
    "       placeholder = 'Enter query',\n",
    "       description='Search:',\n",
    "       layout={'width': '603.5px'})\n",
    "\n",
    "button = widgets.Button(icon='search', layout={'left': '90px','width': '510px', 'height': '40px'})\n",
    "out = widgets.Output()\n",
    "\n",
    "def on_button_clicked(_):\n",
    "      # \"linking function with output\"\n",
    "    with out:\n",
    "      # what happens when we press the button\n",
    "        clear_output()\n",
    "        search()\n",
    "    \n",
    "# linking button and function together using a button's method\n",
    "button.on_click(on_button_clicked)\n",
    "\n",
    "is_released_drop = widgets.Dropdown(description = 'Un/released:',\n",
    "                options = released_list, value = '*', layout={'width': '603.5px'})\n",
    "\n",
    "genres_drop = widgets.Dropdown(description = 'Genre:',\n",
    "                options = genre_list, value = '*')\n",
    "\n",
    "categories_drop = widgets.Dropdown(description = 'Category:',\n",
    "                                  options = category_list, value = '*')\n",
    "\n",
    "words = ['Popularity', 'User ratings']\n",
    "check = [Checkbox(False, description=w) for w in words]\n",
    "\n",
    "checks_title = HTML('Influenced by:', layout=Layout(height='40px'))\n",
    "\n",
    "\n",
    "display(header, text, date_slider, is_released_drop, HBox([genres_drop, categories_drop]), HBox([checks_title,check[0],check[1]]), button, out)"
   ]
  },
  {
   "cell_type": "code",
   "execution_count": null,
   "id": "048ca3d0-d123-41c1-97ac-ccc785fd0fb7",
   "metadata": {},
   "outputs": [],
   "source": []
  }
 ],
 "metadata": {
  "interpreter": {
   "hash": "c3e4c92655df72f09200b5c392c3cdb2bcde9b6d779510dd5f151645d2773f89"
  },
  "kernelspec": {
   "display_name": "Python 3 (ipykernel)",
   "language": "python",
   "name": "python3"
  },
  "language_info": {
   "codemirror_mode": {
    "name": "ipython",
    "version": 3
   },
   "file_extension": ".py",
   "mimetype": "text/x-python",
   "name": "python",
   "nbconvert_exporter": "python",
   "pygments_lexer": "ipython3",
   "version": "3.9.5"
  }
 },
 "nbformat": 4,
 "nbformat_minor": 5
}
