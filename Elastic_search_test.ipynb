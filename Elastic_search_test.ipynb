{
 "cells": [
  {
   "cell_type": "code",
   "execution_count": 70,
   "id": "e3861302-12ab-4f04-9c83-4c00c01d8fc2",
   "metadata": {},
   "outputs": [],
   "source": [
    "import urllib.request \n",
    "import re\n",
    "import pandas as pd\n",
    "from elasticsearch import Elasticsearch"
   ]
  },
  {
   "cell_type": "code",
   "execution_count": 71,
   "id": "c4525bbc-6943-47ae-9deb-7a6d7966a348",
   "metadata": {},
   "outputs": [],
   "source": [
    "import requests\n",
    "# run bin/elasticsearch in elasticsearch directory in terminal before running this cell\n",
    "res = requests.get('http://localhost:9200')"
   ]
  },
  {
   "cell_type": "code",
   "execution_count": 72,
   "id": "d45b987b-3bdd-4445-ab9d-cfd9bc474d52",
   "metadata": {},
   "outputs": [],
   "source": [
    "es = Elasticsearch([{'host': 'localhost', 'port': 9200}])"
   ]
  },
  {
   "cell_type": "code",
   "execution_count": 73,
   "id": "be4b0853-c745-4d61-81e1-c387a4e94f97",
   "metadata": {},
   "outputs": [],
   "source": [
    "def test_ES(es):\n",
    "    return es.ping()  # got True"
   ]
  },
  {
   "cell_type": "code",
   "execution_count": 74,
   "id": "24ebff89-c732-4043-83e6-37adeb694b3f",
   "metadata": {},
   "outputs": [
    {
     "name": "stdout",
     "output_type": "stream",
     "text": [
      "ES instance working\n"
     ]
    },
    {
     "name": "stderr",
     "output_type": "stream",
     "text": [
      "/home/mark/anaconda3/envs/nlp/lib/python3.9/site-packages/elasticsearch/connection/base.py:208: ElasticsearchWarning: Elasticsearch built-in security features are not enabled. Without authentication, your cluster could be accessible to anyone. See https://www.elastic.co/guide/en/elasticsearch/reference/7.13/security-minimal-setup.html to enable security.\n",
      "  warnings.warn(message, category=ElasticsearchWarning)\n"
     ]
    }
   ],
   "source": [
    "if test_ES(es):\n",
    "    print('ES instance working')\n",
    "else:\n",
    "    print('ES instance not working')"
   ]
  },
  {
   "cell_type": "code",
   "execution_count": 75,
   "id": "688a6773-7916-4271-a543-41300990c50f",
   "metadata": {},
   "outputs": [],
   "source": [
    "def index_info(index_name):\n",
    "    count, deleted, shards, =  es.cat.indices(index=index_name, h=['docs.count', 'docs.deleted', 'pri'])[:-1].split(' ')\n",
    "    print(\n",
    "      \"\"\"\n",
    "      #### INDEX INFO #####\n",
    "      index_name = {}\n",
    "      doc_count = {}\n",
    "      shard_count = {}\n",
    "      deleted_doc_count = {}\n",
    "      \"\"\".format(index_name, count, shards, deleted)\n",
    "  )"
   ]
  },
  {
   "cell_type": "code",
   "execution_count": 77,
   "id": "f2671290-c2f1-4a75-8aa1-8b599de36d6b",
   "metadata": {},
   "outputs": [],
   "source": [
    "# read data from steam data directory\n",
    "#games = pd.read_pickle('final_data_raw_V3.pickle')"
   ]
  },
  {
   "cell_type": "code",
   "execution_count": 118,
   "id": "3a0bb897-259f-42e4-ba5a-0db61648ca4f",
   "metadata": {},
   "outputs": [
    {
     "data": {
      "text/plain": [
       "{'acknowledged': True}"
      ]
     },
     "execution_count": 118,
     "metadata": {},
     "output_type": "execute_result"
    }
   ],
   "source": [
    "#es.indices.delete(index='steam_index_dfr')"
   ]
  },
  {
   "cell_type": "code",
   "execution_count": 88,
   "id": "dec6b70d-0918-407d-bd9b-bbbbd546a4ea",
   "metadata": {},
   "outputs": [],
   "source": [
    "# set index name\n",
    "index_name = 'steam_index_bm25_final'"
   ]
  },
  {
   "cell_type": "code",
   "execution_count": 89,
   "id": "23ef5aae-457e-482f-88c4-1e2496bd1b6d",
   "metadata": {
    "tags": []
   },
   "outputs": [
    {
     "name": "stdout",
     "output_type": "stream",
     "text": [
      "creating index steam_index_bm25_final\n"
     ]
    }
   ],
   "source": [
    "# BM25 (Default index)\n",
    "request_body_bm25_final = {\n",
    "    'settings': {\n",
    "        'number_of_shards': 1,\n",
    "        'number_of_replicas': 1,\n",
    "        \n",
    "    },\n",
    "    'mappings': {\n",
    "          'properties': {\n",
    "              'app_id':{'type': 'integer'},\n",
    "              'title': {'type': 'text'},\n",
    "              'short_description': {\n",
    "                  'type': 'text',\n",
    "                  'analyzer': 'english'\n",
    "              },\n",
    "              'about_the_game': {\n",
    "                  'type': 'text',\n",
    "                  'analyzer': 'english'\n",
    "              },\n",
    "              'developers': {\n",
    "                    \"type\": \"text\",\n",
    "                    \"fields\": {\"raw\": {\"type\": \"keyword\"}}\n",
    "              },\n",
    "              'publishers': {\n",
    "                    \"type\": \"text\",\n",
    "                    \"fields\": {\"raw\": {\"type\": \"keyword\"}}\n",
    "              },\n",
    "              'categories': {\n",
    "                    \"type\": \"text\",\n",
    "                    \"fields\": {\"raw\": {\"type\": \"keyword\"}}\n",
    "              },\n",
    "              'genres': {\n",
    "                    \"type\": \"text\",\n",
    "                    \"fields\": {\"raw\": {\"type\": \"keyword\"}}\n",
    "              },\n",
    "              'is_released': {\"type\": \"keyword\"},\n",
    "              'release_date': {'type': 'date'},\n",
    "              'popularity':{'type':'float'},\n",
    "              'rating':{'type':'float'}\n",
    "          }\n",
    "    }\n",
    "}\n",
    "\n",
    "try:\n",
    "    es.indices.get(index_name)\n",
    "    print('index {} already exists'.format(index_name))\n",
    "except:\n",
    "    print('creating index {}'.format(index_name))\n",
    "    es.indices.create(index_name, body=request_body_bm25_final)"
   ]
  },
  {
   "cell_type": "code",
   "execution_count": 91,
   "id": "36bbda69-d516-40ea-a544-1e505c47738b",
   "metadata": {
    "tags": []
   },
   "outputs": [
    {
     "name": "stderr",
     "output_type": "stream",
     "text": [
      "/home/mark/anaconda3/envs/nlp/lib/python3.9/site-packages/elasticsearch/connection/base.py:208: ElasticsearchWarning: Elasticsearch built-in security features are not enabled. Without authentication, your cluster could be accessible to anyone. See https://www.elastic.co/guide/en/elasticsearch/reference/7.13/security-minimal-setup.html to enable security.\n",
      "  warnings.warn(message, category=ElasticsearchWarning)\n"
     ]
    }
   ],
   "source": [
    "for i, (name, app_id, about_the_game, short_description,\n",
    "       developers, publishers, categories, genres, release_date, is_released, rating, popularity) in enumerate(games.values[:,1:]):\n",
    "    doc_body = {\n",
    "              'app_id': app_id,\n",
    "              'title': name,\n",
    "              'short_description': short_description,\n",
    "              'about_the_game': about_the_game,\n",
    "              'developers': developers,\n",
    "              'publishers': publishers,\n",
    "              'categories': categories,\n",
    "              'genres': genres,\n",
    "              'is_released': is_released,\n",
    "              'release_date': release_date,\n",
    "              'rating': rating,\n",
    "              'popularity': popularity\n",
    "              }\n",
    "    es.index(index_name, doc_body, id=i)"
   ]
  },
  {
   "cell_type": "code",
   "execution_count": 92,
   "id": "704c5157-3f52-44d5-83b2-8dde2a561212",
   "metadata": {},
   "outputs": [
    {
     "name": "stdout",
     "output_type": "stream",
     "text": [
      "we have made and index called steam_index_bm25_final with 49417\n",
      " documents\n",
      "\n",
      "      #### INDEX INFO #####\n",
      "      index_name = steam_index_bm25_final\n",
      "      doc_count = 49417\n",
      "      shard_count = 1\n",
      "      deleted_doc_count = 0\n",
      "      \n"
     ]
    }
   ],
   "source": [
    "print('we have made and index called {} with {} documents'.format(index_name, es.cat.count(index=index_name,h=['count'])))\n",
    "index_info(index_name)"
   ]
  },
  {
   "cell_type": "code",
   "execution_count": 119,
   "id": "5dd3f624-b3f7-4346-a3ba-e42afaf9ac1c",
   "metadata": {
    "tags": []
   },
   "outputs": [],
   "source": [
    "index_name = 'steam_index_dfr_final'"
   ]
  },
  {
   "cell_type": "code",
   "execution_count": 120,
   "id": "ea0ca27c-e2be-4b0d-97d8-3412553c6bba",
   "metadata": {
    "tags": []
   },
   "outputs": [
    {
     "name": "stdout",
     "output_type": "stream",
     "text": [
      "index steam_index_dfr_final already exists\n"
     ]
    }
   ],
   "source": [
    "#DFR index\n",
    "request_body_dfr = {\n",
    "        'settings': {\n",
    "        'number_of_shards': 1,\n",
    "        'number_of_replicas': 1,\n",
    "        'index': {\n",
    "            'similarity': {\n",
    "                'dfr_similarity': {\n",
    "                    'type': 'DFR',\n",
    "                    'basic_model': 'g',\n",
    "                    'after_effect': 'l',\n",
    "                    'normalization': 'h2',\n",
    "                    'normalization.h2.c':'3.0'\n",
    "\n",
    "                }\n",
    "            }\n",
    "        }\n",
    "        \n",
    "    },\n",
    "    'mappings': {\n",
    "          'properties': {\n",
    "              'app_id':{'type': 'integer'},\n",
    "              'title': {\n",
    "                  'type': 'text', \n",
    "                  'similarity': 'dfr_similarity'\n",
    "              },\n",
    "              'short_description': {\n",
    "                  'type': 'text', \n",
    "                  'analyzer': 'english', \n",
    "                  'similarity': 'dfr_similarity'\n",
    "              },\n",
    "              'about_the_game': {\n",
    "                  'type': 'text', \n",
    "                  'analyzer': 'english', \n",
    "                  'similarity': 'dfr_similarity'\n",
    "              },\n",
    "              'developer': {\n",
    "                  \"type\": \"text\",\n",
    "                  'similarity': 'dfr_similarity',\n",
    "                    \"fields\": {\n",
    "                    \"raw\": {\"type\": \"keyword\"}}\n",
    "              },\n",
    "              'publisher': {\n",
    "                  \"type\": \"text\",\n",
    "                  'similarity': 'dfr_similarity',\n",
    "                    \"fields\": {\n",
    "                    \"raw\": {\"type\": \"keyword\"}}\n",
    "              },\n",
    "              'categories': {\n",
    "                  \"type\": \"text\",\n",
    "                  'similarity': 'dfr_similarity',\n",
    "                    \"fields\": {\n",
    "                    \"raw\": {\"type\": \"keyword\"}}\n",
    "              },\n",
    "              'genres': {\n",
    "                  \"type\": \"text\", \n",
    "                  'similarity': 'dfr_similarity',\n",
    "                    \"fields\": {\n",
    "                    \"raw\": { \"type\": \"keyword\"}}\n",
    "              },\n",
    "              'is_released': {\"type\": \"keyword\"},\n",
    "              'release_date': {'type': 'date'},\n",
    "              'popularity':{'type':'float'},\n",
    "              'rating':{'type':'float'}\n",
    "          }\n",
    "    }\n",
    "}\n",
    "\n",
    "try:\n",
    "    es.indices.get(index_name)\n",
    "    print('index {} already exists'.format(index_name))\n",
    "except:\n",
    "    print('creating index {}'.format(index_name))\n",
    "    es.indices.create(index_name, body=request_body_dfr)"
   ]
  },
  {
   "cell_type": "code",
   "execution_count": 121,
   "id": "116d8124-c19e-4033-a0e4-c4fa3d904b76",
   "metadata": {
    "tags": []
   },
   "outputs": [],
   "source": [
    "# indexing using DFR\n",
    "for i, (name, app_id, about_the_game, short_description,\n",
    "       developers, publishers, categories, genres, release_date, is_released, rating, popularity) in enumerate(games.values[:,1:]):\n",
    "    doc_body = {\n",
    "              'app_id': app_id,\n",
    "              'title': name,\n",
    "              'short_description': short_description,\n",
    "              'about_the_game': about_the_game,\n",
    "              'developers': developers,\n",
    "              'publishers': publishers,\n",
    "              'categories': categories,\n",
    "              'genres': genres,\n",
    "              'is_released': is_released,\n",
    "              'release_date': release_date,\n",
    "              'rating': rating,\n",
    "              'popularity': popularity\n",
    "              }\n",
    "    es.index(index_name, doc_body, id=i)"
   ]
  },
  {
   "cell_type": "code",
   "execution_count": 122,
   "id": "8acf88f6-7e18-4435-82e8-064f9a912e56",
   "metadata": {
    "tags": []
   },
   "outputs": [
    {
     "name": "stdout",
     "output_type": "stream",
     "text": [
      "we have made and index called steam_index_dfr_final with 49417\n",
      " documents\n",
      "\n",
      "      #### INDEX INFO #####\n",
      "      index_name = steam_index_dfr_final\n",
      "      doc_count = 49417\n",
      "      shard_count = 1\n",
      "      deleted_doc_count = 0\n",
      "      \n"
     ]
    }
   ],
   "source": [
    "print('we have made and index called {} with {} documents'.format(index_name, es.cat.count(index=index_name,h=['count'])))\n",
    "index_info(index_name)"
   ]
  },
  {
   "cell_type": "code",
   "execution_count": 115,
   "id": "98f64701-6600-436a-a02c-c5347c4f9c47",
   "metadata": {
    "tags": []
   },
   "outputs": [],
   "source": [
    "# search function that inlcudes query body will taken the varible from the widgets to complete the search \n",
    "def search():\n",
    "    query = text.value\n",
    "    fields = [\"title\", \"short_description\", 'about_the_game', 'developer', 'categories', 'genres']\n",
    "\n",
    "    start_date = date_slider.result[0]\n",
    "    end_date = date_slider.result[1]\n",
    "    \n",
    "    is_released = is_released_drop.value\n",
    "    genre = genres_drop.value\n",
    "    category = categories_drop.value\n",
    "\n",
    "\n",
    "    query_body = {\n",
    "        \"query\": {\n",
    "            'function_score': {\n",
    "                \"query\": {\n",
    "                    \"bool\": {\n",
    "                       'should': [ \n",
    "                            {\n",
    "                                \"multi_match\": {\n",
    "                                    \"query\": query, \n",
    "                                    \"fields\":  fields\n",
    "                                }\n",
    "                            },\n",
    "                            {\n",
    "                                'function_score':{\n",
    "                                    'field_value_factor': {\n",
    "                                        'field': 'popularity',\n",
    "                                        'factor': 20,'missing':0\n",
    "                                    }\n",
    "                                }\n",
    "                            },\n",
    "                            { \n",
    "                                'function_score': {\n",
    "                                    'field_value_factor': {\n",
    "                                        'field': 'rating',\n",
    "                                        'factor': 0.1,\n",
    "                                        'missing': 0\n",
    "                                    }\n",
    "                                }\n",
    "                            }\n",
    "                        ],\n",
    "                         \"must\": [\n",
    "                           {\n",
    "                                'range': {\n",
    "                                    'release_date': {\n",
    "                                        'gte': start_date,\n",
    "                                        'lte': end_date\n",
    "                                    }\n",
    "                                }\n",
    "                            }\n",
    "                        ],\n",
    "                        'filter': [\n",
    "                            {'wildcard': {'is_released': is_released}},\n",
    "                            {'wildcard': {'genres.raw': genre}},\n",
    "                            {'wildcard': {'categories.raw': category}}\n",
    "                    ]\n",
    "                }\n",
    "            }\n",
    "        }\n",
    "        }\n",
    "    }\n",
    "\n",
    "    print('### SEARCH RESULTS ####\\n')\n",
    "    results = es.search(index=index_name, body=query_body)['hits']['hits']\n",
    "    for hit in results:\n",
    "        print('''GAME TITLE: {}, Release date: {}, Score: {}\\n\\n{}\\n\n",
    "Developer(s): {}\\nPublisher(s): {}\\n\\nGenre(s): {}\\nCategories: {}\\n\n",
    "Popularity: {}, rating: {}\\n\\n'''.format(hit['_source']['title'], \n",
    "                                     hit['_source']['release_date'][:10], \n",
    "                                     hit['_score'], hit['_source']['about_the_game'],\n",
    "                                     hit['_source']['developers'], hit['_source']['publishers'],\n",
    "                                     hit['_source']['genres'], hit['_source']['categories'],\n",
    "                                     hit['_source']['popularity'], hit['_source']['rating']))"
   ]
  },
  {
   "cell_type": "code",
   "execution_count": 108,
   "id": "ac4bb8eb-4e09-4b34-89d5-809d9fbc42e4",
   "metadata": {
    "jupyter": {
     "source_hidden": true
    },
    "tags": []
   },
   "outputs": [],
   "source": [
    "genre_list = []\n",
    "for genres in games.genres:\n",
    "    for g in genres:\n",
    "        genre_list.append(g)\n",
    "        \n",
    "genre_list = list(set(genre_list)) + ['*']   \n",
    "\n",
    "category_list = []\n",
    "for categories in games.categories:\n",
    "    for c in categories:\n",
    "        category_list.append(c)\n",
    "        \n",
    "category_list = list(set(category_list)) + ['*'] \n",
    "\n",
    "released_list = list(games.is_released.unique()) + ['*']"
   ]
  },
  {
   "cell_type": "code",
   "execution_count": 109,
   "id": "5fd300c1-a7d3-4ac0-a676-521798a3510c",
   "metadata": {
    "jupyter": {
     "source_hidden": true
    },
    "tags": []
   },
   "outputs": [
    {
     "data": {
      "application/vnd.jupyter.widget-view+json": {
       "model_id": "a4751ebda1f841e999514f95769705be",
       "version_major": 2,
       "version_minor": 0
      },
      "text/plain": [
       "Text(value='', description='Search', layout=Layout(width='500px'), placeholder='Enter query')"
      ]
     },
     "metadata": {},
     "output_type": "display_data"
    },
    {
     "data": {
      "application/vnd.jupyter.widget-view+json": {
       "model_id": "10cbef51ab5b40f0b5f3547ced9a8c80",
       "version_major": 2,
       "version_minor": 0
      },
      "text/plain": [
       "interactive(children=(SelectionRangeSlider(description='Release date', index=(0, 15889), layout=Layout(width='…"
      ]
     },
     "metadata": {},
     "output_type": "display_data"
    },
    {
     "data": {
      "application/vnd.jupyter.widget-view+json": {
       "model_id": "9f8c25a58517436bbb6aae7400a70fb2",
       "version_major": 2,
       "version_minor": 0
      },
      "text/plain": [
       "Dropdown(description='(Un)released', index=2, options=('released', 'unreleased', '*'), value='*')"
      ]
     },
     "metadata": {},
     "output_type": "display_data"
    },
    {
     "data": {
      "application/vnd.jupyter.widget-view+json": {
       "model_id": "15678fb84b254730a0dba1d99826a14d",
       "version_major": 2,
       "version_minor": 0
      },
      "text/plain": [
       "Dropdown(description='Genre', index=35, options=('Sports', 'Photo Editing', 'Violent', 'Audio Production', 'Ma…"
      ]
     },
     "metadata": {},
     "output_type": "display_data"
    },
    {
     "data": {
      "application/vnd.jupyter.widget-view+json": {
       "model_id": "c71108a47bea4f31a1d3e5e618b44053",
       "version_major": 2,
       "version_minor": 0
      },
      "text/plain": [
       "Dropdown(description='Catagory', index=37, options=('LAN PvP', 'Shared/Split Screen Co-op', 'Online Co-op', 'S…"
      ]
     },
     "metadata": {},
     "output_type": "display_data"
    },
    {
     "data": {
      "application/vnd.jupyter.widget-view+json": {
       "model_id": "887ff7195fe94950b09a64a968202928",
       "version_major": 2,
       "version_minor": 0
      },
      "text/plain": [
       "Button(description='Search', style=ButtonStyle())"
      ]
     },
     "metadata": {},
     "output_type": "display_data"
    },
    {
     "data": {
      "application/vnd.jupyter.widget-view+json": {
       "model_id": "e681eaa824b64b59a36318210f08e957",
       "version_major": 2,
       "version_minor": 0
      },
      "text/plain": [
       "Output()"
      ]
     },
     "metadata": {},
     "output_type": "display_data"
    }
   ],
   "source": [
    "import ipywidgets as widgets\n",
    "from datetime import datetime\n",
    "from ipywidgets import interactive\n",
    "from IPython.display import display, clear_output\n",
    "\n",
    "dates = pd.date_range(games.release_date.min(), games.release_date.max())\n",
    "\n",
    "options = [(date.strftime(' %d\\%m\\%Y '), date) for date in dates]\n",
    "index = (0, len(options)-1)\n",
    "\n",
    "selection_range_slider = widgets.SelectionRangeSlider(\n",
    "    options=options,\n",
    "    index=index,\n",
    "    description='Release date',\n",
    "    orientation='horizontal',\n",
    "    layout={'width': '500px'}\n",
    ")\n",
    "\n",
    "# Define any function\n",
    "def return_dates(date_range):\n",
    "    return date_range\n",
    "\n",
    "# Create sliders using interactive\n",
    "date_slider = interactive(return_dates, date_range = selection_range_slider)\n",
    "\n",
    "text = widgets.Text(\n",
    "       placeholder = 'Enter query',\n",
    "       description='Search',\n",
    "        layout={'width': '500px'})\n",
    "\n",
    "button = widgets.Button(description='Search')\n",
    "out = widgets.Output()\n",
    "\n",
    "def on_button_clicked(_):\n",
    "      # \"linking function with output\"\n",
    "    with out:\n",
    "      # what happens when we press the button\n",
    "        clear_output()\n",
    "        search()\n",
    "    \n",
    "# linking button and function together using a button's method\n",
    "button.on_click(on_button_clicked)\n",
    "\n",
    "is_released_drop = widgets.Dropdown(description = '(Un)released',\n",
    "                options = released_list, value = '*')\n",
    "\n",
    "genres_drop = widgets.Dropdown(description = 'Genre',\n",
    "                options = genre_list, value = '*')\n",
    "\n",
    "categories_drop = widgets.Dropdown(description = 'Catagory',\n",
    "                                  options = category_list, value = '*')\n",
    "\n",
    "# You can also view this in a notebook without using display.\n",
    "display(text, date_slider, is_released_drop, genres_drop, categories_drop, button, out)"
   ]
  },
  {
   "cell_type": "code",
   "execution_count": null,
   "id": "962632c7-3a2e-4fc1-aac0-02ac73a02bdc",
   "metadata": {},
   "outputs": [],
   "source": []
  }
 ],
 "metadata": {
  "kernelspec": {
   "display_name": "Python 3 (ipykernel)",
   "language": "python",
   "name": "python3"
  },
  "language_info": {
   "codemirror_mode": {
    "name": "ipython",
    "version": 3
   },
   "file_extension": ".py",
   "mimetype": "text/x-python",
   "name": "python",
   "nbconvert_exporter": "python",
   "pygments_lexer": "ipython3",
   "version": "3.9.5"
  }
 },
 "nbformat": 4,
 "nbformat_minor": 5
}
