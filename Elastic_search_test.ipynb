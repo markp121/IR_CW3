{
 "cells": [
  {
   "cell_type": "code",
   "execution_count": 3,
   "id": "e3861302-12ab-4f04-9c83-4c00c01d8fc2",
   "metadata": {},
   "outputs": [],
   "source": [
    "import urllib.request \n",
    "import re\n",
    "from elasticsearch import Elasticsearch"
   ]
  },
  {
   "cell_type": "code",
   "execution_count": 104,
   "id": "c4525bbc-6943-47ae-9deb-7a6d7966a348",
   "metadata": {},
   "outputs": [],
   "source": [
    "import requests\n",
    "# run bin/elasticsearch in elasticsearch directory in terminal before running this cell\n",
    "res = requests.get('http://localhost:9200')"
   ]
  },
  {
   "cell_type": "code",
   "execution_count": 105,
   "id": "d45b987b-3bdd-4445-ab9d-cfd9bc474d52",
   "metadata": {},
   "outputs": [],
   "source": [
    "es = Elasticsearch([{'host': 'localhost', 'port': 9200}])"
   ]
  },
  {
   "cell_type": "code",
   "execution_count": 106,
   "id": "be4b0853-c745-4d61-81e1-c387a4e94f97",
   "metadata": {},
   "outputs": [],
   "source": [
    "def test_ES(es):\n",
    "    return es.ping()  # got True"
   ]
  },
  {
   "cell_type": "code",
   "execution_count": 107,
   "id": "24ebff89-c732-4043-83e6-37adeb694b3f",
   "metadata": {},
   "outputs": [
    {
     "name": "stdout",
     "output_type": "stream",
     "text": [
      "ES instance working\n"
     ]
    },
    {
     "name": "stderr",
     "output_type": "stream",
     "text": [
      "/home/mark/anaconda3/envs/nlp/lib/python3.9/site-packages/elasticsearch/connection/base.py:208: ElasticsearchWarning: Elasticsearch built-in security features are not enabled. Without authentication, your cluster could be accessible to anyone. See https://www.elastic.co/guide/en/elasticsearch/reference/7.13/security-minimal-setup.html to enable security.\n",
      "  warnings.warn(message, category=ElasticsearchWarning)\n"
     ]
    }
   ],
   "source": [
    "if test_ES(es):\n",
    "    print('ES instance working')\n",
    "else:\n",
    "    print('ES instance not working')"
   ]
  },
  {
   "cell_type": "code",
   "execution_count": 108,
   "id": "688a6773-7916-4271-a543-41300990c50f",
   "metadata": {},
   "outputs": [],
   "source": [
    "def index_info(index_name):\n",
    "    count, deleted, shards, =  es.cat.indices(index=index_name, h=['docs.count', 'docs.deleted', 'pri'])[:-1].split(' ')\n",
    "    print(\n",
    "      \"\"\"\n",
    "      #### INDEX INFO #####\n",
    "      index_name = {}\n",
    "      doc_count = {}\n",
    "      shard_count = {}\n",
    "      deleted_doc_count = {}\n",
    "      \"\"\".format(index_name, count, shards, deleted)\n",
    "  )"
   ]
  },
  {
   "cell_type": "code",
   "execution_count": 71,
   "id": "f2671290-c2f1-4a75-8aa1-8b599de36d6b",
   "metadata": {},
   "outputs": [],
   "source": [
    "# read data from steam data directory \n",
    "games = pd.read_pickle('cleaned_steam_data')"
   ]
  },
  {
   "cell_type": "code",
   "execution_count": 86,
   "id": "3a0bb897-259f-42e4-ba5a-0db61648ca4f",
   "metadata": {},
   "outputs": [
    {
     "data": {
      "text/plain": [
       "{'acknowledged': True}"
      ]
     },
     "execution_count": 86,
     "metadata": {},
     "output_type": "execute_result"
    }
   ],
   "source": [
    "#es.indices.delete(index='steam_test')"
   ]
  },
  {
   "cell_type": "code",
   "execution_count": 87,
   "id": "23ef5aae-457e-482f-88c4-1e2496bd1b6d",
   "metadata": {
    "tags": []
   },
   "outputs": [
    {
     "name": "stdout",
     "output_type": "stream",
     "text": [
      "creating index steam_test\n"
     ]
    }
   ],
   "source": [
    "request_body = {\n",
    "    'settings': {\n",
    "        'number_of_shards': 1,\n",
    "        'number_of_replicas': 1,\n",
    "        \n",
    "    },\n",
    "    'mappings': {\n",
    "          'properties': {\n",
    "              'App_ID':{'type': 'long'},\n",
    "              'title': {'type': 'text'},\n",
    "              'abstract': {'type': 'text'},\n",
    "              'body': {'type': 'text'},\n",
    "              'developer': {'type': 'text'},\n",
    "              'publisher': {'type': 'text'},\n",
    "              'categories': {'type': 'text'},\n",
    "              'genres': {'type': 'text'},\n",
    "              'release_date': {'type': 'text'},\n",
    "          }\n",
    "    }\n",
    "}\n",
    "\n",
    "index_name = 'steam_test'\n",
    "try:\n",
    "    es.indices.get(index_name)\n",
    "    print('index {} already exists'.format(index_name))\n",
    "except:\n",
    "    print('creating index {}'.format(index_name))\n",
    "    es.indices.create(index_name, body=request_body)"
   ]
  },
  {
   "cell_type": "code",
   "execution_count": 92,
   "id": "36bbda69-d516-40ea-a544-1e505c47738b",
   "metadata": {},
   "outputs": [],
   "source": [
    "for i, (title, App_ID, body, abstract, developer, publisher, categories, genres, release_date) in enumerate(games.values[:,1:]):\n",
    "    doc_body = {\n",
    "              'App_ID': App_ID,\n",
    "              'title': title,\n",
    "              'abstract': abstract,\n",
    "              'body': body,\n",
    "              'developer': developer,\n",
    "              'publisher': publisher,\n",
    "              'categories': categories,\n",
    "              'genres': genres,\n",
    "              'release_date': release_date\n",
    "              }\n",
    "    es.index(index_name, doc_body, id=i)"
   ]
  },
  {
   "cell_type": "code",
   "execution_count": 109,
   "id": "704c5157-3f52-44d5-83b2-8dde2a561212",
   "metadata": {},
   "outputs": [
    {
     "name": "stdout",
     "output_type": "stream",
     "text": [
      "we have made and index called steam_test with 56122\n",
      " documents\n",
      "\n",
      "      #### INDEX INFO #####\n",
      "      index_name = steam_test\n",
      "      doc_count = 56122\n",
      "      shard_count = 1\n",
      "      deleted_doc_count = 0\n",
      "      \n"
     ]
    }
   ],
   "source": [
    "print('we have made and index called {} with {} documents'.format(index_name, es.cat.count(index=index_name,h=['count'])))\n",
    "index_info(index_name)"
   ]
  },
  {
   "cell_type": "code",
   "execution_count": 111,
   "id": "31bfe536-8c7f-4a2d-bac2-857ca5ec1d5b",
   "metadata": {},
   "outputs": [
    {
     "data": {
      "text/plain": [
       "{'_index': 'steam_test',\n",
       " '_type': '_doc',\n",
       " '_id': '50',\n",
       " '_version': 1,\n",
       " '_seq_no': 50,\n",
       " '_primary_term': 1,\n",
       " 'found': True,\n",
       " '_source': {'App_ID': 2290,\n",
       "  'title': 'Final DOOM',\n",
       "  'abstract': 'Two New, 32-Level DOOM II Episodes. Evilution: Far from earth, the UAC recommenced their experiments on on of the moons of Jupiter. A spaceship, mistaken for a supply vexxel on radar, hovered above the base. Hideous demons poured out, blanketing the base with death. All your comrades were quickly slaughtered or zombified.',\n",
       "  'body': \"Two New, 32-Level DOOM II Episodes.Evilution:Far from earth, the UAC recommenced their experiments on on of the moons of Jupiter. A spaceship, mistaken for a supply vexxel on radar, hovered above the base. Hideous demons poured out, blanketing the base with death. All your comrades were quickly slaughtered or zombified. This time, it's not about survival. It's about revenge.The Plutonia Experiment:Every effort has been made by the nation's top scientists to close the seven interdimensional Gates of Hell, but one portal remains open. Alone, you must infiltrate the ravaged complex, defeat the demon Gatekeeper and seal the last Hell-hole before the undead are prepared to, once again, take over the world.\",\n",
       "  'developer': ['id Software'],\n",
       "  'publisher': ['id Software'],\n",
       "  'categories': ['Single-player', 'Steam Cloud'],\n",
       "  'genres': ['Action'],\n",
       "  'release_date': '3 Aug 2007'}}"
      ]
     },
     "execution_count": 111,
     "metadata": {},
     "output_type": "execute_result"
    }
   ],
   "source": [
    "es.get(index=index_name, id=50)"
   ]
  },
  {
   "cell_type": "code",
   "execution_count": 95,
   "id": "98f64701-6600-436a-a02c-c5347c4f9c47",
   "metadata": {},
   "outputs": [
    {
     "name": "stdout",
     "output_type": "stream",
     "text": [
      "### RESULTS ####\n",
      "title: Poly Pirates - score: 6.499002\n",
      "title: Bob Came in Pieces - score: 6.425233\n",
      "title: Deep Space Battle Simulator - score: 6.351606\n",
      "title: V ARRR - score: 6.2367477\n",
      "title: 1912 Titanic Mystery - score: 6.2364287\n",
      "title: SEX Cruise VR - score: 6.2364287\n",
      "title: Rocket Squad - score: 6.191264\n",
      "title: Captivus - score: 6.17612\n",
      "title: Adrorium - score: 6.1709504\n",
      "title: PXL-SHIP - score: 6.168356\n",
      "some info on results\n",
      "{'value': 6.168356, 'description': 'weight(body:ship in 41823) [PerFieldSimilarity], result of:', 'details': [{'value': 6.168356, 'description': 'score(freq=4.0), computed as boost * idf * tf from:', 'details': [{'value': 2.2, 'description': 'boost', 'details': []}, {'value': 3.2122538, 'description': 'idf, computed as log(1 + (N - n + 0.5) / (n + 0.5)) from:', 'details': [{'value': 2257, 'description': 'n, number of documents containing term', 'details': []}, {'value': 56064, 'description': 'N, total number of documents with field', 'details': []}]}, {'value': 0.8728445, 'description': 'tf, computed as freq / (freq + k1 * (1 - b + b * dl / avgdl)) from:', 'details': [{'value': 4.0, 'description': 'freq, occurrences of term within document', 'details': []}, {'value': 1.2, 'description': 'k1, term saturation parameter', 'details': []}, {'value': 0.75, 'description': 'b, length normalization parameter', 'details': []}, {'value': 68.0, 'description': 'dl, length of field (approximate)', 'details': []}, {'value': 216.47047, 'description': 'avgdl, average length of field', 'details': []}]}]}]}\n"
     ]
    }
   ],
   "source": [
    "query_body = {\n",
    "    'query':{\n",
    "        'term': {\n",
    "            'body':  'ship'\n",
    "        }\n",
    "    }\n",
    "}\n",
    "print('### RESULTS ####')\n",
    "explain=True\n",
    "results = es.search(index=index_name, body=query_body, explain=explain)['hits']['hits']\n",
    "for hit in results:\n",
    "    print('title: {} - score: {}'.format(hit['_source']['title'], hit['_score']))\n",
    "if explain:\n",
    "    print('some info on results')\n",
    "    print(hit['_explanation'])"
   ]
  },
  {
   "cell_type": "code",
   "execution_count": null,
   "id": "2debab71-37b6-4665-a9dd-aae4310ae9a4",
   "metadata": {},
   "outputs": [],
   "source": []
  }
 ],
 "metadata": {
  "kernelspec": {
   "display_name": "Python 3 (ipykernel)",
   "language": "python",
   "name": "python3"
  },
  "language_info": {
   "codemirror_mode": {
    "name": "ipython",
    "version": 3
   },
   "file_extension": ".py",
   "mimetype": "text/x-python",
   "name": "python",
   "nbconvert_exporter": "python",
   "pygments_lexer": "ipython3",
   "version": "3.9.5"
  }
 },
 "nbformat": 4,
 "nbformat_minor": 5
}
