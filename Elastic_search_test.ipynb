{
 "cells": [
  {
   "cell_type": "code",
   "execution_count": 45,
   "id": "e3861302-12ab-4f04-9c83-4c00c01d8fc2",
   "metadata": {},
   "outputs": [],
   "source": [
    "import urllib.request \n",
    "import re\n",
    "import pandas as pd\n",
    "from elasticsearch import Elasticsearch"
   ]
  },
  {
   "cell_type": "code",
   "execution_count": 46,
   "id": "c4525bbc-6943-47ae-9deb-7a6d7966a348",
   "metadata": {},
   "outputs": [],
   "source": [
    "import requests\n",
    "# run bin/elasticsearch in elasticsearch directory in terminal before running this cell\n",
    "res = requests.get('http://localhost:9200')"
   ]
  },
  {
   "cell_type": "code",
   "execution_count": 47,
   "id": "d45b987b-3bdd-4445-ab9d-cfd9bc474d52",
   "metadata": {},
   "outputs": [],
   "source": [
    "es = Elasticsearch([{'host': 'localhost', 'port': 9200}])"
   ]
  },
  {
   "cell_type": "code",
   "execution_count": 48,
   "id": "be4b0853-c745-4d61-81e1-c387a4e94f97",
   "metadata": {},
   "outputs": [],
   "source": [
    "def test_ES(es):\n",
    "    return es.ping()  # got True"
   ]
  },
  {
   "cell_type": "code",
   "execution_count": 49,
   "id": "24ebff89-c732-4043-83e6-37adeb694b3f",
   "metadata": {},
   "outputs": [
    {
     "name": "stdout",
     "output_type": "stream",
     "text": [
      "ES instance working\n"
     ]
    },
    {
     "name": "stderr",
     "output_type": "stream",
     "text": [
      "/home/mark/anaconda3/envs/nlp/lib/python3.9/site-packages/elasticsearch/connection/base.py:208: ElasticsearchWarning: Elasticsearch built-in security features are not enabled. Without authentication, your cluster could be accessible to anyone. See https://www.elastic.co/guide/en/elasticsearch/reference/7.13/security-minimal-setup.html to enable security.\n",
      "  warnings.warn(message, category=ElasticsearchWarning)\n"
     ]
    }
   ],
   "source": [
    "if test_ES(es):\n",
    "    print('ES instance working')\n",
    "else:\n",
    "    print('ES instance not working')"
   ]
  },
  {
   "cell_type": "code",
   "execution_count": 50,
   "id": "688a6773-7916-4271-a543-41300990c50f",
   "metadata": {},
   "outputs": [],
   "source": [
    "def index_info(index_name):\n",
    "    count, deleted, shards, =  es.cat.indices(index=index_name, h=['docs.count', 'docs.deleted', 'pri'])[:-1].split(' ')\n",
    "    print(\n",
    "      \"\"\"\n",
    "      #### INDEX INFO #####\n",
    "      index_name = {}\n",
    "      doc_count = {}\n",
    "      shard_count = {}\n",
    "      deleted_doc_count = {}\n",
    "      \"\"\".format(index_name, count, shards, deleted)\n",
    "  )"
   ]
  },
  {
   "cell_type": "code",
   "execution_count": 51,
   "id": "f2671290-c2f1-4a75-8aa1-8b599de36d6b",
   "metadata": {},
   "outputs": [],
   "source": [
    "# read data from steam data directory \n",
    "games = pd.read_pickle('final_data.pickle')"
   ]
  },
  {
   "cell_type": "code",
   "execution_count": 82,
   "id": "3a0bb897-259f-42e4-ba5a-0db61648ca4f",
   "metadata": {},
   "outputs": [
    {
     "data": {
      "text/plain": [
       "{'acknowledged': True}"
      ]
     },
     "execution_count": 82,
     "metadata": {},
     "output_type": "execute_result"
    }
   ],
   "source": [
    "#es.indices.delete(index='steam_index_bm25')"
   ]
  },
  {
   "cell_type": "code",
   "execution_count": 98,
   "id": "dec6b70d-0918-407d-bd9b-bbbbd546a4ea",
   "metadata": {},
   "outputs": [],
   "source": [
    "# set index name\n",
    "index_name = 'steam_index_bm25'"
   ]
  },
  {
   "cell_type": "code",
   "execution_count": 83,
   "id": "23ef5aae-457e-482f-88c4-1e2496bd1b6d",
   "metadata": {
    "tags": []
   },
   "outputs": [
    {
     "name": "stdout",
     "output_type": "stream",
     "text": [
      "creating index steam_index_bm25\n"
     ]
    }
   ],
   "source": [
    "# BM25 (Default index)\n",
    "request_body_bm25 = {\n",
    "    'settings': {\n",
    "        'number_of_shards': 1,\n",
    "        'number_of_replicas': 1,\n",
    "        \n",
    "    },\n",
    "    'mappings': {\n",
    "          'properties': {\n",
    "              'app_id':{'type': 'integer'},\n",
    "              'title': {'type': 'text'},\n",
    "              'short_description': {'type': 'text'},\n",
    "              'about_the_game': {'type': 'text'},\n",
    "              'developer': {\n",
    "                    \"type\": \"text\",\n",
    "                    \"fields\": {\n",
    "                    \"raw\": { \n",
    "                       \"type\": \"keyword\"\n",
    "                            }\n",
    "                    }\n",
    "              },\n",
    "              'publisher': {\n",
    "                    \"type\": \"text\",\n",
    "                    \"fields\": {\n",
    "                    \"raw\": { \n",
    "                       \"type\": \"keyword\"\n",
    "                            }\n",
    "                    }\n",
    "              },\n",
    "              'categories': {\n",
    "                    \"type\": \"text\",\n",
    "                    \"fields\": {\n",
    "                    \"raw\": { \n",
    "                       \"type\": \"keyword\"\n",
    "                            }\n",
    "                    }\n",
    "              },\n",
    "              'genres': {\n",
    "                    \"type\": \"text\",\n",
    "                    \"fields\": {\n",
    "                    \"raw\": { \n",
    "                       \"type\": \"keyword\"\n",
    "                            }\n",
    "                    }\n",
    "              },\n",
    "              'release_date': {'type': 'date'},\n",
    "          }\n",
    "    }\n",
    "}\n",
    "\n",
    "try:\n",
    "    es.indices.get(index_name)\n",
    "    print('index {} already exists'.format(index_name))\n",
    "except:\n",
    "    print('creating index {}'.format(index_name))\n",
    "    es.indices.create(index_name, body=request_body_bm25)"
   ]
  },
  {
   "cell_type": "code",
   "execution_count": 91,
   "id": "36bbda69-d516-40ea-a544-1e505c47738b",
   "metadata": {},
   "outputs": [],
   "source": [
    "for i, (title, app_id, developer, publisher, categories, genres, body, abstract, release_date) in enumerate(games.values[:,1:-1]):\n",
    "    doc_body = {\n",
    "              'app_id': app_id,\n",
    "              'title': title,\n",
    "              'short_description': abstract,\n",
    "              'about_the_game': body,\n",
    "              'developer': developer,\n",
    "              'publisher': publisher,\n",
    "              'categories': categories,\n",
    "              'genres': genres,\n",
    "              'release_date': release_date\n",
    "              }\n",
    "    es.index(index_name, doc_body, id=i)"
   ]
  },
  {
   "cell_type": "code",
   "execution_count": 86,
   "id": "704c5157-3f52-44d5-83b2-8dde2a561212",
   "metadata": {},
   "outputs": [
    {
     "name": "stdout",
     "output_type": "stream",
     "text": [
      "we have made and index called steam_index_bm25 with 49317\n",
      " documents\n",
      "\n",
      "      #### INDEX INFO #####\n",
      "      index_name = steam_index_bm25\n",
      "      doc_count = 49317\n",
      "      shard_count = 1\n",
      "      deleted_doc_count = 0\n",
      "      \n"
     ]
    }
   ],
   "source": [
    "print('we have made and index called {} with {} documents'.format(index_name, es.cat.count(index=index_name,h=['count'])))\n",
    "index_info(index_name)"
   ]
  },
  {
   "cell_type": "code",
   "execution_count": 101,
   "id": "5dd3f624-b3f7-4346-a3ba-e42afaf9ac1c",
   "metadata": {},
   "outputs": [],
   "source": [
    "index_name = 'steam_index_dfr'"
   ]
  },
  {
   "cell_type": "code",
   "execution_count": 102,
   "id": "ea0ca27c-e2be-4b0d-97d8-3412553c6bba",
   "metadata": {},
   "outputs": [
    {
     "name": "stdout",
     "output_type": "stream",
     "text": [
      "index steam_index_dfr already exists\n"
     ]
    }
   ],
   "source": [
    "#DFR index\n",
    "request_body_dfr = {\n",
    "        'settings': {\n",
    "        'number_of_shards': 1,\n",
    "        'number_of_replicas': 1,\n",
    "        'index': {\n",
    "            'similarity': {\n",
    "                'dfr_similarity': {\n",
    "                    'type': 'DFR',\n",
    "                    'basic_model': 'g',\n",
    "                    'after_effect': 'l',\n",
    "                    'normalization': 'h2',\n",
    "                    'normalization.h2.c':'3.0'\n",
    "\n",
    "                }\n",
    "            }\n",
    "        }\n",
    "        \n",
    "    },\n",
    "    'mappings': {\n",
    "          'properties': {\n",
    "              'app_id':{'type': 'integer'},\n",
    "              'title': {'type': 'text', 'similarity': 'dfr_similarity'},\n",
    "              'short_description': {'type': 'text', 'similarity': 'dfr_similarity'},\n",
    "              'about_the_game': {'type': 'text', 'similarity': 'dfr_similarity'},\n",
    "              'developer': {\n",
    "                    \"type\": \"text\", 'similarity': 'dfr_similarity',\n",
    "                    \"fields\": {\n",
    "                    \"raw\": { \n",
    "                       \"type\": \"keyword\"\n",
    "                            }\n",
    "                    }\n",
    "              },\n",
    "              'publisher': {\n",
    "                    \"type\": \"text\", 'similarity': 'dfr_similarity',\n",
    "                    \"fields\": {\n",
    "                    \"raw\": { \n",
    "                       \"type\": \"keyword\"\n",
    "                            }\n",
    "                    }\n",
    "              },\n",
    "              'categories': {\n",
    "                    \"type\": \"text\", 'similarity': 'dfr_similarity',\n",
    "                    \"fields\": {\n",
    "                    \"raw\": { \n",
    "                       \"type\": \"keyword\"\n",
    "                            }\n",
    "                    }\n",
    "              },\n",
    "              'genres': {\n",
    "                    \"type\": \"text\", 'similarity': 'dfr_similarity',\n",
    "                    \"fields\": {\n",
    "                    \"raw\": { \n",
    "                       \"type\": \"keyword\"\n",
    "                            }\n",
    "                    }\n",
    "              },\n",
    "              'release_date': {'type': 'date'},\n",
    "          }\n",
    "    }\n",
    "}\n",
    "\n",
    "try:\n",
    "    es.indices.get(index_name)\n",
    "    print('index {} already exists'.format(index_name))\n",
    "except:\n",
    "    print('creating index {}'.format(index_name))\n",
    "    es.indices.create(index_name, body=request_body_dfr)"
   ]
  },
  {
   "cell_type": "code",
   "execution_count": null,
   "id": "116d8124-c19e-4033-a0e4-c4fa3d904b76",
   "metadata": {},
   "outputs": [],
   "source": [
    "for i, (title, app_id, developer, publisher, categories, genres, body, abstract, release_date) in enumerate(games.values[:,1:-1]):\n",
    "    doc_body = {\n",
    "              'app_id': app_id,\n",
    "              'title': title,\n",
    "              'short_description': abstract,\n",
    "              'about_the_game': body,\n",
    "              'developer': developer,\n",
    "              'publisher': publisher,\n",
    "              'categories': categories,\n",
    "              'genres': genres,\n",
    "              'release_date': release_date\n",
    "              }\n",
    "    es.index(index_name, doc_body, id=i)"
   ]
  },
  {
   "cell_type": "code",
   "execution_count": 103,
   "id": "8acf88f6-7e18-4435-82e8-064f9a912e56",
   "metadata": {},
   "outputs": [
    {
     "name": "stdout",
     "output_type": "stream",
     "text": [
      "we have made and index called steam_index_dfr with 49317\n",
      " documents\n",
      "\n",
      "      #### INDEX INFO #####\n",
      "      index_name = steam_index_dfr\n",
      "      doc_count = 49317\n",
      "      shard_count = 1\n",
      "      deleted_doc_count = 0\n",
      "      \n"
     ]
    }
   ],
   "source": [
    "print('we have made and index called {} with {} documents'.format(index_name, es.cat.count(index=index_name,h=['count'])))\n",
    "index_info(index_name)"
   ]
  },
  {
   "cell_type": "code",
   "execution_count": 104,
   "id": "31bfe536-8c7f-4a2d-bac2-857ca5ec1d5b",
   "metadata": {},
   "outputs": [
    {
     "data": {
      "text/plain": [
       "{'_index': 'steam_index_dfr',\n",
       " '_type': '_doc',\n",
       " '_id': '51',\n",
       " '_version': 1,\n",
       " '_seq_no': 51,\n",
       " '_primary_term': 1,\n",
       " 'found': True,\n",
       " '_source': {'app_id': 2300,\n",
       "  'title': 'DOOM II',\n",
       "  'short_description': 'let obsession begin time entire force netherworld overrun earth save must descend stygian depth hell battle mightier nastier deadlier demon monster use powerful weapon',\n",
       "  'about_the_game': 'let obsession begin time entire force netherworld overrun earth save must descend stygian depth hell battle mightier nastier deadlier demon monster use powerful weapon survive mind blowing explosion bloodiest fiercest awesome blastfest ever play doom ii solo two people modem four player lan supporting ipx protocol matter way choose get ready adrenaline pumping action packed excitement thats sure give heart real workout',\n",
       "  'developer': ['id Software'],\n",
       "  'publisher': ['id Software'],\n",
       "  'categories': ['Single-player',\n",
       "   'Multi-player',\n",
       "   'PvP',\n",
       "   'Shared/Split Screen PvP',\n",
       "   'Co-op',\n",
       "   'Shared/Split Screen Co-op',\n",
       "   'Shared/Split Screen',\n",
       "   'Full controller support',\n",
       "   'Steam Cloud',\n",
       "   'Remote Play Together'],\n",
       "  'genres': ['Action'],\n",
       "  'release_date': '2007-08-03T00:00:00'}}"
      ]
     },
     "execution_count": 104,
     "metadata": {},
     "output_type": "execute_result"
    }
   ],
   "source": [
    "es.get(index=index_name, id=51)"
   ]
  },
  {
   "cell_type": "code",
   "execution_count": 105,
   "id": "98f64701-6600-436a-a02c-c5347c4f9c47",
   "metadata": {},
   "outputs": [
    {
     "name": "stdout",
     "output_type": "stream",
     "text": [
      "### RESULTS ####\n",
      "title: Doom 3: BFG Edition - score: 6.753497\n",
      "title: Retro Classix: Gate of Doom - score: 6.3668017\n",
      "title: Doom & Destiny Worlds - score: 6.3424344\n",
      "title: Scoot Kaboom and the Tomb of Doom - score: 6.341451\n",
      "title: The Forest of Doom (Standalone) - score: 6.316736\n",
      "title: DOOM VFR - score: 6.2229695\n",
      "title: Ultimate Doom - score: 6.144916\n",
      "title: Road Doom - score: 6.144916\n",
      "title: DOOM - score: 6.0524974\n",
      "title: Rise of the Triad: Dark War - score: 5.997403\n",
      "some info on results\n",
      "{'value': 5.997403, 'description': 'weight(about_the_game:doom in 5460) [PerFieldSimilarity], result of:', 'details': [{'value': 5.997403, 'description': 'score(DFRSimilarity, freq=3.0), computed as boost * basicModel.score(stats, tfn) * afterEffect.score(stats, tfn) from:', 'details': [{'value': 5.884641, 'description': 'NormalizationH2, computed as tf * log2(1 + c * avgfl / fl) from:', 'details': [{'value': 3.0, 'description': 'tf, number of occurrences of term in the document', 'details': []}, {'value': 3.0, 'description': 'c, hyper-parameter', 'details': []}, {'value': 131.23065, 'description': 'avgfl, average length of field across all documents', 'details': []}, {'value': 136.0, 'description': 'fl, field length of the document', 'details': []}]}, {'value': 41.289967, 'description': 'BasicModelG, computed as log2(lambda + 1) + tfn * log2((1 + lambda) / lambda) from:', 'details': [{'value': 5.884641, 'description': 'tfn, normalized term frequency', 'details': []}, {'value': 0.007793777, 'description': 'lambda, computed as F / (N + F) from:', 'details': [{'value': 387.0, 'description': 'F, total number of occurrences of term across all docs + 1', 'details': []}, {'value': 49268.0, 'description': 'N, total number of documents with field', 'details': []}]}]}, {'value': 0.14525086, 'description': 'AfterEffectL, computed as 1 / (tfn + 1) from:', 'details': [{'value': 5.884641, 'description': 'tfn, normalized term frequency', 'details': []}]}]}]}\n"
     ]
    }
   ],
   "source": [
    "query_body = {\n",
    "    'query':{\n",
    "        'term': {\n",
    "            'about_the_game': 'doom'\n",
    "        }\n",
    "    }\n",
    "}\n",
    "print('### RESULTS ####')\n",
    "explain=True\n",
    "results = es.search(index=index_name, body=query_body, explain=explain)['hits']['hits']\n",
    "for hit in results:\n",
    "    print('title: {} - score: {}'.format(hit['_source']['title'], hit['_score']))\n",
    "if explain:\n",
    "    print('some info on results')\n",
    "    print(hit['_explanation'])"
   ]
  },
  {
   "cell_type": "code",
   "execution_count": null,
   "id": "a14f3ff1-af6c-4903-90b6-43466ae34aa9",
   "metadata": {},
   "outputs": [],
   "source": []
  }
 ],
 "metadata": {
  "kernelspec": {
   "display_name": "Python 3 (ipykernel)",
   "language": "python",
   "name": "python3"
  },
  "language_info": {
   "codemirror_mode": {
    "name": "ipython",
    "version": 3
   },
   "file_extension": ".py",
   "mimetype": "text/x-python",
   "name": "python",
   "nbconvert_exporter": "python",
   "pygments_lexer": "ipython3",
   "version": "3.9.5"
  }
 },
 "nbformat": 4,
 "nbformat_minor": 5
}
