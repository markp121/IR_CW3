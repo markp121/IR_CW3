{
 "cells": [
  {
   "cell_type": "code",
   "execution_count": 1,
   "source": [
    "import urllib.request \r\n",
    "import re\r\n",
    "import pandas as pd\r\n",
    "from elasticsearch import Elasticsearch"
   ],
   "outputs": [],
   "metadata": {}
  },
  {
   "cell_type": "code",
   "execution_count": 2,
   "source": [
    "import requests\r\n",
    "# run bin/elasticsearch in elasticsearch directory in terminal before running this cell\r\n",
    "res = requests.get('http://localhost:9200')"
   ],
   "outputs": [],
   "metadata": {}
  },
  {
   "cell_type": "code",
   "execution_count": 3,
   "source": [
    "es = Elasticsearch([{'host': 'localhost', 'port': 9200}])"
   ],
   "outputs": [],
   "metadata": {}
  },
  {
   "cell_type": "code",
   "execution_count": 4,
   "source": [
    "def test_ES(es):\r\n",
    "    return es.ping()  # got True"
   ],
   "outputs": [],
   "metadata": {}
  },
  {
   "cell_type": "code",
   "execution_count": 5,
   "source": [
    "if test_ES(es):\r\n",
    "    print('ES instance working')\r\n",
    "else:\r\n",
    "    print('ES instance not working')"
   ],
   "outputs": [
    {
     "output_type": "stream",
     "name": "stdout",
     "text": [
      "ES instance working\n"
     ]
    }
   ],
   "metadata": {}
  },
  {
   "cell_type": "code",
   "execution_count": 6,
   "source": [
    "def index_info(index_name):\r\n",
    "    count, deleted, shards, =  es.cat.indices(index=index_name, h=['docs.count', 'docs.deleted', 'pri'])[:-1].split(' ')\r\n",
    "    print(\r\n",
    "      \"\"\"\r\n",
    "      #### INDEX INFO #####\r\n",
    "      index_name = {}\r\n",
    "      doc_count = {}\r\n",
    "      shard_count = {}\r\n",
    "      deleted_doc_count = {}\r\n",
    "      \"\"\".format(index_name, count, shards, deleted)\r\n",
    "  )"
   ],
   "outputs": [],
   "metadata": {}
  },
  {
   "cell_type": "code",
   "execution_count": 7,
   "source": [
    "# read data from steam data directory\r\n",
    "games = pd.read_pickle('final_data_raw_V3.pickle')"
   ],
   "outputs": [],
   "metadata": {}
  },
  {
   "cell_type": "code",
   "execution_count": 118,
   "source": [
    "#es.indices.delete(index='steam_index_dfr')"
   ],
   "outputs": [
    {
     "output_type": "execute_result",
     "data": {
      "text/plain": [
       "{'acknowledged': True}"
      ]
     },
     "metadata": {},
     "execution_count": 118
    }
   ],
   "metadata": {}
  },
  {
   "cell_type": "code",
   "execution_count": 8,
   "source": [
    "# set index name\r\n",
    "index_name = 'steam_index_bm25_final'"
   ],
   "outputs": [],
   "metadata": {}
  },
  {
   "cell_type": "code",
   "execution_count": 11,
   "source": [
    "# BM25 (Default index)\r\n",
    "request_body_bm25_final = {\r\n",
    "    'settings': {\r\n",
    "        'number_of_shards': 1,\r\n",
    "        'number_of_replicas': 1,\r\n",
    "        \r\n",
    "    },\r\n",
    "    'mappings': {\r\n",
    "          'properties': {\r\n",
    "              'app_id':{'type': 'integer'},\r\n",
    "              'title': {'type': 'text'},\r\n",
    "              'short_description': {\r\n",
    "                  'type': 'text',\r\n",
    "                  'analyzer': 'english'\r\n",
    "              },\r\n",
    "              'about_the_game': {\r\n",
    "                  'type': 'text',\r\n",
    "                  'analyzer': 'english'\r\n",
    "              },\r\n",
    "              'developers': {\r\n",
    "                    \"type\": \"text\",\r\n",
    "                    \"fields\": {\"raw\": {\"type\": \"keyword\"}}\r\n",
    "              },\r\n",
    "              'publishers': {\r\n",
    "                    \"type\": \"text\",\r\n",
    "                    \"fields\": {\"raw\": {\"type\": \"keyword\"}}\r\n",
    "              },\r\n",
    "              'categories': {\r\n",
    "                    \"type\": \"text\",\r\n",
    "                    \"fields\": {\"raw\": {\"type\": \"keyword\"}}\r\n",
    "              },\r\n",
    "              'genres': {\r\n",
    "                    \"type\": \"text\",\r\n",
    "                    \"fields\": {\"raw\": {\"type\": \"keyword\"}}\r\n",
    "              },\r\n",
    "              'is_released': {\"type\": \"keyword\"},\r\n",
    "              'release_date': {'type': 'date'},\r\n",
    "              'popularity':{'type':'float'},\r\n",
    "              'rating':{'type':'float'}\r\n",
    "          }\r\n",
    "    }\r\n",
    "}\r\n",
    "\r\n",
    "try:\r\n",
    "    es.indices.get(index_name)\r\n",
    "    print('index {} already exists'.format(index_name))\r\n",
    "except:\r\n",
    "    print('creating index {}'.format(index_name))\r\n",
    "    es.indices.create(index_name, body=request_body_bm25_final)"
   ],
   "outputs": [
    {
     "output_type": "stream",
     "name": "stdout",
     "text": [
      "index steam_index_bm25_final already exists\n"
     ]
    }
   ],
   "metadata": {
    "tags": []
   }
  },
  {
   "cell_type": "code",
   "execution_count": 12,
   "source": [
    "for i, (name, app_id, about_the_game, short_description,\r\n",
    "       developers, publishers, categories, genres, release_date, is_released, rating, popularity) in enumerate(games.values[:,1:]):\r\n",
    "    doc_body = {\r\n",
    "              'app_id': app_id,\r\n",
    "              'title': name,\r\n",
    "              'short_description': short_description,\r\n",
    "              'about_the_game': about_the_game,\r\n",
    "              'developers': developers,\r\n",
    "              'publishers': publishers,\r\n",
    "              'categories': categories,\r\n",
    "              'genres': genres,\r\n",
    "              'is_released': is_released,\r\n",
    "              'release_date': release_date,\r\n",
    "              'rating': rating,\r\n",
    "              'popularity': popularity\r\n",
    "              }\r\n",
    "    es.index(index_name, doc_body, id=i)"
   ],
   "outputs": [],
   "metadata": {
    "tags": []
   }
  },
  {
   "cell_type": "code",
   "execution_count": 14,
   "source": [
    "print('we have made and index called {} with {} documents'.format(index_name, es.cat.count(index=index_name,h=['count'])))\r\n",
    "index_info(index_name)"
   ],
   "outputs": [
    {
     "output_type": "stream",
     "name": "stdout",
     "text": [
      "we have made and index called steam_index_bm25_final with 49417\n",
      " documents\n",
      "\n",
      "      #### INDEX INFO #####\n",
      "      index_name = steam_index_bm25_final\n",
      "      doc_count = 49417\n",
      "      shard_count = 1\n",
      "      deleted_doc_count = 0\n",
      "      \n"
     ]
    }
   ],
   "metadata": {}
  },
  {
   "cell_type": "code",
   "execution_count": 15,
   "source": [
    "index_name = 'steam_index_dfr_final'"
   ],
   "outputs": [],
   "metadata": {
    "tags": []
   }
  },
  {
   "cell_type": "code",
   "execution_count": 16,
   "source": [
    "#DFR index\r\n",
    "request_body_dfr = {\r\n",
    "        'settings': {\r\n",
    "        'number_of_shards': 1,\r\n",
    "        'number_of_replicas': 1,\r\n",
    "        'index': {\r\n",
    "            'similarity': {\r\n",
    "                'dfr_similarity': {\r\n",
    "                    'type': 'DFR',\r\n",
    "                    'basic_model': 'g',\r\n",
    "                    'after_effect': 'l',\r\n",
    "                    'normalization': 'h2',\r\n",
    "                    'normalization.h2.c':'3.0'\r\n",
    "\r\n",
    "                }\r\n",
    "            }\r\n",
    "        }\r\n",
    "        \r\n",
    "    },\r\n",
    "    'mappings': {\r\n",
    "          'properties': {\r\n",
    "              'app_id':{'type': 'integer'},\r\n",
    "              'title': {\r\n",
    "                  'type': 'text', \r\n",
    "                  'similarity': 'dfr_similarity'\r\n",
    "              },\r\n",
    "              'short_description': {\r\n",
    "                  'type': 'text', \r\n",
    "                  'analyzer': 'english', \r\n",
    "                  'similarity': 'dfr_similarity'\r\n",
    "              },\r\n",
    "              'about_the_game': {\r\n",
    "                  'type': 'text', \r\n",
    "                  'analyzer': 'english', \r\n",
    "                  'similarity': 'dfr_similarity'\r\n",
    "              },\r\n",
    "              'developer': {\r\n",
    "                  \"type\": \"text\",\r\n",
    "                  'similarity': 'dfr_similarity',\r\n",
    "                    \"fields\": {\r\n",
    "                    \"raw\": {\"type\": \"keyword\"}}\r\n",
    "              },\r\n",
    "              'publisher': {\r\n",
    "                  \"type\": \"text\",\r\n",
    "                  'similarity': 'dfr_similarity',\r\n",
    "                    \"fields\": {\r\n",
    "                    \"raw\": {\"type\": \"keyword\"}}\r\n",
    "              },\r\n",
    "              'categories': {\r\n",
    "                  \"type\": \"text\",\r\n",
    "                  'similarity': 'dfr_similarity',\r\n",
    "                    \"fields\": {\r\n",
    "                    \"raw\": {\"type\": \"keyword\"}}\r\n",
    "              },\r\n",
    "              'genres': {\r\n",
    "                  \"type\": \"text\", \r\n",
    "                  'similarity': 'dfr_similarity',\r\n",
    "                    \"fields\": {\r\n",
    "                    \"raw\": { \"type\": \"keyword\"}}\r\n",
    "              },\r\n",
    "              'is_released': {\"type\": \"keyword\"},\r\n",
    "              'release_date': {'type': 'date'},\r\n",
    "              'popularity':{'type':'float'},\r\n",
    "              'rating':{'type':'float'}\r\n",
    "          }\r\n",
    "    }\r\n",
    "}\r\n",
    "\r\n",
    "try:\r\n",
    "    es.indices.get(index_name)\r\n",
    "    print('index {} already exists'.format(index_name))\r\n",
    "except:\r\n",
    "    print('creating index {}'.format(index_name))\r\n",
    "    es.indices.create(index_name, body=request_body_dfr)"
   ],
   "outputs": [
    {
     "output_type": "stream",
     "name": "stdout",
     "text": [
      "creating index steam_index_dfr_final\n"
     ]
    }
   ],
   "metadata": {
    "tags": []
   }
  },
  {
   "cell_type": "code",
   "execution_count": 17,
   "source": [
    "# indexing using DFR\r\n",
    "for i, (name, app_id, about_the_game, short_description,\r\n",
    "       developers, publishers, categories, genres, release_date, is_released, rating, popularity) in enumerate(games.values[:,1:]):\r\n",
    "    doc_body = {\r\n",
    "              'app_id': app_id,\r\n",
    "              'title': name,\r\n",
    "              'short_description': short_description,\r\n",
    "              'about_the_game': about_the_game,\r\n",
    "              'developers': developers,\r\n",
    "              'publishers': publishers,\r\n",
    "              'categories': categories,\r\n",
    "              'genres': genres,\r\n",
    "              'is_released': is_released,\r\n",
    "              'release_date': release_date,\r\n",
    "              'rating': rating,\r\n",
    "              'popularity': popularity\r\n",
    "              }\r\n",
    "    es.index(index_name, doc_body, id=i)"
   ],
   "outputs": [],
   "metadata": {
    "tags": []
   }
  },
  {
   "cell_type": "code",
   "execution_count": 18,
   "source": [
    "print('we have made and index called {} with {} documents'.format(index_name, es.cat.count(index=index_name,h=['count'])))\r\n",
    "index_info(index_name)"
   ],
   "outputs": [
    {
     "output_type": "stream",
     "name": "stdout",
     "text": [
      "we have made and index called steam_index_dfr_final with 49417\n",
      " documents\n",
      "\n",
      "      #### INDEX INFO #####\n",
      "      index_name = steam_index_dfr_final\n",
      "      doc_count = 49417\n",
      "      shard_count = 1\n",
      "      deleted_doc_count = 0\n",
      "      \n"
     ]
    }
   ],
   "metadata": {
    "tags": []
   }
  },
  {
   "cell_type": "code",
   "execution_count": 90,
   "source": [
    "# search function that inlcudes query body will taken the varible from the widgets to complete the search \r\n",
    "def search():\r\n",
    "    query = text.value\r\n",
    "    fields = [\"title\", \"short_description\", 'about_the_game', 'developer', 'categories', 'genres']\r\n",
    "\r\n",
    "    start_date = date_slider.result[0]\r\n",
    "    end_date = date_slider.result[1]\r\n",
    "    \r\n",
    "    is_released = is_released_drop.value\r\n",
    "    genre = genres_drop.value\r\n",
    "    category = categories_drop.value\r\n",
    "\r\n",
    "\r\n",
    "    query_body = {\r\n",
    "        \"query\": {\r\n",
    "            'function_score': {\r\n",
    "                \"query\": {\r\n",
    "                    \"bool\": {\r\n",
    "                       'must': {\r\n",
    "                                \"multi_match\": {\r\n",
    "                                    \"query\": query, \r\n",
    "                                    \"fields\":  fields\r\n",
    "                                }\r\n",
    "                            },\r\n",
    "                            'boost':2,    \r\n",
    "                        'should': [\r\n",
    "                            {\r\n",
    "                                'function_score':{\r\n",
    "                                    'field_value_factor': {\r\n",
    "                                        'field': 'popularity',\r\n",
    "                                        'factor': 10,'missing':0\r\n",
    "                                    }\r\n",
    "                                }\r\n",
    "                            },\r\n",
    "                            { \r\n",
    "                                'function_score': {\r\n",
    "                                    'field_value_factor': {\r\n",
    "                                        'field': 'rating',\r\n",
    "                                        'factor': 0.5,\r\n",
    "                                        'modifier': 'log1p',\r\n",
    "                                        'missing': 0\r\n",
    "                                    }\r\n",
    "                                }\r\n",
    "                            }\r\n",
    "                        ],\r\n",
    "                        'filter': [\r\n",
    "                            {'wildcard': {'is_released': is_released}},\r\n",
    "                            {'range': {'release_date': {'gte': start_date,'lte': end_date}}},\r\n",
    "                            {'wildcard': {'genres.raw': genre}},\r\n",
    "                            {'wildcard': {'categories.raw': category}}\r\n",
    "                    ],\r\n",
    "                    # 'minimum_should_match': 0.2\r\n",
    "                }\r\n",
    "            }\r\n",
    "        }\r\n",
    "        }\r\n",
    "    }\r\n",
    "\r\n",
    "    print('### SEARCH RESULTS ###')\r\n",
    "    results = es.search(index=index_name, body=query_body)['hits']['hits']\r\n",
    "    for hit in results:\r\n",
    "        print('''\r\n",
    "GAME TITLE: {}, \r\n",
    "Release date: {}, \r\n",
    "Score: {:.4f}\r\n",
    "About: {:s}\r\n",
    "Developer(s): {}\r\n",
    "Publisher(s): {}\r\n",
    "Genre(s): {}\r\n",
    "Categories: {}\r\n",
    "Popularity: {:.2f}, Rating: {:.2f}\\n***\\n'''.format(hit['_source']['title'], \r\n",
    "                                     hit['_source']['release_date'][:10], \r\n",
    "                                     hit['_score'], hit['_source']['about_the_game'],\r\n",
    "                                     hit['_source']['developers'], hit['_source']['publishers'],\r\n",
    "                                     hit['_source']['genres'], hit['_source']['categories'],\r\n",
    "                                     hit['_source']['popularity'], hit['_source']['rating']))"
   ],
   "outputs": [],
   "metadata": {
    "tags": []
   }
  },
  {
   "cell_type": "code",
   "execution_count": 25,
   "source": [
    "genre_list = []\r\n",
    "for genres in games.genres:\r\n",
    "    for g in genres:\r\n",
    "        genre_list.append(g)\r\n",
    "        \r\n",
    "genre_list = list(set(genre_list)) + ['*']   \r\n",
    "\r\n",
    "category_list = []\r\n",
    "for categories in games.categories:\r\n",
    "    for c in categories:\r\n",
    "        category_list.append(c)\r\n",
    "        \r\n",
    "category_list = list(set(category_list)) + ['*'] \r\n",
    "\r\n",
    "released_list = list(games.is_released.unique()) + ['*']"
   ],
   "outputs": [],
   "metadata": {
    "jupyter": {
     "source_hidden": true
    },
    "tags": []
   }
  },
  {
   "cell_type": "code",
   "execution_count": 61,
   "source": [
    "import ipywidgets as widgets\r\n",
    "from datetime import datetime\r\n",
    "from ipywidgets import interactive, HTML, Layout\r\n",
    "from IPython.display import display, clear_output\r\n",
    "\r\n",
    "header = HTML('<h2>Steam Game Search Engine</h2>', layout=Layout(height='40px'))\r\n",
    "\r\n",
    "dates = pd.date_range(games.release_date.min(), games.release_date.max())\r\n",
    "\r\n",
    "options = [(date.strftime(' %d\\%m\\%Y '), date) for date in dates]\r\n",
    "index = (0, len(options)-1)\r\n",
    "\r\n",
    "selection_range_slider = widgets.SelectionRangeSlider(\r\n",
    "    options=options,\r\n",
    "    index=index,\r\n",
    "    description='Release date',\r\n",
    "    orientation='horizontal',\r\n",
    "    layout={'width': '500px'}\r\n",
    ")\r\n",
    "\r\n",
    "# Define any function\r\n",
    "def return_dates(date_range):\r\n",
    "    return date_range\r\n",
    "\r\n",
    "# Create sliders using interactive\r\n",
    "date_slider = interactive(return_dates, date_range = selection_range_slider)\r\n",
    "\r\n",
    "text = widgets.Text(\r\n",
    "       placeholder = 'Enter query',\r\n",
    "       description='Search',\r\n",
    "       layout={'width': '500px'})\r\n",
    "\r\n",
    "button = widgets.Button(description='Search')\r\n",
    "out = widgets.Output()\r\n",
    "\r\n",
    "def on_button_clicked(_):\r\n",
    "      # \"linking function with output\"\r\n",
    "    with out:\r\n",
    "      # what happens when we press the button\r\n",
    "        clear_output()\r\n",
    "        search()\r\n",
    "    \r\n",
    "# linking button and function together using a button's method\r\n",
    "button.on_click(on_button_clicked)\r\n",
    "\r\n",
    "is_released_drop = widgets.Dropdown(description = '(Un)released',\r\n",
    "                options = released_list, value = '*')\r\n",
    "\r\n",
    "genres_drop = widgets.Dropdown(description = 'Genre',\r\n",
    "                options = genre_list, value = '*')\r\n",
    "\r\n",
    "categories_drop = widgets.Dropdown(description = 'Category',\r\n",
    "                                  options = category_list, value = '*')\r\n",
    "\r\n",
    "# You can also view this in a notebook without using display.\r\n",
    "display(header, text, date_slider, is_released_drop, genres_drop, categories_drop, button, out)\r\n"
   ],
   "outputs": [
    {
     "output_type": "display_data",
     "data": {
      "text/plain": [
       "HTML(value='<h2>Steam Game Search Engine</h2>', layout=Layout(height='40px'))"
      ],
      "application/vnd.jupyter.widget-view+json": {
       "version_major": 2,
       "version_minor": 0,
       "model_id": "1abd2fe85d4e4533b94d3b24035d4579"
      }
     },
     "metadata": {}
    },
    {
     "output_type": "display_data",
     "data": {
      "text/plain": [
       "Text(value='', description='Search', layout=Layout(width='500px'), placeholder='Enter query')"
      ],
      "application/vnd.jupyter.widget-view+json": {
       "version_major": 2,
       "version_minor": 0,
       "model_id": "c186cbccc4ed4facb03e157430186043"
      }
     },
     "metadata": {}
    },
    {
     "output_type": "display_data",
     "data": {
      "text/plain": [
       "interactive(children=(SelectionRangeSlider(description='Release date', index=(0, 15889), layout=Layout(width='…"
      ],
      "application/vnd.jupyter.widget-view+json": {
       "version_major": 2,
       "version_minor": 0,
       "model_id": "a057853c93464d2f9878d116f9a67576"
      }
     },
     "metadata": {}
    },
    {
     "output_type": "display_data",
     "data": {
      "text/plain": [
       "Dropdown(description='(Un)released', index=2, options=('released', 'unreleased', '*'), value='*')"
      ],
      "application/vnd.jupyter.widget-view+json": {
       "version_major": 2,
       "version_minor": 0,
       "model_id": "9abb3c8c00b84df1a5815f68c05c8533"
      }
     },
     "metadata": {}
    },
    {
     "output_type": "display_data",
     "data": {
      "text/plain": [
       "Dropdown(description='Genre', index=35, options=('Action', 'Indie', 'Early Access', 'Animation ', 'Utilities',…"
      ],
      "application/vnd.jupyter.widget-view+json": {
       "version_major": 2,
       "version_minor": 0,
       "model_id": "1ff296ef6deb4e1b917f4af96a213711"
      }
     },
     "metadata": {}
    },
    {
     "output_type": "display_data",
     "data": {
      "text/plain": [
       "Dropdown(description='Category', index=37, options=('Steam Workshop', 'In-App Purchases', 'VR Support', 'Capti…"
      ],
      "application/vnd.jupyter.widget-view+json": {
       "version_major": 2,
       "version_minor": 0,
       "model_id": "c7de056c434f4137af1f0d7ff866ab15"
      }
     },
     "metadata": {}
    },
    {
     "output_type": "display_data",
     "data": {
      "text/plain": [
       "Button(description='Search', style=ButtonStyle())"
      ],
      "application/vnd.jupyter.widget-view+json": {
       "version_major": 2,
       "version_minor": 0,
       "model_id": "da850194c0e5415eb5e3b4089db85b4c"
      }
     },
     "metadata": {}
    },
    {
     "output_type": "display_data",
     "data": {
      "text/plain": [
       "Output()"
      ],
      "application/vnd.jupyter.widget-view+json": {
       "version_major": 2,
       "version_minor": 0,
       "model_id": "daf707ea19774b83b6d2712d7372301b"
      }
     },
     "metadata": {}
    }
   ],
   "metadata": {
    "jupyter": {
     "source_hidden": true
    },
    "tags": []
   }
  },
  {
   "cell_type": "code",
   "execution_count": null,
   "source": [],
   "outputs": [],
   "metadata": {}
  }
 ],
 "metadata": {
  "kernelspec": {
   "name": "python3",
   "display_name": "Python 3.8.10 64-bit ('Latest': conda)"
  },
  "language_info": {
   "codemirror_mode": {
    "name": "ipython",
    "version": 3
   },
   "file_extension": ".py",
   "mimetype": "text/x-python",
   "name": "python",
   "nbconvert_exporter": "python",
   "pygments_lexer": "ipython3",
   "version": "3.8.10"
  },
  "interpreter": {
   "hash": "c3e4c92655df72f09200b5c392c3cdb2bcde9b6d779510dd5f151645d2773f89"
  }
 },
 "nbformat": 4,
 "nbformat_minor": 5
}