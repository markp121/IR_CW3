{
 "cells": [
  {
   "cell_type": "code",
   "execution_count": 1,
   "metadata": {},
   "outputs": [],
   "source": [
    "import urllib.request \n",
    "import re\n",
    "import pandas as pd\n",
    "from elasticsearch import Elasticsearch\n",
    "import ipywidgets as widgets\n",
    "from datetime import datetime\n",
    "from ipywidgets import interactive, Button, HBox, VBox, Checkbox, HTML, Layout\n",
    "from IPython.display import display, clear_output"
   ]
  },
  {
   "cell_type": "code",
   "execution_count": 2,
   "metadata": {},
   "outputs": [],
   "source": [
    "import requests\n",
    "# run bin/elasticsearch in elasticsearch directory in terminal before running this cell\n",
    "res = requests.get('http://localhost:9200')"
   ]
  },
  {
   "cell_type": "code",
   "execution_count": 3,
   "metadata": {},
   "outputs": [],
   "source": [
    "es = Elasticsearch([{'host': 'localhost', 'port': 9200}])"
   ]
  },
  {
   "cell_type": "code",
   "execution_count": 4,
   "metadata": {},
   "outputs": [],
   "source": [
    "def test_ES(es):\n",
    "    return es.ping()  # got True"
   ]
  },
  {
   "cell_type": "code",
   "execution_count": 5,
   "metadata": {},
   "outputs": [
    {
     "name": "stdout",
     "output_type": "stream",
     "text": [
      "ES instance working\n"
     ]
    },
    {
     "name": "stderr",
     "output_type": "stream",
     "text": [
      "/home/mark/anaconda3/envs/nlp/lib/python3.9/site-packages/elasticsearch/connection/base.py:208: ElasticsearchWarning: Elasticsearch built-in security features are not enabled. Without authentication, your cluster could be accessible to anyone. See https://www.elastic.co/guide/en/elasticsearch/reference/7.13/security-minimal-setup.html to enable security.\n",
      "  warnings.warn(message, category=ElasticsearchWarning)\n"
     ]
    }
   ],
   "source": [
    "if test_ES(es):\n",
    "    print('ES instance working')\n",
    "else:\n",
    "    print('ES instance not working')"
   ]
  },
  {
   "cell_type": "code",
   "execution_count": 6,
   "metadata": {},
   "outputs": [],
   "source": [
    "def index_info(index_name):\n",
    "    count, deleted, shards, =  es.cat.indices(index=index_name, h=['docs.count', 'docs.deleted', 'pri'])[:-1].split(' ')\n",
    "    print(\n",
    "      \"\"\"\n",
    "      #### INDEX INFO #####\n",
    "      index_name = {}\n",
    "      doc_count = {}\n",
    "      shard_count = {}\n",
    "      deleted_doc_count = {}\n",
    "      \"\"\".format(index_name, count, shards, deleted)\n",
    "  )"
   ]
  },
  {
   "cell_type": "code",
   "execution_count": 7,
   "metadata": {},
   "outputs": [],
   "source": [
    "index_name = 'steam_index_bm25_final'"
   ]
  },
  {
   "cell_type": "code",
   "execution_count": 8,
   "metadata": {
    "tags": []
   },
   "outputs": [],
   "source": [
    "# search function that inlcudes query body will taken the varible from the widgets to complete the search \n",
    "def search():\n",
    "    query = text.value\n",
    "    fields = [\"title\", \"short_description\", 'about_the_game', 'developer', 'categories', 'genres']\n",
    "\n",
    "    start_date = date_slider.result[0]\n",
    "    end_date = date_slider.result[1]\n",
    "    \n",
    "    is_released = is_released_drop.value\n",
    "    genre = genre_list[1:] if 'All' in genres_multi.value else list(genres_multi.value)\n",
    "    category = category_list[1:] if 'All'in categories_multi.value else list(categories_multi.value)\n",
    "    \n",
    "    popularity_factor = 5 if check[0].value == True else 0\n",
    "    rating_factor = 1 if check[1].value == True else 0\n",
    "    \n",
    "    \n",
    "    \n",
    "        \n",
    "    query_body = {\n",
    "        \"query\": {\n",
    "            'function_score': {\n",
    "                \"query\": {\n",
    "                    \"bool\": {\n",
    "                       'should': [{\n",
    "                                \"multi_match\": {\n",
    "                                    \"query\": query,\n",
    "                                    # 'type': 'most_fields', \n",
    "                                    \"fields\":  fields\n",
    "                                }\n",
    "                                \n",
    "                            },\n",
    "                            {\n",
    "                                'function_score':{\n",
    "                                    'field_value_factor': {\n",
    "                                        'field': 'popularity',\n",
    "                                        'factor': popularity_factor,\n",
    "                                    }\n",
    "                                }\n",
    "                            },\n",
    "                            { \n",
    "                                'function_score': {\n",
    "                                    'field_value_factor': {\n",
    "                                        'field': 'rating',\n",
    "                                        'factor': rating_factor,\n",
    "                                        'modifier': 'log1p'\n",
    "                                    }\n",
    "                                }\n",
    "                            }\n",
    "                        ],\n",
    "                        'filter': [\n",
    "                            {'wildcard': {'is_released': is_released}},\n",
    "                            {'range': {'release_date': {'gte': start_date,'lte': end_date}}},\n",
    "                            {'terms_set': {\n",
    "                                'genres.raw': {\n",
    "                                    'terms': genre,\n",
    "                                    \"minimum_should_match_script\": {\n",
    "                                        \"source\": 'if (params[\"count1\"] == params[\"count2\"]) {params[\"count3\"]} else {params[\"count1\"]}',\n",
    "                                        'params': {'count1': len(genre),\n",
    "                                                   'count2': len(genre_list[1:]),\n",
    "                                                   'count3': 1}\n",
    "                                    }\n",
    "                                }\n",
    "                            }\n",
    "                            },\n",
    "                            {'terms_set': {\n",
    "                            'categories.raw': {\n",
    "                                'terms': category,\n",
    "                                \"minimum_should_match_script\": {\n",
    "                                    \"source\": 'if (params[\"count1\"] == params[\"count2\"]) {params[\"count3\"]} else {params[\"count1\"]}',\n",
    "                                    'params': {'count1': len(category),\n",
    "                                               'count2': len(category_list[1:]),\n",
    "                                               'count3': 1}\n",
    "                                }\n",
    "                            }\n",
    "                        }\n",
    "                        },\n",
    "                    ],\n",
    "                    # 'minimum_should_match': 0.2\n",
    "                }\n",
    "            }\n",
    "        }\n",
    "        }\n",
    "    }\n",
    "    print('### SEARCH RESULTS ###')\n",
    "    results = es.search(index=index_name, body=query_body)['hits']['hits']\n",
    "    for hit in results:\n",
    "        print('''\n",
    "GAME TITLE: {}, \n",
    "Release date: {}, \n",
    "Score: {:.4f}\n",
    "About: {:s}\n",
    "Developer(s): {}\n",
    "Publisher(s): {}\n",
    "Genre(s): {}\n",
    "Categories: {}\n",
    "Popularity: {:.2f}, Rating: {:.2f}\\n***\\n'''.format(hit['_source']['title'], \n",
    "                                     hit['_source']['release_date'][:10], \n",
    "                                     hit['_score'], hit['_source']['about_the_game'],\n",
    "                                     hit['_source']['developers'], hit['_source']['publishers'],\n",
    "                                     hit['_source']['genres'], hit['_source']['categories'],\n",
    "                                     hit['_source']['popularity'], hit['_source']['rating']))"
   ]
  },
  {
   "cell_type": "code",
   "execution_count": 9,
   "metadata": {},
   "outputs": [],
   "source": [
    "games = pd.read_pickle('final_data_raw_V3.pickle')"
   ]
  },
  {
   "cell_type": "code",
   "execution_count": 10,
   "metadata": {
    "tags": []
   },
   "outputs": [
    {
     "data": {
      "application/vnd.jupyter.widget-view+json": {
       "model_id": "d3d0922a2115491c9b8f00c2fef8e776",
       "version_major": 2,
       "version_minor": 0
      },
      "text/plain": [
       "HTML(value='<h2>Steam Game Search Engine</h2>', layout=Layout(height='40px', left='205px'))"
      ]
     },
     "metadata": {},
     "output_type": "display_data"
    },
    {
     "data": {
      "application/vnd.jupyter.widget-view+json": {
       "model_id": "bbe21e49098c43a5bcf6b15fc7a66dc9",
       "version_major": 2,
       "version_minor": 0
      },
      "text/plain": [
       "Text(value='', description='Search:', layout=Layout(width='603.5px'), placeholder='Enter query')"
      ]
     },
     "metadata": {},
     "output_type": "display_data"
    },
    {
     "data": {
      "application/vnd.jupyter.widget-view+json": {
       "model_id": "c75ef98c0dd94fd18eec843328f11f2f",
       "version_major": 2,
       "version_minor": 0
      },
      "text/plain": [
       "interactive(children=(SelectionRangeSlider(description='Release date:', index=(0, 15889), layout=Layout(width=…"
      ]
     },
     "metadata": {},
     "output_type": "display_data"
    },
    {
     "data": {
      "application/vnd.jupyter.widget-view+json": {
       "model_id": "aeb7e1649603446b80da7c3b659e0565",
       "version_major": 2,
       "version_minor": 0
      },
      "text/plain": [
       "Dropdown(description='Un/released:', layout=Layout(width='603.5px'), options=('*', 'released', 'unreleased'), …"
      ]
     },
     "metadata": {},
     "output_type": "display_data"
    },
    {
     "data": {
      "application/vnd.jupyter.widget-view+json": {
       "model_id": "cfd2e7d7564a46a092442d373a167346",
       "version_major": 2,
       "version_minor": 0
      },
      "text/plain": [
       "HBox(children=(SelectMultiple(description='Genres', index=(0,), options=('All', 'Accounting', 'Action', 'Adven…"
      ]
     },
     "metadata": {},
     "output_type": "display_data"
    },
    {
     "data": {
      "application/vnd.jupyter.widget-view+json": {
       "model_id": "31add272517c47dba76d173d53d0d292",
       "version_major": 2,
       "version_minor": 0
      },
      "text/plain": [
       "HBox(children=(HTML(value='Influenced by:', layout=Layout(height='40px')), Checkbox(value=False, description='…"
      ]
     },
     "metadata": {},
     "output_type": "display_data"
    },
    {
     "data": {
      "application/vnd.jupyter.widget-view+json": {
       "model_id": "e4c57bca9ec34bdb81f71ac7805df909",
       "version_major": 2,
       "version_minor": 0
      },
      "text/plain": [
       "Button(icon='search', layout=Layout(height='40px', left='90px', width='510px'), style=ButtonStyle())"
      ]
     },
     "metadata": {},
     "output_type": "display_data"
    },
    {
     "data": {
      "application/vnd.jupyter.widget-view+json": {
       "model_id": "ad22f2b999684f399b3ec0b2d0ada9f0",
       "version_major": 2,
       "version_minor": 0
      },
      "text/plain": [
       "Output()"
      ]
     },
     "metadata": {},
     "output_type": "display_data"
    }
   ],
   "source": [
    "genre_list = []\n",
    "for genres in games.genres:\n",
    "    for g in genres:\n",
    "        genre_list.append(g)\n",
    "\n",
    "category_list = []\n",
    "for categories in games.categories:\n",
    "    for c in categories:\n",
    "        category_list.append(c)\n",
    "        \n",
    "genre_list = ['All'] + sorted(list(set(genre_list)))        \n",
    "category_list = ['All'] + sorted(list(set(category_list)))\n",
    "released_list = ['*'] + sorted(list(games.is_released.unique()))\n",
    "\n",
    "header = HTML('<h2>Steam Game Search Engine</h2>', layout=Layout(left= '205px', height='40px'))\n",
    "\n",
    "dates = pd.date_range(games.release_date.min(), games.release_date.max())\n",
    "\n",
    "options = [(date.strftime(' %d\\%m\\%Y '), date) for date in dates]\n",
    "index = (0, len(options)-1)\n",
    "\n",
    "selection_range_slider = widgets.SelectionRangeSlider(\n",
    "    options=options,\n",
    "    index=index,\n",
    "    description='Release date:',\n",
    "    orientation='horizontal',\n",
    "    layout={'width': '603.5px'}\n",
    ")\n",
    "\n",
    "def return_dates(date_range):\n",
    "    return date_range\n",
    "\n",
    "# Create sliders using interactive\n",
    "date_slider = interactive(return_dates, date_range = selection_range_slider)\n",
    "\n",
    "text = widgets.Text(\n",
    "       placeholder = 'Enter query',\n",
    "       description='Search:',\n",
    "       layout={'width': '603.5px'})\n",
    "\n",
    "button = widgets.Button(icon='search', layout={'left': '90px','width': '510px', 'height': '40px'})\n",
    "out = widgets.Output()\n",
    "\n",
    "def on_button_clicked(_):\n",
    "      # \"linking function with output\"\n",
    "    with out:\n",
    "      # what happens when we press the button\n",
    "        clear_output()\n",
    "        search()\n",
    "    \n",
    "# linking button and function together using a button's method\n",
    "button.on_click(on_button_clicked)\n",
    "\n",
    "is_released_drop = widgets.Dropdown(description = 'Un/released:',\n",
    "                options = released_list, value = '*', layout={'width': '603.5px'})\n",
    "\n",
    "#genres_drop = widgets.Dropdown(description = 'Genre:',\n",
    "                #options = genre_list, value = '*')\n",
    "\n",
    "#categories_drop = widgets.Dropdown(description = 'Category:',\n",
    "                                  #options = category_list, value = '*')\n",
    "\n",
    "genres_multi = widgets.SelectMultiple(description = 'Genres', options = genre_list, value = ['All'])\n",
    "categories_multi = widgets.SelectMultiple(description = 'Categories', options = category_list, value = ['All'])\n",
    "\n",
    "words = ['Popularity', 'User ratings']\n",
    "check = [Checkbox(False, description=w) for w in words]\n",
    "\n",
    "checks_title = HTML('Influenced by:', layout=Layout(height='40px'))\n",
    "\n",
    "\n",
    "display(header, text, date_slider, is_released_drop, HBox([genres_multi, categories_multi]), HBox([checks_title,check[0],check[1]]), button, out)"
   ]
  },
  {
   "cell_type": "code",
   "execution_count": null,
   "metadata": {},
   "outputs": [],
   "source": []
  }
 ],
 "metadata": {
  "kernelspec": {
   "display_name": "Python 3 (ipykernel)",
   "language": "python",
   "name": "python3"
  },
  "language_info": {
   "codemirror_mode": {
    "name": "ipython",
    "version": 3
   },
   "file_extension": ".py",
   "mimetype": "text/x-python",
   "name": "python",
   "nbconvert_exporter": "python",
   "pygments_lexer": "ipython3",
   "version": "3.9.5"
  }
 },
 "nbformat": 4,
 "nbformat_minor": 4
}
