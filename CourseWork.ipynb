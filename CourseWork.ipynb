{
 "metadata": {
  "language_info": {
   "codemirror_mode": {
    "name": "ipython",
    "version": 3
   },
   "file_extension": ".py",
   "mimetype": "text/x-python",
   "name": "python",
   "nbconvert_exporter": "python",
   "pygments_lexer": "ipython3",
   "version": "3.9.6"
  },
  "orig_nbformat": 4,
  "kernelspec": {
   "name": "python3",
   "display_name": "Python 3.9.6 64-bit ('PayalGurung': conda)"
  },
  "interpreter": {
   "hash": "46586ab6dc34fab180f0d37befba3b96b589ee4a312987cf079e49d47977d547"
  }
 },
 "nbformat": 4,
 "nbformat_minor": 2,
 "cells": [
  {
   "cell_type": "code",
   "execution_count": 236,
   "metadata": {},
   "outputs": [],
   "source": [
    "\n",
    "import pandas as pd\n",
    "data = pd.read_pickle('cleaned_steam_data', compression='infer')"
   ]
  },
  {
   "cell_type": "code",
   "execution_count": 237,
   "metadata": {},
   "outputs": [
    {
     "output_type": "execute_result",
     "data": {
      "text/plain": [
       "       type                                            name  steam_appid  \\\n",
       "0      game                                  Counter-Strike           10   \n",
       "1      game                           Team Fortress Classic           20   \n",
       "2      game                                   Day of Defeat           30   \n",
       "3      game                              Deathmatch Classic           40   \n",
       "4      game                       Half-Life: Opposing Force           50   \n",
       "...     ...                                             ...          ...   \n",
       "57309  game                       Higgs Boson: Timed Puzzle      1691890   \n",
       "57310  game                         Another Cat in Dungeons      1692390   \n",
       "57311  game                                Cavern Commandos      1692480   \n",
       "57312  game  Hidden Shapes Black Skull - Jigsaw Puzzle Game      1692580   \n",
       "57313  game                               Puzzles with cats      1692590   \n",
       "\n",
       "                                          about_the_game  \\\n",
       "0      Play the world's number 1 online action game. ...   \n",
       "1      One of the most popular online action games of...   \n",
       "2      Enlist in an intense brand of Axis vs. Allied ...   \n",
       "3      Enjoy fast-paced multiplayer gaming with Death...   \n",
       "4      Return to the Black Mesa Research Facility as ...   \n",
       "...                                                  ...   \n",
       "57309  Higgs Boson: Timed Puzzle is a short and chall...   \n",
       "57310  Another Cat in Dungeons is a sequence from A C...   \n",
       "57311  Inspired by classic platformers like Rick Dang...   \n",
       "57312  Disconnect yourself from the world with this g...   \n",
       "57313  Hey! Have you already heard about the new game...   \n",
       "\n",
       "                                       short_description          developers  \\\n",
       "0      Play the world's number 1 online action game. ...             [Valve]   \n",
       "1      One of the most popular online action games of...             [Valve]   \n",
       "2      Enlist in an intense brand of Axis vs. Allied ...             [Valve]   \n",
       "3      Enjoy fast-paced multiplayer gaming with Death...             [Valve]   \n",
       "4      Return to the Black Mesa Research Facility as ...  [Gearbox Software]   \n",
       "...                                                  ...                 ...   \n",
       "57309  Higgs Boson: Timed Puzzle is a minimalist and ...       [Remix Games]   \n",
       "57310  Another Cat in Dungeons is a sequence from A C...   [Day Art's Games]   \n",
       "57311  Inspired by classic platformers like Rick Dang...      [Soiree Games]   \n",
       "57312  Relax with beautiful hand-drawn puzzles inspir...       [YAW Studios]   \n",
       "57313  Puzzles with cats is a classic puzzle that inv...     [wow wow Games]   \n",
       "\n",
       "              publishers                                         categories  \\\n",
       "0                [Valve]  [Multi-player, PvP, Online PvP, Shared/Split S...   \n",
       "1                [Valve]  [Multi-player, PvP, Online PvP, Shared/Split S...   \n",
       "2                [Valve]           [Multi-player, Valve Anti-Cheat enabled]   \n",
       "3                [Valve]  [Multi-player, PvP, Online PvP, Shared/Split S...   \n",
       "4                [Valve]  [Single-player, Multi-player, Valve Anti-Cheat...   \n",
       "...                  ...                                                ...   \n",
       "57309      [Remix Games]                                    [Single-player]   \n",
       "57310  [Day Art's Games]                [Single-player, Steam Achievements]   \n",
       "57311     [Soiree Games]           [Single-player, Full controller support]   \n",
       "57312      [YAW Studios]                [Single-player, Steam Achievements]   \n",
       "57313    [wow wow Games]                                    [Single-player]   \n",
       "\n",
       "                          genres release_date  \n",
       "0                       [Action]   1 Nov 2000  \n",
       "1                       [Action]   1 Apr 1999  \n",
       "2                       [Action]   1 May 2003  \n",
       "3                       [Action]   1 Jun 2001  \n",
       "4                       [Action]   1 Nov 1999  \n",
       "...                          ...          ...  \n",
       "57309                   [Casual]  coming_soon  \n",
       "57310  [Casual, Indie, Strategy]  coming_soon  \n",
       "57311            [Action, Indie]   6 Jul 2021  \n",
       "57312            [Casual, Indie]   6 Aug 2021  \n",
       "57313            [Casual, Indie]   6 Jul 2021  \n",
       "\n",
       "[56122 rows x 10 columns]"
      ],
      "text/html": "<div>\n<style scoped>\n    .dataframe tbody tr th:only-of-type {\n        vertical-align: middle;\n    }\n\n    .dataframe tbody tr th {\n        vertical-align: top;\n    }\n\n    .dataframe thead th {\n        text-align: right;\n    }\n</style>\n<table border=\"1\" class=\"dataframe\">\n  <thead>\n    <tr style=\"text-align: right;\">\n      <th></th>\n      <th>type</th>\n      <th>name</th>\n      <th>steam_appid</th>\n      <th>about_the_game</th>\n      <th>short_description</th>\n      <th>developers</th>\n      <th>publishers</th>\n      <th>categories</th>\n      <th>genres</th>\n      <th>release_date</th>\n    </tr>\n  </thead>\n  <tbody>\n    <tr>\n      <th>0</th>\n      <td>game</td>\n      <td>Counter-Strike</td>\n      <td>10</td>\n      <td>Play the world's number 1 online action game. ...</td>\n      <td>Play the world's number 1 online action game. ...</td>\n      <td>[Valve]</td>\n      <td>[Valve]</td>\n      <td>[Multi-player, PvP, Online PvP, Shared/Split S...</td>\n      <td>[Action]</td>\n      <td>1 Nov 2000</td>\n    </tr>\n    <tr>\n      <th>1</th>\n      <td>game</td>\n      <td>Team Fortress Classic</td>\n      <td>20</td>\n      <td>One of the most popular online action games of...</td>\n      <td>One of the most popular online action games of...</td>\n      <td>[Valve]</td>\n      <td>[Valve]</td>\n      <td>[Multi-player, PvP, Online PvP, Shared/Split S...</td>\n      <td>[Action]</td>\n      <td>1 Apr 1999</td>\n    </tr>\n    <tr>\n      <th>2</th>\n      <td>game</td>\n      <td>Day of Defeat</td>\n      <td>30</td>\n      <td>Enlist in an intense brand of Axis vs. Allied ...</td>\n      <td>Enlist in an intense brand of Axis vs. Allied ...</td>\n      <td>[Valve]</td>\n      <td>[Valve]</td>\n      <td>[Multi-player, Valve Anti-Cheat enabled]</td>\n      <td>[Action]</td>\n      <td>1 May 2003</td>\n    </tr>\n    <tr>\n      <th>3</th>\n      <td>game</td>\n      <td>Deathmatch Classic</td>\n      <td>40</td>\n      <td>Enjoy fast-paced multiplayer gaming with Death...</td>\n      <td>Enjoy fast-paced multiplayer gaming with Death...</td>\n      <td>[Valve]</td>\n      <td>[Valve]</td>\n      <td>[Multi-player, PvP, Online PvP, Shared/Split S...</td>\n      <td>[Action]</td>\n      <td>1 Jun 2001</td>\n    </tr>\n    <tr>\n      <th>4</th>\n      <td>game</td>\n      <td>Half-Life: Opposing Force</td>\n      <td>50</td>\n      <td>Return to the Black Mesa Research Facility as ...</td>\n      <td>Return to the Black Mesa Research Facility as ...</td>\n      <td>[Gearbox Software]</td>\n      <td>[Valve]</td>\n      <td>[Single-player, Multi-player, Valve Anti-Cheat...</td>\n      <td>[Action]</td>\n      <td>1 Nov 1999</td>\n    </tr>\n    <tr>\n      <th>...</th>\n      <td>...</td>\n      <td>...</td>\n      <td>...</td>\n      <td>...</td>\n      <td>...</td>\n      <td>...</td>\n      <td>...</td>\n      <td>...</td>\n      <td>...</td>\n      <td>...</td>\n    </tr>\n    <tr>\n      <th>57309</th>\n      <td>game</td>\n      <td>Higgs Boson: Timed Puzzle</td>\n      <td>1691890</td>\n      <td>Higgs Boson: Timed Puzzle is a short and chall...</td>\n      <td>Higgs Boson: Timed Puzzle is a minimalist and ...</td>\n      <td>[Remix Games]</td>\n      <td>[Remix Games]</td>\n      <td>[Single-player]</td>\n      <td>[Casual]</td>\n      <td>coming_soon</td>\n    </tr>\n    <tr>\n      <th>57310</th>\n      <td>game</td>\n      <td>Another Cat in Dungeons</td>\n      <td>1692390</td>\n      <td>Another Cat in Dungeons is a sequence from A C...</td>\n      <td>Another Cat in Dungeons is a sequence from A C...</td>\n      <td>[Day Art's Games]</td>\n      <td>[Day Art's Games]</td>\n      <td>[Single-player, Steam Achievements]</td>\n      <td>[Casual, Indie, Strategy]</td>\n      <td>coming_soon</td>\n    </tr>\n    <tr>\n      <th>57311</th>\n      <td>game</td>\n      <td>Cavern Commandos</td>\n      <td>1692480</td>\n      <td>Inspired by classic platformers like Rick Dang...</td>\n      <td>Inspired by classic platformers like Rick Dang...</td>\n      <td>[Soiree Games]</td>\n      <td>[Soiree Games]</td>\n      <td>[Single-player, Full controller support]</td>\n      <td>[Action, Indie]</td>\n      <td>6 Jul 2021</td>\n    </tr>\n    <tr>\n      <th>57312</th>\n      <td>game</td>\n      <td>Hidden Shapes Black Skull - Jigsaw Puzzle Game</td>\n      <td>1692580</td>\n      <td>Disconnect yourself from the world with this g...</td>\n      <td>Relax with beautiful hand-drawn puzzles inspir...</td>\n      <td>[YAW Studios]</td>\n      <td>[YAW Studios]</td>\n      <td>[Single-player, Steam Achievements]</td>\n      <td>[Casual, Indie]</td>\n      <td>6 Aug 2021</td>\n    </tr>\n    <tr>\n      <th>57313</th>\n      <td>game</td>\n      <td>Puzzles with cats</td>\n      <td>1692590</td>\n      <td>Hey! Have you already heard about the new game...</td>\n      <td>Puzzles with cats is a classic puzzle that inv...</td>\n      <td>[wow wow Games]</td>\n      <td>[wow wow Games]</td>\n      <td>[Single-player]</td>\n      <td>[Casual, Indie]</td>\n      <td>6 Jul 2021</td>\n    </tr>\n  </tbody>\n</table>\n<p>56122 rows × 10 columns</p>\n</div>"
     },
     "metadata": {},
     "execution_count": 237
    }
   ],
   "source": [
    "data"
   ]
  },
  {
   "cell_type": "code",
   "execution_count": 238,
   "metadata": {},
   "outputs": [],
   "source": [
    "#function to replace teh date that starts with 0 to 1 \n",
    "def date_fixer(row):\n",
    "    if (str(row.release_date).startswith('0')):\n",
    "        return str(row.release_date).replace('0', '1', 1)\n",
    "    else: return str(row.release_date)"
   ]
  },
  {
   "cell_type": "code",
   "execution_count": 245,
   "metadata": {},
   "outputs": [
    {
     "output_type": "execute_result",
     "data": {
      "text/plain": [
       "       type                                            name  steam_appid  \\\n",
       "0      game                                  Counter-Strike           10   \n",
       "1      game                           Team Fortress Classic           20   \n",
       "2      game                                   Day of Defeat           30   \n",
       "3      game                              Deathmatch Classic           40   \n",
       "4      game                       Half-Life: Opposing Force           50   \n",
       "...     ...                                             ...          ...   \n",
       "57309  game                       Higgs Boson: Timed Puzzle      1691890   \n",
       "57310  game                         Another Cat in Dungeons      1692390   \n",
       "57311  game                                Cavern Commandos      1692480   \n",
       "57312  game  Hidden Shapes Black Skull - Jigsaw Puzzle Game      1692580   \n",
       "57313  game                               Puzzles with cats      1692590   \n",
       "\n",
       "                                          about_the_game  \\\n",
       "0      Play the world's number 1 online action game. ...   \n",
       "1      One of the most popular online action games of...   \n",
       "2      Enlist in an intense brand of Axis vs. Allied ...   \n",
       "3      Enjoy fast-paced multiplayer gaming with Death...   \n",
       "4      Return to the Black Mesa Research Facility as ...   \n",
       "...                                                  ...   \n",
       "57309  Higgs Boson: Timed Puzzle is a short and chall...   \n",
       "57310  Another Cat in Dungeons is a sequence from A C...   \n",
       "57311  Inspired by classic platformers like Rick Dang...   \n",
       "57312  Disconnect yourself from the world with this g...   \n",
       "57313  Hey! Have you already heard about the new game...   \n",
       "\n",
       "                                       short_description          developers  \\\n",
       "0      Play the world's number 1 online action game. ...             [Valve]   \n",
       "1      One of the most popular online action games of...             [Valve]   \n",
       "2      Enlist in an intense brand of Axis vs. Allied ...             [Valve]   \n",
       "3      Enjoy fast-paced multiplayer gaming with Death...             [Valve]   \n",
       "4      Return to the Black Mesa Research Facility as ...  [Gearbox Software]   \n",
       "...                                                  ...                 ...   \n",
       "57309  Higgs Boson: Timed Puzzle is a minimalist and ...       [Remix Games]   \n",
       "57310  Another Cat in Dungeons is a sequence from A C...   [Day Art's Games]   \n",
       "57311  Inspired by classic platformers like Rick Dang...      [Soiree Games]   \n",
       "57312  Relax with beautiful hand-drawn puzzles inspir...       [YAW Studios]   \n",
       "57313  Puzzles with cats is a classic puzzle that inv...     [wow wow Games]   \n",
       "\n",
       "              publishers                                         categories  \\\n",
       "0                [Valve]  [Multi-player, PvP, Online PvP, Shared/Split S...   \n",
       "1                [Valve]  [Multi-player, PvP, Online PvP, Shared/Split S...   \n",
       "2                [Valve]           [Multi-player, Valve Anti-Cheat enabled]   \n",
       "3                [Valve]  [Multi-player, PvP, Online PvP, Shared/Split S...   \n",
       "4                [Valve]  [Single-player, Multi-player, Valve Anti-Cheat...   \n",
       "...                  ...                                                ...   \n",
       "57309      [Remix Games]                                    [Single-player]   \n",
       "57310  [Day Art's Games]                [Single-player, Steam Achievements]   \n",
       "57311     [Soiree Games]           [Single-player, Full controller support]   \n",
       "57312      [YAW Studios]                [Single-player, Steam Achievements]   \n",
       "57313    [wow wow Games]                                    [Single-player]   \n",
       "\n",
       "                          genres release_date new_release_date  \n",
       "0                       [Action]   1 Nov 2000       1 Nov 2000  \n",
       "1                       [Action]   1 Apr 1999       1 Apr 1999  \n",
       "2                       [Action]   1 May 2003       1 May 2003  \n",
       "3                       [Action]   1 Jun 2001       1 Jun 2001  \n",
       "4                       [Action]   1 Nov 1999       1 Nov 1999  \n",
       "...                          ...          ...              ...  \n",
       "57309                   [Casual]  coming_soon      coming_soon  \n",
       "57310  [Casual, Indie, Strategy]  coming_soon      coming_soon  \n",
       "57311            [Action, Indie]   6 Jul 2021       6 Jul 2021  \n",
       "57312            [Casual, Indie]   6 Aug 2021       6 Aug 2021  \n",
       "57313            [Casual, Indie]   6 Jul 2021       6 Jul 2021  \n",
       "\n",
       "[56122 rows x 11 columns]"
      ],
      "text/html": "<div>\n<style scoped>\n    .dataframe tbody tr th:only-of-type {\n        vertical-align: middle;\n    }\n\n    .dataframe tbody tr th {\n        vertical-align: top;\n    }\n\n    .dataframe thead th {\n        text-align: right;\n    }\n</style>\n<table border=\"1\" class=\"dataframe\">\n  <thead>\n    <tr style=\"text-align: right;\">\n      <th></th>\n      <th>type</th>\n      <th>name</th>\n      <th>steam_appid</th>\n      <th>about_the_game</th>\n      <th>short_description</th>\n      <th>developers</th>\n      <th>publishers</th>\n      <th>categories</th>\n      <th>genres</th>\n      <th>release_date</th>\n      <th>new_release_date</th>\n    </tr>\n  </thead>\n  <tbody>\n    <tr>\n      <th>0</th>\n      <td>game</td>\n      <td>Counter-Strike</td>\n      <td>10</td>\n      <td>Play the world's number 1 online action game. ...</td>\n      <td>Play the world's number 1 online action game. ...</td>\n      <td>[Valve]</td>\n      <td>[Valve]</td>\n      <td>[Multi-player, PvP, Online PvP, Shared/Split S...</td>\n      <td>[Action]</td>\n      <td>1 Nov 2000</td>\n      <td>1 Nov 2000</td>\n    </tr>\n    <tr>\n      <th>1</th>\n      <td>game</td>\n      <td>Team Fortress Classic</td>\n      <td>20</td>\n      <td>One of the most popular online action games of...</td>\n      <td>One of the most popular online action games of...</td>\n      <td>[Valve]</td>\n      <td>[Valve]</td>\n      <td>[Multi-player, PvP, Online PvP, Shared/Split S...</td>\n      <td>[Action]</td>\n      <td>1 Apr 1999</td>\n      <td>1 Apr 1999</td>\n    </tr>\n    <tr>\n      <th>2</th>\n      <td>game</td>\n      <td>Day of Defeat</td>\n      <td>30</td>\n      <td>Enlist in an intense brand of Axis vs. Allied ...</td>\n      <td>Enlist in an intense brand of Axis vs. Allied ...</td>\n      <td>[Valve]</td>\n      <td>[Valve]</td>\n      <td>[Multi-player, Valve Anti-Cheat enabled]</td>\n      <td>[Action]</td>\n      <td>1 May 2003</td>\n      <td>1 May 2003</td>\n    </tr>\n    <tr>\n      <th>3</th>\n      <td>game</td>\n      <td>Deathmatch Classic</td>\n      <td>40</td>\n      <td>Enjoy fast-paced multiplayer gaming with Death...</td>\n      <td>Enjoy fast-paced multiplayer gaming with Death...</td>\n      <td>[Valve]</td>\n      <td>[Valve]</td>\n      <td>[Multi-player, PvP, Online PvP, Shared/Split S...</td>\n      <td>[Action]</td>\n      <td>1 Jun 2001</td>\n      <td>1 Jun 2001</td>\n    </tr>\n    <tr>\n      <th>4</th>\n      <td>game</td>\n      <td>Half-Life: Opposing Force</td>\n      <td>50</td>\n      <td>Return to the Black Mesa Research Facility as ...</td>\n      <td>Return to the Black Mesa Research Facility as ...</td>\n      <td>[Gearbox Software]</td>\n      <td>[Valve]</td>\n      <td>[Single-player, Multi-player, Valve Anti-Cheat...</td>\n      <td>[Action]</td>\n      <td>1 Nov 1999</td>\n      <td>1 Nov 1999</td>\n    </tr>\n    <tr>\n      <th>...</th>\n      <td>...</td>\n      <td>...</td>\n      <td>...</td>\n      <td>...</td>\n      <td>...</td>\n      <td>...</td>\n      <td>...</td>\n      <td>...</td>\n      <td>...</td>\n      <td>...</td>\n      <td>...</td>\n    </tr>\n    <tr>\n      <th>57309</th>\n      <td>game</td>\n      <td>Higgs Boson: Timed Puzzle</td>\n      <td>1691890</td>\n      <td>Higgs Boson: Timed Puzzle is a short and chall...</td>\n      <td>Higgs Boson: Timed Puzzle is a minimalist and ...</td>\n      <td>[Remix Games]</td>\n      <td>[Remix Games]</td>\n      <td>[Single-player]</td>\n      <td>[Casual]</td>\n      <td>coming_soon</td>\n      <td>coming_soon</td>\n    </tr>\n    <tr>\n      <th>57310</th>\n      <td>game</td>\n      <td>Another Cat in Dungeons</td>\n      <td>1692390</td>\n      <td>Another Cat in Dungeons is a sequence from A C...</td>\n      <td>Another Cat in Dungeons is a sequence from A C...</td>\n      <td>[Day Art's Games]</td>\n      <td>[Day Art's Games]</td>\n      <td>[Single-player, Steam Achievements]</td>\n      <td>[Casual, Indie, Strategy]</td>\n      <td>coming_soon</td>\n      <td>coming_soon</td>\n    </tr>\n    <tr>\n      <th>57311</th>\n      <td>game</td>\n      <td>Cavern Commandos</td>\n      <td>1692480</td>\n      <td>Inspired by classic platformers like Rick Dang...</td>\n      <td>Inspired by classic platformers like Rick Dang...</td>\n      <td>[Soiree Games]</td>\n      <td>[Soiree Games]</td>\n      <td>[Single-player, Full controller support]</td>\n      <td>[Action, Indie]</td>\n      <td>6 Jul 2021</td>\n      <td>6 Jul 2021</td>\n    </tr>\n    <tr>\n      <th>57312</th>\n      <td>game</td>\n      <td>Hidden Shapes Black Skull - Jigsaw Puzzle Game</td>\n      <td>1692580</td>\n      <td>Disconnect yourself from the world with this g...</td>\n      <td>Relax with beautiful hand-drawn puzzles inspir...</td>\n      <td>[YAW Studios]</td>\n      <td>[YAW Studios]</td>\n      <td>[Single-player, Steam Achievements]</td>\n      <td>[Casual, Indie]</td>\n      <td>6 Aug 2021</td>\n      <td>6 Aug 2021</td>\n    </tr>\n    <tr>\n      <th>57313</th>\n      <td>game</td>\n      <td>Puzzles with cats</td>\n      <td>1692590</td>\n      <td>Hey! Have you already heard about the new game...</td>\n      <td>Puzzles with cats is a classic puzzle that inv...</td>\n      <td>[wow wow Games]</td>\n      <td>[wow wow Games]</td>\n      <td>[Single-player]</td>\n      <td>[Casual, Indie]</td>\n      <td>6 Jul 2021</td>\n      <td>6 Jul 2021</td>\n    </tr>\n  </tbody>\n</table>\n<p>56122 rows × 11 columns</p>\n</div>"
     },
     "metadata": {},
     "execution_count": 245
    }
   ],
   "source": [
    "#applying the above function\n",
    "data['new_release_date'] = data.apply(date_fixer, axis=1)\n",
    "data"
   ]
  },
  {
   "cell_type": "code",
   "execution_count": 246,
   "metadata": {},
   "outputs": [
    {
     "output_type": "execute_result",
     "data": {
      "text/plain": [
       "       type                                            name  steam_appid  \\\n",
       "0      game                                  Counter-Strike           10   \n",
       "1      game                           Team Fortress Classic           20   \n",
       "2      game                                   Day of Defeat           30   \n",
       "3      game                              Deathmatch Classic           40   \n",
       "4      game                       Half-Life: Opposing Force           50   \n",
       "...     ...                                             ...          ...   \n",
       "57307  game                             Football tournament      1691700   \n",
       "57308  game                            Survival Escape Room      1691760   \n",
       "57311  game                                Cavern Commandos      1692480   \n",
       "57312  game  Hidden Shapes Black Skull - Jigsaw Puzzle Game      1692580   \n",
       "57313  game                               Puzzles with cats      1692590   \n",
       "\n",
       "                                          about_the_game  \\\n",
       "0      Play the world's number 1 online action game. ...   \n",
       "1      One of the most popular online action games of...   \n",
       "2      Enlist in an intense brand of Axis vs. Allied ...   \n",
       "3      Enjoy fast-paced multiplayer gaming with Death...   \n",
       "4      Return to the Black Mesa Research Facility as ...   \n",
       "...                                                  ...   \n",
       "57307  Football has united all the countries of the w...   \n",
       "57308  Welcome to Survival Escape Room,You've been ki...   \n",
       "57311  Inspired by classic platformers like Rick Dang...   \n",
       "57312  Disconnect yourself from the world with this g...   \n",
       "57313  Hey! Have you already heard about the new game...   \n",
       "\n",
       "                                       short_description          developers  \\\n",
       "0      Play the world's number 1 online action game. ...             [Valve]   \n",
       "1      One of the most popular online action games of...             [Valve]   \n",
       "2      Enlist in an intense brand of Axis vs. Allied ...             [Valve]   \n",
       "3      Enjoy fast-paced multiplayer gaming with Death...             [Valve]   \n",
       "4      Return to the Black Mesa Research Facility as ...  [Gearbox Software]   \n",
       "...                                                  ...                 ...   \n",
       "57307  Football has united all the countries of the w...   [Phoenixxx Games]   \n",
       "57308  You've been kidnapped and you only have so muc...       [Braden Frye]   \n",
       "57311  Inspired by classic platformers like Rick Dang...      [Soiree Games]   \n",
       "57312  Relax with beautiful hand-drawn puzzles inspir...       [YAW Studios]   \n",
       "57313  Puzzles with cats is a classic puzzle that inv...     [wow wow Games]   \n",
       "\n",
       "              publishers                                         categories  \\\n",
       "0                [Valve]  [Multi-player, PvP, Online PvP, Shared/Split S...   \n",
       "1                [Valve]  [Multi-player, PvP, Online PvP, Shared/Split S...   \n",
       "2                [Valve]           [Multi-player, Valve Anti-Cheat enabled]   \n",
       "3                [Valve]  [Multi-player, PvP, Online PvP, Shared/Split S...   \n",
       "4                [Valve]  [Single-player, Multi-player, Valve Anti-Cheat...   \n",
       "...                  ...                                                ...   \n",
       "57307  [Phoenixxx Games]                                    [Single-player]   \n",
       "57308       [Frye Games]                                    [Single-player]   \n",
       "57311     [Soiree Games]           [Single-player, Full controller support]   \n",
       "57312      [YAW Studios]                [Single-player, Steam Achievements]   \n",
       "57313    [wow wow Games]                                    [Single-player]   \n",
       "\n",
       "                                    genres release_date new_release_date  \n",
       "0                                 [Action]   1 Nov 2000       1 Nov 2000  \n",
       "1                                 [Action]   1 Apr 1999       1 Apr 1999  \n",
       "2                                 [Action]   1 May 2003       1 May 2003  \n",
       "3                                 [Action]   1 Jun 2001       1 Jun 2001  \n",
       "4                                 [Action]   1 Nov 1999       1 Nov 1999  \n",
       "...                                    ...          ...              ...  \n",
       "57307  [Casual, Indie, Simulation, Sports]   2 Jul 2021       2 Jul 2021  \n",
       "57308                              [Indie]  23 uly 2021      23 uly 2021  \n",
       "57311                      [Action, Indie]   6 Jul 2021       6 Jul 2021  \n",
       "57312                      [Casual, Indie]   6 Aug 2021       6 Aug 2021  \n",
       "57313                      [Casual, Indie]   6 Jul 2021       6 Jul 2021  \n",
       "\n",
       "[49312 rows x 11 columns]"
      ],
      "text/html": "<div>\n<style scoped>\n    .dataframe tbody tr th:only-of-type {\n        vertical-align: middle;\n    }\n\n    .dataframe tbody tr th {\n        vertical-align: top;\n    }\n\n    .dataframe thead th {\n        text-align: right;\n    }\n</style>\n<table border=\"1\" class=\"dataframe\">\n  <thead>\n    <tr style=\"text-align: right;\">\n      <th></th>\n      <th>type</th>\n      <th>name</th>\n      <th>steam_appid</th>\n      <th>about_the_game</th>\n      <th>short_description</th>\n      <th>developers</th>\n      <th>publishers</th>\n      <th>categories</th>\n      <th>genres</th>\n      <th>release_date</th>\n      <th>new_release_date</th>\n    </tr>\n  </thead>\n  <tbody>\n    <tr>\n      <th>0</th>\n      <td>game</td>\n      <td>Counter-Strike</td>\n      <td>10</td>\n      <td>Play the world's number 1 online action game. ...</td>\n      <td>Play the world's number 1 online action game. ...</td>\n      <td>[Valve]</td>\n      <td>[Valve]</td>\n      <td>[Multi-player, PvP, Online PvP, Shared/Split S...</td>\n      <td>[Action]</td>\n      <td>1 Nov 2000</td>\n      <td>1 Nov 2000</td>\n    </tr>\n    <tr>\n      <th>1</th>\n      <td>game</td>\n      <td>Team Fortress Classic</td>\n      <td>20</td>\n      <td>One of the most popular online action games of...</td>\n      <td>One of the most popular online action games of...</td>\n      <td>[Valve]</td>\n      <td>[Valve]</td>\n      <td>[Multi-player, PvP, Online PvP, Shared/Split S...</td>\n      <td>[Action]</td>\n      <td>1 Apr 1999</td>\n      <td>1 Apr 1999</td>\n    </tr>\n    <tr>\n      <th>2</th>\n      <td>game</td>\n      <td>Day of Defeat</td>\n      <td>30</td>\n      <td>Enlist in an intense brand of Axis vs. Allied ...</td>\n      <td>Enlist in an intense brand of Axis vs. Allied ...</td>\n      <td>[Valve]</td>\n      <td>[Valve]</td>\n      <td>[Multi-player, Valve Anti-Cheat enabled]</td>\n      <td>[Action]</td>\n      <td>1 May 2003</td>\n      <td>1 May 2003</td>\n    </tr>\n    <tr>\n      <th>3</th>\n      <td>game</td>\n      <td>Deathmatch Classic</td>\n      <td>40</td>\n      <td>Enjoy fast-paced multiplayer gaming with Death...</td>\n      <td>Enjoy fast-paced multiplayer gaming with Death...</td>\n      <td>[Valve]</td>\n      <td>[Valve]</td>\n      <td>[Multi-player, PvP, Online PvP, Shared/Split S...</td>\n      <td>[Action]</td>\n      <td>1 Jun 2001</td>\n      <td>1 Jun 2001</td>\n    </tr>\n    <tr>\n      <th>4</th>\n      <td>game</td>\n      <td>Half-Life: Opposing Force</td>\n      <td>50</td>\n      <td>Return to the Black Mesa Research Facility as ...</td>\n      <td>Return to the Black Mesa Research Facility as ...</td>\n      <td>[Gearbox Software]</td>\n      <td>[Valve]</td>\n      <td>[Single-player, Multi-player, Valve Anti-Cheat...</td>\n      <td>[Action]</td>\n      <td>1 Nov 1999</td>\n      <td>1 Nov 1999</td>\n    </tr>\n    <tr>\n      <th>...</th>\n      <td>...</td>\n      <td>...</td>\n      <td>...</td>\n      <td>...</td>\n      <td>...</td>\n      <td>...</td>\n      <td>...</td>\n      <td>...</td>\n      <td>...</td>\n      <td>...</td>\n      <td>...</td>\n    </tr>\n    <tr>\n      <th>57307</th>\n      <td>game</td>\n      <td>Football tournament</td>\n      <td>1691700</td>\n      <td>Football has united all the countries of the w...</td>\n      <td>Football has united all the countries of the w...</td>\n      <td>[Phoenixxx Games]</td>\n      <td>[Phoenixxx Games]</td>\n      <td>[Single-player]</td>\n      <td>[Casual, Indie, Simulation, Sports]</td>\n      <td>2 Jul 2021</td>\n      <td>2 Jul 2021</td>\n    </tr>\n    <tr>\n      <th>57308</th>\n      <td>game</td>\n      <td>Survival Escape Room</td>\n      <td>1691760</td>\n      <td>Welcome to Survival Escape Room,You've been ki...</td>\n      <td>You've been kidnapped and you only have so muc...</td>\n      <td>[Braden Frye]</td>\n      <td>[Frye Games]</td>\n      <td>[Single-player]</td>\n      <td>[Indie]</td>\n      <td>23 uly 2021</td>\n      <td>23 uly 2021</td>\n    </tr>\n    <tr>\n      <th>57311</th>\n      <td>game</td>\n      <td>Cavern Commandos</td>\n      <td>1692480</td>\n      <td>Inspired by classic platformers like Rick Dang...</td>\n      <td>Inspired by classic platformers like Rick Dang...</td>\n      <td>[Soiree Games]</td>\n      <td>[Soiree Games]</td>\n      <td>[Single-player, Full controller support]</td>\n      <td>[Action, Indie]</td>\n      <td>6 Jul 2021</td>\n      <td>6 Jul 2021</td>\n    </tr>\n    <tr>\n      <th>57312</th>\n      <td>game</td>\n      <td>Hidden Shapes Black Skull - Jigsaw Puzzle Game</td>\n      <td>1692580</td>\n      <td>Disconnect yourself from the world with this g...</td>\n      <td>Relax with beautiful hand-drawn puzzles inspir...</td>\n      <td>[YAW Studios]</td>\n      <td>[YAW Studios]</td>\n      <td>[Single-player, Steam Achievements]</td>\n      <td>[Casual, Indie]</td>\n      <td>6 Aug 2021</td>\n      <td>6 Aug 2021</td>\n    </tr>\n    <tr>\n      <th>57313</th>\n      <td>game</td>\n      <td>Puzzles with cats</td>\n      <td>1692590</td>\n      <td>Hey! Have you already heard about the new game...</td>\n      <td>Puzzles with cats is a classic puzzle that inv...</td>\n      <td>[wow wow Games]</td>\n      <td>[wow wow Games]</td>\n      <td>[Single-player]</td>\n      <td>[Casual, Indie]</td>\n      <td>6 Jul 2021</td>\n      <td>6 Jul 2021</td>\n    </tr>\n  </tbody>\n</table>\n<p>49312 rows × 11 columns</p>\n</div>"
     },
     "metadata": {},
     "execution_count": 246
    }
   ],
   "source": [
    "#just to test, dropping the coming soon \n",
    "data1= data.drop(data[(data['new_release_date'] == 'coming_soon')].index)\n",
    "data1"
   ]
  },
  {
   "cell_type": "code",
   "execution_count": 247,
   "metadata": {},
   "outputs": [
    {
     "output_type": "error",
     "ename": "ValueError",
     "evalue": "time data '25 ust 2021' does not match format '%d %b %Y'",
     "traceback": [
      "\u001b[1;31m---------------------------------------------------------------------------\u001b[0m",
      "\u001b[1;31mValueError\u001b[0m                                Traceback (most recent call last)",
      "\u001b[1;32mC:\\Users\\PAYALG~1\\AppData\\Local\\Temp/ipykernel_31584/3906647105.py\u001b[0m in \u001b[0;36m<module>\u001b[1;34m\u001b[0m\n\u001b[1;32m----> 1\u001b[1;33m \u001b[0mlist\u001b[0m\u001b[1;33m(\u001b[0m\u001b[0mmap\u001b[0m\u001b[1;33m(\u001b[0m\u001b[1;32mlambda\u001b[0m \u001b[0mx\u001b[0m\u001b[1;33m:\u001b[0m \u001b[0mdatetime\u001b[0m\u001b[1;33m.\u001b[0m\u001b[0mdatetime\u001b[0m\u001b[1;33m.\u001b[0m\u001b[0mstrptime\u001b[0m\u001b[1;33m(\u001b[0m\u001b[0mx\u001b[0m\u001b[1;33m,\u001b[0m \u001b[1;34m'%d %b %Y'\u001b[0m\u001b[1;33m)\u001b[0m\u001b[1;33m.\u001b[0m\u001b[0mstrftime\u001b[0m\u001b[1;33m(\u001b[0m\u001b[1;34m'%d/%m/%Y'\u001b[0m\u001b[1;33m)\u001b[0m\u001b[1;33m,\u001b[0m \u001b[0mdata1\u001b[0m\u001b[1;33m[\u001b[0m\u001b[1;34m'new_release_date'\u001b[0m\u001b[1;33m]\u001b[0m\u001b[1;33m)\u001b[0m\u001b[1;33m)\u001b[0m\u001b[1;33m\u001b[0m\u001b[1;33m\u001b[0m\u001b[0m\n\u001b[0m",
      "\u001b[1;32mC:\\Users\\PAYALG~1\\AppData\\Local\\Temp/ipykernel_31584/3906647105.py\u001b[0m in \u001b[0;36m<lambda>\u001b[1;34m(x)\u001b[0m\n\u001b[1;32m----> 1\u001b[1;33m \u001b[0mlist\u001b[0m\u001b[1;33m(\u001b[0m\u001b[0mmap\u001b[0m\u001b[1;33m(\u001b[0m\u001b[1;32mlambda\u001b[0m \u001b[0mx\u001b[0m\u001b[1;33m:\u001b[0m \u001b[0mdatetime\u001b[0m\u001b[1;33m.\u001b[0m\u001b[0mdatetime\u001b[0m\u001b[1;33m.\u001b[0m\u001b[0mstrptime\u001b[0m\u001b[1;33m(\u001b[0m\u001b[0mx\u001b[0m\u001b[1;33m,\u001b[0m \u001b[1;34m'%d %b %Y'\u001b[0m\u001b[1;33m)\u001b[0m\u001b[1;33m.\u001b[0m\u001b[0mstrftime\u001b[0m\u001b[1;33m(\u001b[0m\u001b[1;34m'%d/%m/%Y'\u001b[0m\u001b[1;33m)\u001b[0m\u001b[1;33m,\u001b[0m \u001b[0mdata1\u001b[0m\u001b[1;33m[\u001b[0m\u001b[1;34m'new_release_date'\u001b[0m\u001b[1;33m]\u001b[0m\u001b[1;33m)\u001b[0m\u001b[1;33m)\u001b[0m\u001b[1;33m\u001b[0m\u001b[1;33m\u001b[0m\u001b[0m\n\u001b[0m",
      "\u001b[1;32mC:\\Anaconda\\envs\\PayalGurung\\lib\\_strptime.py\u001b[0m in \u001b[0;36m_strptime_datetime\u001b[1;34m(cls, data_string, format)\u001b[0m\n\u001b[0;32m    566\u001b[0m     \"\"\"Return a class cls instance based on the input string and the\n\u001b[0;32m    567\u001b[0m     format string.\"\"\"\n\u001b[1;32m--> 568\u001b[1;33m     \u001b[0mtt\u001b[0m\u001b[1;33m,\u001b[0m \u001b[0mfraction\u001b[0m\u001b[1;33m,\u001b[0m \u001b[0mgmtoff_fraction\u001b[0m \u001b[1;33m=\u001b[0m \u001b[0m_strptime\u001b[0m\u001b[1;33m(\u001b[0m\u001b[0mdata_string\u001b[0m\u001b[1;33m,\u001b[0m \u001b[0mformat\u001b[0m\u001b[1;33m)\u001b[0m\u001b[1;33m\u001b[0m\u001b[1;33m\u001b[0m\u001b[0m\n\u001b[0m\u001b[0;32m    569\u001b[0m     \u001b[0mtzname\u001b[0m\u001b[1;33m,\u001b[0m \u001b[0mgmtoff\u001b[0m \u001b[1;33m=\u001b[0m \u001b[0mtt\u001b[0m\u001b[1;33m[\u001b[0m\u001b[1;33m-\u001b[0m\u001b[1;36m2\u001b[0m\u001b[1;33m:\u001b[0m\u001b[1;33m]\u001b[0m\u001b[1;33m\u001b[0m\u001b[1;33m\u001b[0m\u001b[0m\n\u001b[0;32m    570\u001b[0m     \u001b[0margs\u001b[0m \u001b[1;33m=\u001b[0m \u001b[0mtt\u001b[0m\u001b[1;33m[\u001b[0m\u001b[1;33m:\u001b[0m\u001b[1;36m6\u001b[0m\u001b[1;33m]\u001b[0m \u001b[1;33m+\u001b[0m \u001b[1;33m(\u001b[0m\u001b[0mfraction\u001b[0m\u001b[1;33m,\u001b[0m\u001b[1;33m)\u001b[0m\u001b[1;33m\u001b[0m\u001b[1;33m\u001b[0m\u001b[0m\n",
      "\u001b[1;32mC:\\Anaconda\\envs\\PayalGurung\\lib\\_strptime.py\u001b[0m in \u001b[0;36m_strptime\u001b[1;34m(data_string, format)\u001b[0m\n\u001b[0;32m    347\u001b[0m     \u001b[0mfound\u001b[0m \u001b[1;33m=\u001b[0m \u001b[0mformat_regex\u001b[0m\u001b[1;33m.\u001b[0m\u001b[0mmatch\u001b[0m\u001b[1;33m(\u001b[0m\u001b[0mdata_string\u001b[0m\u001b[1;33m)\u001b[0m\u001b[1;33m\u001b[0m\u001b[1;33m\u001b[0m\u001b[0m\n\u001b[0;32m    348\u001b[0m     \u001b[1;32mif\u001b[0m \u001b[1;32mnot\u001b[0m \u001b[0mfound\u001b[0m\u001b[1;33m:\u001b[0m\u001b[1;33m\u001b[0m\u001b[1;33m\u001b[0m\u001b[0m\n\u001b[1;32m--> 349\u001b[1;33m         raise ValueError(\"time data %r does not match format %r\" %\n\u001b[0m\u001b[0;32m    350\u001b[0m                          (data_string, format))\n\u001b[0;32m    351\u001b[0m     \u001b[1;32mif\u001b[0m \u001b[0mlen\u001b[0m\u001b[1;33m(\u001b[0m\u001b[0mdata_string\u001b[0m\u001b[1;33m)\u001b[0m \u001b[1;33m!=\u001b[0m \u001b[0mfound\u001b[0m\u001b[1;33m.\u001b[0m\u001b[0mend\u001b[0m\u001b[1;33m(\u001b[0m\u001b[1;33m)\u001b[0m\u001b[1;33m:\u001b[0m\u001b[1;33m\u001b[0m\u001b[1;33m\u001b[0m\u001b[0m\n",
      "\u001b[1;31mValueError\u001b[0m: time data '25 ust 2021' does not match format '%d %b %Y'"
     ]
    }
   ],
   "source": [
    "#trying to change the date format by using the datetime format \n",
    "list(map(lambda x: datetime.datetime.strptime(x, '%d %b %Y').strftime('%d/%m/%Y'), data1['new_release_date']))"
   ]
  },
  {
   "cell_type": "code",
   "execution_count": null,
   "metadata": {},
   "outputs": [],
   "source": []
  }
 ]
}