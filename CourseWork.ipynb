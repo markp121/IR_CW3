{
 "metadata": {
  "language_info": {
   "codemirror_mode": {
    "name": "ipython",
    "version": 3
   },
   "file_extension": ".py",
   "mimetype": "text/x-python",
   "name": "python",
   "nbconvert_exporter": "python",
   "pygments_lexer": "ipython3",
   "version": "3.8.5"
  },
  "orig_nbformat": 4,
  "kernelspec": {
   "name": "python3",
   "display_name": "Python 3.8.5 64-bit ('get_started': conda)"
  },
  "interpreter": {
   "hash": "7c9306cb6b6cdd63af32741de20474f96e5816ca67bdb97331c776f28926cc6e"
  }
 },
 "nbformat": 4,
 "nbformat_minor": 2,
 "cells": [
  {
   "cell_type": "code",
   "execution_count": 1,
   "metadata": {},
   "outputs": [
    {
     "output_type": "stream",
     "name": "stderr",
     "text": [
      "[nltk_data] Downloading package stopwords to /Users/Temi/nltk_data...\n",
      "[nltk_data]   Package stopwords is already up-to-date!\n",
      "[nltk_data] Downloading package wordnet to /Users/Temi/nltk_data...\n",
      "[nltk_data]   Package wordnet is already up-to-date!\n",
      "[nltk_data] Downloading package punkt to /Users/Temi/nltk_data...\n",
      "[nltk_data]   Unzipping tokenizers/punkt.zip.\n"
     ]
    },
    {
     "output_type": "execute_result",
     "data": {
      "text/plain": [
       "True"
      ]
     },
     "metadata": {},
     "execution_count": 1
    }
   ],
   "source": [
    "# Libraries\n",
    "import pandas as pd\n",
    "import regex as re\n",
    "import nltk\n",
    "from nltk.classify import SklearnClassifier\n",
    "from nltk.stem.porter import PorterStemmer\n",
    "from nltk.stem import WordNetLemmatizer\n",
    "from nltk.corpus import stopwords\n",
    "from nltk.tokenize import word_tokenize\n",
    "import string\n",
    "\n",
    "nltk.download('stopwords')\n",
    "nltk.download('wordnet')\n",
    "nltk.download('punkt')"
   ]
  },
  {
   "cell_type": "code",
   "execution_count": 2,
   "metadata": {},
   "outputs": [
    {
     "output_type": "execute_result",
     "data": {
      "text/plain": [
       "   type                       name  steam_appid  \\\n",
       "0  game             Counter-Strike           10   \n",
       "1  game      Team Fortress Classic           20   \n",
       "2  game              Day of Defeat           30   \n",
       "3  game         Deathmatch Classic           40   \n",
       "4  game  Half-Life: Opposing Force           50   \n",
       "\n",
       "                                      about_the_game  \\\n",
       "0  Play the world's number 1 online action game. ...   \n",
       "1  One of the most popular online action games of...   \n",
       "2  Enlist in an intense brand of Axis vs. Allied ...   \n",
       "3  Enjoy fast-paced multiplayer gaming with Death...   \n",
       "4  Return to the Black Mesa Research Facility as ...   \n",
       "\n",
       "                                   short_description          developers  \\\n",
       "0  Play the world's number 1 online action game. ...             [Valve]   \n",
       "1  One of the most popular online action games of...             [Valve]   \n",
       "2  Enlist in an intense brand of Axis vs. Allied ...             [Valve]   \n",
       "3  Enjoy fast-paced multiplayer gaming with Death...             [Valve]   \n",
       "4  Return to the Black Mesa Research Facility as ...  [Gearbox Software]   \n",
       "\n",
       "  publishers                                         categories    genres  \\\n",
       "0    [Valve]  [Multi-player, PvP, Online PvP, Shared/Split S...  [Action]   \n",
       "1    [Valve]  [Multi-player, PvP, Online PvP, Shared/Split S...  [Action]   \n",
       "2    [Valve]           [Multi-player, Valve Anti-Cheat enabled]  [Action]   \n",
       "3    [Valve]  [Multi-player, PvP, Online PvP, Shared/Split S...  [Action]   \n",
       "4    [Valve]  [Single-player, Multi-player, Valve Anti-Cheat...  [Action]   \n",
       "\n",
       "  release_date  \n",
       "0   1 Nov 2000  \n",
       "1   1 Apr 1999  \n",
       "2   1 May 2003  \n",
       "3   1 Jun 2001  \n",
       "4   1 Nov 1999  "
      ],
      "text/html": "<div>\n<style scoped>\n    .dataframe tbody tr th:only-of-type {\n        vertical-align: middle;\n    }\n\n    .dataframe tbody tr th {\n        vertical-align: top;\n    }\n\n    .dataframe thead th {\n        text-align: right;\n    }\n</style>\n<table border=\"1\" class=\"dataframe\">\n  <thead>\n    <tr style=\"text-align: right;\">\n      <th></th>\n      <th>type</th>\n      <th>name</th>\n      <th>steam_appid</th>\n      <th>about_the_game</th>\n      <th>short_description</th>\n      <th>developers</th>\n      <th>publishers</th>\n      <th>categories</th>\n      <th>genres</th>\n      <th>release_date</th>\n    </tr>\n  </thead>\n  <tbody>\n    <tr>\n      <th>0</th>\n      <td>game</td>\n      <td>Counter-Strike</td>\n      <td>10</td>\n      <td>Play the world's number 1 online action game. ...</td>\n      <td>Play the world's number 1 online action game. ...</td>\n      <td>[Valve]</td>\n      <td>[Valve]</td>\n      <td>[Multi-player, PvP, Online PvP, Shared/Split S...</td>\n      <td>[Action]</td>\n      <td>1 Nov 2000</td>\n    </tr>\n    <tr>\n      <th>1</th>\n      <td>game</td>\n      <td>Team Fortress Classic</td>\n      <td>20</td>\n      <td>One of the most popular online action games of...</td>\n      <td>One of the most popular online action games of...</td>\n      <td>[Valve]</td>\n      <td>[Valve]</td>\n      <td>[Multi-player, PvP, Online PvP, Shared/Split S...</td>\n      <td>[Action]</td>\n      <td>1 Apr 1999</td>\n    </tr>\n    <tr>\n      <th>2</th>\n      <td>game</td>\n      <td>Day of Defeat</td>\n      <td>30</td>\n      <td>Enlist in an intense brand of Axis vs. Allied ...</td>\n      <td>Enlist in an intense brand of Axis vs. Allied ...</td>\n      <td>[Valve]</td>\n      <td>[Valve]</td>\n      <td>[Multi-player, Valve Anti-Cheat enabled]</td>\n      <td>[Action]</td>\n      <td>1 May 2003</td>\n    </tr>\n    <tr>\n      <th>3</th>\n      <td>game</td>\n      <td>Deathmatch Classic</td>\n      <td>40</td>\n      <td>Enjoy fast-paced multiplayer gaming with Death...</td>\n      <td>Enjoy fast-paced multiplayer gaming with Death...</td>\n      <td>[Valve]</td>\n      <td>[Valve]</td>\n      <td>[Multi-player, PvP, Online PvP, Shared/Split S...</td>\n      <td>[Action]</td>\n      <td>1 Jun 2001</td>\n    </tr>\n    <tr>\n      <th>4</th>\n      <td>game</td>\n      <td>Half-Life: Opposing Force</td>\n      <td>50</td>\n      <td>Return to the Black Mesa Research Facility as ...</td>\n      <td>Return to the Black Mesa Research Facility as ...</td>\n      <td>[Gearbox Software]</td>\n      <td>[Valve]</td>\n      <td>[Single-player, Multi-player, Valve Anti-Cheat...</td>\n      <td>[Action]</td>\n      <td>1 Nov 1999</td>\n    </tr>\n  </tbody>\n</table>\n</div>"
     },
     "metadata": {},
     "execution_count": 2
    }
   ],
   "source": [
    "df = pd.read_pickle('cleaned_steam_data_V2', compression='infer')\n",
    "data = df.copy()\n",
    "data.head()"
   ]
  },
  {
   "cell_type": "code",
   "execution_count": 3,
   "metadata": {},
   "outputs": [
    {
     "output_type": "execute_result",
     "data": {
      "text/plain": [
       "   type                       name  steam_appid  \\\n",
       "0  game             Counter-Strike           10   \n",
       "1  game      Team Fortress Classic           20   \n",
       "2  game              Day of Defeat           30   \n",
       "3  game         Deathmatch Classic           40   \n",
       "4  game  Half-Life: Opposing Force           50   \n",
       "\n",
       "                                      about_the_game  \\\n",
       "0  Play the world's number 1 online action game. ...   \n",
       "1  One of the most popular online action games of...   \n",
       "2  Enlist in an intense brand of Axis vs. Allied ...   \n",
       "3  Enjoy fast-paced multiplayer gaming with Death...   \n",
       "4  Return to the Black Mesa Research Facility as ...   \n",
       "\n",
       "                                   short_description          developers  \\\n",
       "0  Play the world's number 1 online action game. ...             [Valve]   \n",
       "1  One of the most popular online action games of...             [Valve]   \n",
       "2  Enlist in an intense brand of Axis vs. Allied ...             [Valve]   \n",
       "3  Enjoy fast-paced multiplayer gaming with Death...             [Valve]   \n",
       "4  Return to the Black Mesa Research Facility as ...  [Gearbox Software]   \n",
       "\n",
       "  publishers                                         categories    genres  \\\n",
       "0    [Valve]  [Multi-player, PvP, Online PvP, Shared/Split S...  [Action]   \n",
       "1    [Valve]  [Multi-player, PvP, Online PvP, Shared/Split S...  [Action]   \n",
       "2    [Valve]           [Multi-player, Valve Anti-Cheat enabled]  [Action]   \n",
       "3    [Valve]  [Multi-player, PvP, Online PvP, Shared/Split S...  [Action]   \n",
       "4    [Valve]  [Single-player, Multi-player, Valve Anti-Cheat...  [Action]   \n",
       "\n",
       "  release_date new_release_date  \n",
       "0   1 Nov 2000       1 Nov 2000  \n",
       "1   1 Apr 1999       1 Apr 1999  \n",
       "2   1 May 2003       1 May 2003  \n",
       "3   1 Jun 2001       1 Jun 2001  \n",
       "4   1 Nov 1999       1 Nov 1999  "
      ],
      "text/html": "<div>\n<style scoped>\n    .dataframe tbody tr th:only-of-type {\n        vertical-align: middle;\n    }\n\n    .dataframe tbody tr th {\n        vertical-align: top;\n    }\n\n    .dataframe thead th {\n        text-align: right;\n    }\n</style>\n<table border=\"1\" class=\"dataframe\">\n  <thead>\n    <tr style=\"text-align: right;\">\n      <th></th>\n      <th>type</th>\n      <th>name</th>\n      <th>steam_appid</th>\n      <th>about_the_game</th>\n      <th>short_description</th>\n      <th>developers</th>\n      <th>publishers</th>\n      <th>categories</th>\n      <th>genres</th>\n      <th>release_date</th>\n      <th>new_release_date</th>\n    </tr>\n  </thead>\n  <tbody>\n    <tr>\n      <th>0</th>\n      <td>game</td>\n      <td>Counter-Strike</td>\n      <td>10</td>\n      <td>Play the world's number 1 online action game. ...</td>\n      <td>Play the world's number 1 online action game. ...</td>\n      <td>[Valve]</td>\n      <td>[Valve]</td>\n      <td>[Multi-player, PvP, Online PvP, Shared/Split S...</td>\n      <td>[Action]</td>\n      <td>1 Nov 2000</td>\n      <td>1 Nov 2000</td>\n    </tr>\n    <tr>\n      <th>1</th>\n      <td>game</td>\n      <td>Team Fortress Classic</td>\n      <td>20</td>\n      <td>One of the most popular online action games of...</td>\n      <td>One of the most popular online action games of...</td>\n      <td>[Valve]</td>\n      <td>[Valve]</td>\n      <td>[Multi-player, PvP, Online PvP, Shared/Split S...</td>\n      <td>[Action]</td>\n      <td>1 Apr 1999</td>\n      <td>1 Apr 1999</td>\n    </tr>\n    <tr>\n      <th>2</th>\n      <td>game</td>\n      <td>Day of Defeat</td>\n      <td>30</td>\n      <td>Enlist in an intense brand of Axis vs. Allied ...</td>\n      <td>Enlist in an intense brand of Axis vs. Allied ...</td>\n      <td>[Valve]</td>\n      <td>[Valve]</td>\n      <td>[Multi-player, Valve Anti-Cheat enabled]</td>\n      <td>[Action]</td>\n      <td>1 May 2003</td>\n      <td>1 May 2003</td>\n    </tr>\n    <tr>\n      <th>3</th>\n      <td>game</td>\n      <td>Deathmatch Classic</td>\n      <td>40</td>\n      <td>Enjoy fast-paced multiplayer gaming with Death...</td>\n      <td>Enjoy fast-paced multiplayer gaming with Death...</td>\n      <td>[Valve]</td>\n      <td>[Valve]</td>\n      <td>[Multi-player, PvP, Online PvP, Shared/Split S...</td>\n      <td>[Action]</td>\n      <td>1 Jun 2001</td>\n      <td>1 Jun 2001</td>\n    </tr>\n    <tr>\n      <th>4</th>\n      <td>game</td>\n      <td>Half-Life: Opposing Force</td>\n      <td>50</td>\n      <td>Return to the Black Mesa Research Facility as ...</td>\n      <td>Return to the Black Mesa Research Facility as ...</td>\n      <td>[Gearbox Software]</td>\n      <td>[Valve]</td>\n      <td>[Single-player, Multi-player, Valve Anti-Cheat...</td>\n      <td>[Action]</td>\n      <td>1 Nov 1999</td>\n      <td>1 Nov 1999</td>\n    </tr>\n  </tbody>\n</table>\n</div>"
     },
     "metadata": {},
     "execution_count": 3
    }
   ],
   "source": [
    "#function to replace the date that starts with 0 to 1 \n",
    "def date_fixer(row):\n",
    "    if (str(row.release_date).startswith('0')):\n",
    "        return str(row.release_date).replace('0', '1', 1)\n",
    "    else: return str(row.release_date)\n",
    "\n",
    "#applying the above function\n",
    "data['new_release_date'] = data.apply(date_fixer, axis=1)\n",
    "data.head()"
   ]
  },
  {
   "cell_type": "code",
   "execution_count": 4,
   "metadata": {},
   "outputs": [
    {
     "output_type": "execute_result",
     "data": {
      "text/plain": [
       "   type                       name  steam_appid  \\\n",
       "0  game             Counter-Strike           10   \n",
       "1  game      Team Fortress Classic           20   \n",
       "2  game              Day of Defeat           30   \n",
       "3  game         Deathmatch Classic           40   \n",
       "4  game  Half-Life: Opposing Force           50   \n",
       "\n",
       "                                      about_the_game  \\\n",
       "0  Play the world's number 1 online action game. ...   \n",
       "1  One of the most popular online action games of...   \n",
       "2  Enlist in an intense brand of Axis vs. Allied ...   \n",
       "3  Enjoy fast-paced multiplayer gaming with Death...   \n",
       "4  Return to the Black Mesa Research Facility as ...   \n",
       "\n",
       "                                   short_description          developers  \\\n",
       "0  Play the world's number 1 online action game. ...             [Valve]   \n",
       "1  One of the most popular online action games of...             [Valve]   \n",
       "2  Enlist in an intense brand of Axis vs. Allied ...             [Valve]   \n",
       "3  Enjoy fast-paced multiplayer gaming with Death...             [Valve]   \n",
       "4  Return to the Black Mesa Research Facility as ...  [Gearbox Software]   \n",
       "\n",
       "  publishers                                         categories    genres  \\\n",
       "0    [Valve]  [Multi-player, PvP, Online PvP, Shared/Split S...  [Action]   \n",
       "1    [Valve]  [Multi-player, PvP, Online PvP, Shared/Split S...  [Action]   \n",
       "2    [Valve]           [Multi-player, Valve Anti-Cheat enabled]  [Action]   \n",
       "3    [Valve]  [Multi-player, PvP, Online PvP, Shared/Split S...  [Action]   \n",
       "4    [Valve]  [Single-player, Multi-player, Valve Anti-Cheat...  [Action]   \n",
       "\n",
       "  release_date new_release_date  \n",
       "0   1 Nov 2000       1 Nov 2000  \n",
       "1   1 Apr 1999       1 Apr 1999  \n",
       "2   1 May 2003       1 May 2003  \n",
       "3   1 Jun 2001       1 Jun 2001  \n",
       "4   1 Nov 1999       1 Nov 1999  "
      ],
      "text/html": "<div>\n<style scoped>\n    .dataframe tbody tr th:only-of-type {\n        vertical-align: middle;\n    }\n\n    .dataframe tbody tr th {\n        vertical-align: top;\n    }\n\n    .dataframe thead th {\n        text-align: right;\n    }\n</style>\n<table border=\"1\" class=\"dataframe\">\n  <thead>\n    <tr style=\"text-align: right;\">\n      <th></th>\n      <th>type</th>\n      <th>name</th>\n      <th>steam_appid</th>\n      <th>about_the_game</th>\n      <th>short_description</th>\n      <th>developers</th>\n      <th>publishers</th>\n      <th>categories</th>\n      <th>genres</th>\n      <th>release_date</th>\n      <th>new_release_date</th>\n    </tr>\n  </thead>\n  <tbody>\n    <tr>\n      <th>0</th>\n      <td>game</td>\n      <td>Counter-Strike</td>\n      <td>10</td>\n      <td>Play the world's number 1 online action game. ...</td>\n      <td>Play the world's number 1 online action game. ...</td>\n      <td>[Valve]</td>\n      <td>[Valve]</td>\n      <td>[Multi-player, PvP, Online PvP, Shared/Split S...</td>\n      <td>[Action]</td>\n      <td>1 Nov 2000</td>\n      <td>1 Nov 2000</td>\n    </tr>\n    <tr>\n      <th>1</th>\n      <td>game</td>\n      <td>Team Fortress Classic</td>\n      <td>20</td>\n      <td>One of the most popular online action games of...</td>\n      <td>One of the most popular online action games of...</td>\n      <td>[Valve]</td>\n      <td>[Valve]</td>\n      <td>[Multi-player, PvP, Online PvP, Shared/Split S...</td>\n      <td>[Action]</td>\n      <td>1 Apr 1999</td>\n      <td>1 Apr 1999</td>\n    </tr>\n    <tr>\n      <th>2</th>\n      <td>game</td>\n      <td>Day of Defeat</td>\n      <td>30</td>\n      <td>Enlist in an intense brand of Axis vs. Allied ...</td>\n      <td>Enlist in an intense brand of Axis vs. Allied ...</td>\n      <td>[Valve]</td>\n      <td>[Valve]</td>\n      <td>[Multi-player, Valve Anti-Cheat enabled]</td>\n      <td>[Action]</td>\n      <td>1 May 2003</td>\n      <td>1 May 2003</td>\n    </tr>\n    <tr>\n      <th>3</th>\n      <td>game</td>\n      <td>Deathmatch Classic</td>\n      <td>40</td>\n      <td>Enjoy fast-paced multiplayer gaming with Death...</td>\n      <td>Enjoy fast-paced multiplayer gaming with Death...</td>\n      <td>[Valve]</td>\n      <td>[Valve]</td>\n      <td>[Multi-player, PvP, Online PvP, Shared/Split S...</td>\n      <td>[Action]</td>\n      <td>1 Jun 2001</td>\n      <td>1 Jun 2001</td>\n    </tr>\n    <tr>\n      <th>4</th>\n      <td>game</td>\n      <td>Half-Life: Opposing Force</td>\n      <td>50</td>\n      <td>Return to the Black Mesa Research Facility as ...</td>\n      <td>Return to the Black Mesa Research Facility as ...</td>\n      <td>[Gearbox Software]</td>\n      <td>[Valve]</td>\n      <td>[Single-player, Multi-player, Valve Anti-Cheat...</td>\n      <td>[Action]</td>\n      <td>1 Nov 1999</td>\n      <td>1 Nov 1999</td>\n    </tr>\n  </tbody>\n</table>\n</div>"
     },
     "metadata": {},
     "execution_count": 4
    }
   ],
   "source": [
    "#just to test, dropping the coming_soon for now or we may omit this process \n",
    "data= data.drop(data[(data['new_release_date'] == 'coming_soon')].index)\n",
    "data.head()"
   ]
  },
  {
   "cell_type": "code",
   "execution_count": 5,
   "metadata": {},
   "outputs": [
    {
     "output_type": "execute_result",
     "data": {
      "text/plain": [
       "   type                       name  steam_appid  \\\n",
       "0  game             Counter-Strike           10   \n",
       "1  game      Team Fortress Classic           20   \n",
       "2  game              Day of Defeat           30   \n",
       "3  game         Deathmatch Classic           40   \n",
       "4  game  Half-Life: Opposing Force           50   \n",
       "\n",
       "                                      about_the_game  \\\n",
       "0  Play the world's number 1 online action game. ...   \n",
       "1  One of the most popular online action games of...   \n",
       "2  Enlist in an intense brand of Axis vs. Allied ...   \n",
       "3  Enjoy fast-paced multiplayer gaming with Death...   \n",
       "4  Return to the Black Mesa Research Facility as ...   \n",
       "\n",
       "                                   short_description          developers  \\\n",
       "0  Play the world's number 1 online action game. ...             [Valve]   \n",
       "1  One of the most popular online action games of...             [Valve]   \n",
       "2  Enlist in an intense brand of Axis vs. Allied ...             [Valve]   \n",
       "3  Enjoy fast-paced multiplayer gaming with Death...             [Valve]   \n",
       "4  Return to the Black Mesa Research Facility as ...  [Gearbox Software]   \n",
       "\n",
       "  publishers                                         categories    genres  \\\n",
       "0    [Valve]  [Multi-player, PvP, Online PvP, Shared/Split S...  [Action]   \n",
       "1    [Valve]  [Multi-player, PvP, Online PvP, Shared/Split S...  [Action]   \n",
       "2    [Valve]           [Multi-player, Valve Anti-Cheat enabled]  [Action]   \n",
       "3    [Valve]  [Multi-player, PvP, Online PvP, Shared/Split S...  [Action]   \n",
       "4    [Valve]  [Single-player, Multi-player, Valve Anti-Cheat...  [Action]   \n",
       "\n",
       "  new_release_date  \n",
       "0       1 Nov 2000  \n",
       "1       1 Apr 1999  \n",
       "2       1 May 2003  \n",
       "3       1 Jun 2001  \n",
       "4       1 Nov 1999  "
      ],
      "text/html": "<div>\n<style scoped>\n    .dataframe tbody tr th:only-of-type {\n        vertical-align: middle;\n    }\n\n    .dataframe tbody tr th {\n        vertical-align: top;\n    }\n\n    .dataframe thead th {\n        text-align: right;\n    }\n</style>\n<table border=\"1\" class=\"dataframe\">\n  <thead>\n    <tr style=\"text-align: right;\">\n      <th></th>\n      <th>type</th>\n      <th>name</th>\n      <th>steam_appid</th>\n      <th>about_the_game</th>\n      <th>short_description</th>\n      <th>developers</th>\n      <th>publishers</th>\n      <th>categories</th>\n      <th>genres</th>\n      <th>new_release_date</th>\n    </tr>\n  </thead>\n  <tbody>\n    <tr>\n      <th>0</th>\n      <td>game</td>\n      <td>Counter-Strike</td>\n      <td>10</td>\n      <td>Play the world's number 1 online action game. ...</td>\n      <td>Play the world's number 1 online action game. ...</td>\n      <td>[Valve]</td>\n      <td>[Valve]</td>\n      <td>[Multi-player, PvP, Online PvP, Shared/Split S...</td>\n      <td>[Action]</td>\n      <td>1 Nov 2000</td>\n    </tr>\n    <tr>\n      <th>1</th>\n      <td>game</td>\n      <td>Team Fortress Classic</td>\n      <td>20</td>\n      <td>One of the most popular online action games of...</td>\n      <td>One of the most popular online action games of...</td>\n      <td>[Valve]</td>\n      <td>[Valve]</td>\n      <td>[Multi-player, PvP, Online PvP, Shared/Split S...</td>\n      <td>[Action]</td>\n      <td>1 Apr 1999</td>\n    </tr>\n    <tr>\n      <th>2</th>\n      <td>game</td>\n      <td>Day of Defeat</td>\n      <td>30</td>\n      <td>Enlist in an intense brand of Axis vs. Allied ...</td>\n      <td>Enlist in an intense brand of Axis vs. Allied ...</td>\n      <td>[Valve]</td>\n      <td>[Valve]</td>\n      <td>[Multi-player, Valve Anti-Cheat enabled]</td>\n      <td>[Action]</td>\n      <td>1 May 2003</td>\n    </tr>\n    <tr>\n      <th>3</th>\n      <td>game</td>\n      <td>Deathmatch Classic</td>\n      <td>40</td>\n      <td>Enjoy fast-paced multiplayer gaming with Death...</td>\n      <td>Enjoy fast-paced multiplayer gaming with Death...</td>\n      <td>[Valve]</td>\n      <td>[Valve]</td>\n      <td>[Multi-player, PvP, Online PvP, Shared/Split S...</td>\n      <td>[Action]</td>\n      <td>1 Jun 2001</td>\n    </tr>\n    <tr>\n      <th>4</th>\n      <td>game</td>\n      <td>Half-Life: Opposing Force</td>\n      <td>50</td>\n      <td>Return to the Black Mesa Research Facility as ...</td>\n      <td>Return to the Black Mesa Research Facility as ...</td>\n      <td>[Gearbox Software]</td>\n      <td>[Valve]</td>\n      <td>[Single-player, Multi-player, Valve Anti-Cheat...</td>\n      <td>[Action]</td>\n      <td>1 Nov 1999</td>\n    </tr>\n  </tbody>\n</table>\n</div>"
     },
     "metadata": {},
     "execution_count": 5
    }
   ],
   "source": [
    "#dropping the old release date as we have cleaned the date\n",
    "data = data.drop(columns =['release_date'])\n",
    "data.head()"
   ]
  },
  {
   "cell_type": "code",
   "execution_count": 6,
   "metadata": {},
   "outputs": [
    {
     "output_type": "execute_result",
     "data": {
      "text/plain": [
       "   type                       name  steam_appid  \\\n",
       "0  game             Counter-Strike           10   \n",
       "1  game      Team Fortress Classic           20   \n",
       "2  game              Day of Defeat           30   \n",
       "3  game         Deathmatch Classic           40   \n",
       "4  game  Half-Life: Opposing Force           50   \n",
       "\n",
       "                                      about_the_game  \\\n",
       "0  Play the worlds number 1 online action game En...   \n",
       "1  One of the most popular online action games of...   \n",
       "2  Enlist in an intense brand of Axis vs Allied t...   \n",
       "3  Enjoy fastpaced multiplayer gaming with Deathm...   \n",
       "4  Return to the Black Mesa Research Facility as ...   \n",
       "\n",
       "                                   short_description          developers  \\\n",
       "0  Play the worlds number 1 online action game En...             [Valve]   \n",
       "1  One of the most popular online action games of...             [Valve]   \n",
       "2  Enlist in an intense brand of Axis vs Allied t...             [Valve]   \n",
       "3  Enjoy fastpaced multiplayer gaming with Deathm...             [Valve]   \n",
       "4  Return to the Black Mesa Research Facility as ...  [Gearbox Software]   \n",
       "\n",
       "  publishers                                         categories    genres  \\\n",
       "0    [Valve]  [Multi-player, PvP, Online PvP, Shared/Split S...  [Action]   \n",
       "1    [Valve]  [Multi-player, PvP, Online PvP, Shared/Split S...  [Action]   \n",
       "2    [Valve]           [Multi-player, Valve Anti-Cheat enabled]  [Action]   \n",
       "3    [Valve]  [Multi-player, PvP, Online PvP, Shared/Split S...  [Action]   \n",
       "4    [Valve]  [Single-player, Multi-player, Valve Anti-Cheat...  [Action]   \n",
       "\n",
       "  new_release_date  \n",
       "0       1 Nov 2000  \n",
       "1       1 Apr 1999  \n",
       "2       1 May 2003  \n",
       "3       1 Jun 2001  \n",
       "4       1 Nov 1999  "
      ],
      "text/html": "<div>\n<style scoped>\n    .dataframe tbody tr th:only-of-type {\n        vertical-align: middle;\n    }\n\n    .dataframe tbody tr th {\n        vertical-align: top;\n    }\n\n    .dataframe thead th {\n        text-align: right;\n    }\n</style>\n<table border=\"1\" class=\"dataframe\">\n  <thead>\n    <tr style=\"text-align: right;\">\n      <th></th>\n      <th>type</th>\n      <th>name</th>\n      <th>steam_appid</th>\n      <th>about_the_game</th>\n      <th>short_description</th>\n      <th>developers</th>\n      <th>publishers</th>\n      <th>categories</th>\n      <th>genres</th>\n      <th>new_release_date</th>\n    </tr>\n  </thead>\n  <tbody>\n    <tr>\n      <th>0</th>\n      <td>game</td>\n      <td>Counter-Strike</td>\n      <td>10</td>\n      <td>Play the worlds number 1 online action game En...</td>\n      <td>Play the worlds number 1 online action game En...</td>\n      <td>[Valve]</td>\n      <td>[Valve]</td>\n      <td>[Multi-player, PvP, Online PvP, Shared/Split S...</td>\n      <td>[Action]</td>\n      <td>1 Nov 2000</td>\n    </tr>\n    <tr>\n      <th>1</th>\n      <td>game</td>\n      <td>Team Fortress Classic</td>\n      <td>20</td>\n      <td>One of the most popular online action games of...</td>\n      <td>One of the most popular online action games of...</td>\n      <td>[Valve]</td>\n      <td>[Valve]</td>\n      <td>[Multi-player, PvP, Online PvP, Shared/Split S...</td>\n      <td>[Action]</td>\n      <td>1 Apr 1999</td>\n    </tr>\n    <tr>\n      <th>2</th>\n      <td>game</td>\n      <td>Day of Defeat</td>\n      <td>30</td>\n      <td>Enlist in an intense brand of Axis vs Allied t...</td>\n      <td>Enlist in an intense brand of Axis vs Allied t...</td>\n      <td>[Valve]</td>\n      <td>[Valve]</td>\n      <td>[Multi-player, Valve Anti-Cheat enabled]</td>\n      <td>[Action]</td>\n      <td>1 May 2003</td>\n    </tr>\n    <tr>\n      <th>3</th>\n      <td>game</td>\n      <td>Deathmatch Classic</td>\n      <td>40</td>\n      <td>Enjoy fastpaced multiplayer gaming with Deathm...</td>\n      <td>Enjoy fastpaced multiplayer gaming with Deathm...</td>\n      <td>[Valve]</td>\n      <td>[Valve]</td>\n      <td>[Multi-player, PvP, Online PvP, Shared/Split S...</td>\n      <td>[Action]</td>\n      <td>1 Jun 2001</td>\n    </tr>\n    <tr>\n      <th>4</th>\n      <td>game</td>\n      <td>Half-Life: Opposing Force</td>\n      <td>50</td>\n      <td>Return to the Black Mesa Research Facility as ...</td>\n      <td>Return to the Black Mesa Research Facility as ...</td>\n      <td>[Gearbox Software]</td>\n      <td>[Valve]</td>\n      <td>[Single-player, Multi-player, Valve Anti-Cheat...</td>\n      <td>[Action]</td>\n      <td>1 Nov 1999</td>\n    </tr>\n  </tbody>\n</table>\n</div>"
     },
     "metadata": {},
     "execution_count": 6
    }
   ],
   "source": [
    "# Function to remove punctuation\n",
    "def remove_punctuation(text):\n",
    "    no_punc = ''.join([c for c in text if c not in string.punctuation])\n",
    "    return no_punc\n",
    "\n",
    "# Remove punctuation from long description columns\n",
    "data['about_the_game'] = data['about_the_game'].apply(lambda x: remove_punctuation(x))\n",
    "data['short_description'] = data['short_description'].apply(lambda x: remove_punctuation(x))\n",
    "data.head()"
   ]
  },
  {
   "cell_type": "code",
   "execution_count": 7,
   "metadata": {},
   "outputs": [
    {
     "output_type": "execute_result",
     "data": {
      "text/plain": [
       "   type                       name  steam_appid  \\\n",
       "0  game             Counter-Strike           10   \n",
       "1  game      Team Fortress Classic           20   \n",
       "2  game              Day of Defeat           30   \n",
       "3  game         Deathmatch Classic           40   \n",
       "4  game  Half-Life: Opposing Force           50   \n",
       "\n",
       "                                      about_the_game  \\\n",
       "0  play the worlds number 1 online action game en...   \n",
       "1  one of the most popular online action games of...   \n",
       "2  enlist in an intense brand of axis vs allied t...   \n",
       "3  enjoy fastpaced multiplayer gaming with deathm...   \n",
       "4  return to the black mesa research facility as ...   \n",
       "\n",
       "                                   short_description          developers  \\\n",
       "0  play the worlds number 1 online action game en...             [Valve]   \n",
       "1  one of the most popular online action games of...             [Valve]   \n",
       "2  enlist in an intense brand of axis vs allied t...             [Valve]   \n",
       "3  enjoy fastpaced multiplayer gaming with deathm...             [Valve]   \n",
       "4  return to the black mesa research facility as ...  [Gearbox Software]   \n",
       "\n",
       "  publishers                                         categories    genres  \\\n",
       "0    [Valve]  [Multi-player, PvP, Online PvP, Shared/Split S...  [Action]   \n",
       "1    [Valve]  [Multi-player, PvP, Online PvP, Shared/Split S...  [Action]   \n",
       "2    [Valve]           [Multi-player, Valve Anti-Cheat enabled]  [Action]   \n",
       "3    [Valve]  [Multi-player, PvP, Online PvP, Shared/Split S...  [Action]   \n",
       "4    [Valve]  [Single-player, Multi-player, Valve Anti-Cheat...  [Action]   \n",
       "\n",
       "  new_release_date  \n",
       "0       1 Nov 2000  \n",
       "1       1 Apr 1999  \n",
       "2       1 May 2003  \n",
       "3       1 Jun 2001  \n",
       "4       1 Nov 1999  "
      ],
      "text/html": "<div>\n<style scoped>\n    .dataframe tbody tr th:only-of-type {\n        vertical-align: middle;\n    }\n\n    .dataframe tbody tr th {\n        vertical-align: top;\n    }\n\n    .dataframe thead th {\n        text-align: right;\n    }\n</style>\n<table border=\"1\" class=\"dataframe\">\n  <thead>\n    <tr style=\"text-align: right;\">\n      <th></th>\n      <th>type</th>\n      <th>name</th>\n      <th>steam_appid</th>\n      <th>about_the_game</th>\n      <th>short_description</th>\n      <th>developers</th>\n      <th>publishers</th>\n      <th>categories</th>\n      <th>genres</th>\n      <th>new_release_date</th>\n    </tr>\n  </thead>\n  <tbody>\n    <tr>\n      <th>0</th>\n      <td>game</td>\n      <td>Counter-Strike</td>\n      <td>10</td>\n      <td>play the worlds number 1 online action game en...</td>\n      <td>play the worlds number 1 online action game en...</td>\n      <td>[Valve]</td>\n      <td>[Valve]</td>\n      <td>[Multi-player, PvP, Online PvP, Shared/Split S...</td>\n      <td>[Action]</td>\n      <td>1 Nov 2000</td>\n    </tr>\n    <tr>\n      <th>1</th>\n      <td>game</td>\n      <td>Team Fortress Classic</td>\n      <td>20</td>\n      <td>one of the most popular online action games of...</td>\n      <td>one of the most popular online action games of...</td>\n      <td>[Valve]</td>\n      <td>[Valve]</td>\n      <td>[Multi-player, PvP, Online PvP, Shared/Split S...</td>\n      <td>[Action]</td>\n      <td>1 Apr 1999</td>\n    </tr>\n    <tr>\n      <th>2</th>\n      <td>game</td>\n      <td>Day of Defeat</td>\n      <td>30</td>\n      <td>enlist in an intense brand of axis vs allied t...</td>\n      <td>enlist in an intense brand of axis vs allied t...</td>\n      <td>[Valve]</td>\n      <td>[Valve]</td>\n      <td>[Multi-player, Valve Anti-Cheat enabled]</td>\n      <td>[Action]</td>\n      <td>1 May 2003</td>\n    </tr>\n    <tr>\n      <th>3</th>\n      <td>game</td>\n      <td>Deathmatch Classic</td>\n      <td>40</td>\n      <td>enjoy fastpaced multiplayer gaming with deathm...</td>\n      <td>enjoy fastpaced multiplayer gaming with deathm...</td>\n      <td>[Valve]</td>\n      <td>[Valve]</td>\n      <td>[Multi-player, PvP, Online PvP, Shared/Split S...</td>\n      <td>[Action]</td>\n      <td>1 Jun 2001</td>\n    </tr>\n    <tr>\n      <th>4</th>\n      <td>game</td>\n      <td>Half-Life: Opposing Force</td>\n      <td>50</td>\n      <td>return to the black mesa research facility as ...</td>\n      <td>return to the black mesa research facility as ...</td>\n      <td>[Gearbox Software]</td>\n      <td>[Valve]</td>\n      <td>[Single-player, Multi-player, Valve Anti-Cheat...</td>\n      <td>[Action]</td>\n      <td>1 Nov 1999</td>\n    </tr>\n  </tbody>\n</table>\n</div>"
     },
     "metadata": {},
     "execution_count": 7
    }
   ],
   "source": [
    "# Make descriptions lower case\n",
    "data['about_the_game']= data['about_the_game'].apply(lambda x: x.lower())\n",
    "data['short_description']= data['short_description'].apply(lambda x: x.lower())\n",
    "data.head()"
   ]
  },
  {
   "cell_type": "code",
   "execution_count": 8,
   "metadata": {},
   "outputs": [
    {
     "output_type": "execute_result",
     "data": {
      "text/plain": [
       "   type                       name  steam_appid  \\\n",
       "0  game             Counter-Strike           10   \n",
       "1  game      Team Fortress Classic           20   \n",
       "2  game              Day of Defeat           30   \n",
       "3  game         Deathmatch Classic           40   \n",
       "4  game  Half-Life: Opposing Force           50   \n",
       "\n",
       "                                      about_the_game  \\\n",
       "0  play the worlds number 1 online action game en...   \n",
       "1  one of the most popular online action games of...   \n",
       "2  enlist in an intense brand of axis vs allied t...   \n",
       "3  enjoy fastpaced multiplayer gaming with deathm...   \n",
       "4  return to the black mesa research facility as ...   \n",
       "\n",
       "                                   short_description        developers  \\\n",
       "0  play the worlds number 1 online action game en...             Valve   \n",
       "1  one of the most popular online action games of...             Valve   \n",
       "2  enlist in an intense brand of axis vs allied t...             Valve   \n",
       "3  enjoy fastpaced multiplayer gaming with deathm...             Valve   \n",
       "4  return to the black mesa research facility as ...  Gearbox Software   \n",
       "\n",
       "  publishers                                         categories  genres  \\\n",
       "0      Valve  [Multi-player, PvP, Online PvP, Shared/Split S...  Action   \n",
       "1      Valve  [Multi-player, PvP, Online PvP, Shared/Split S...  Action   \n",
       "2      Valve           [Multi-player, Valve Anti-Cheat enabled]  Action   \n",
       "3      Valve  [Multi-player, PvP, Online PvP, Shared/Split S...  Action   \n",
       "4      Valve  [Single-player, Multi-player, Valve Anti-Cheat...  Action   \n",
       "\n",
       "  new_release_date  \n",
       "0       1 Nov 2000  \n",
       "1       1 Apr 1999  \n",
       "2       1 May 2003  \n",
       "3       1 Jun 2001  \n",
       "4       1 Nov 1999  "
      ],
      "text/html": "<div>\n<style scoped>\n    .dataframe tbody tr th:only-of-type {\n        vertical-align: middle;\n    }\n\n    .dataframe tbody tr th {\n        vertical-align: top;\n    }\n\n    .dataframe thead th {\n        text-align: right;\n    }\n</style>\n<table border=\"1\" class=\"dataframe\">\n  <thead>\n    <tr style=\"text-align: right;\">\n      <th></th>\n      <th>type</th>\n      <th>name</th>\n      <th>steam_appid</th>\n      <th>about_the_game</th>\n      <th>short_description</th>\n      <th>developers</th>\n      <th>publishers</th>\n      <th>categories</th>\n      <th>genres</th>\n      <th>new_release_date</th>\n    </tr>\n  </thead>\n  <tbody>\n    <tr>\n      <th>0</th>\n      <td>game</td>\n      <td>Counter-Strike</td>\n      <td>10</td>\n      <td>play the worlds number 1 online action game en...</td>\n      <td>play the worlds number 1 online action game en...</td>\n      <td>Valve</td>\n      <td>Valve</td>\n      <td>[Multi-player, PvP, Online PvP, Shared/Split S...</td>\n      <td>Action</td>\n      <td>1 Nov 2000</td>\n    </tr>\n    <tr>\n      <th>1</th>\n      <td>game</td>\n      <td>Team Fortress Classic</td>\n      <td>20</td>\n      <td>one of the most popular online action games of...</td>\n      <td>one of the most popular online action games of...</td>\n      <td>Valve</td>\n      <td>Valve</td>\n      <td>[Multi-player, PvP, Online PvP, Shared/Split S...</td>\n      <td>Action</td>\n      <td>1 Apr 1999</td>\n    </tr>\n    <tr>\n      <th>2</th>\n      <td>game</td>\n      <td>Day of Defeat</td>\n      <td>30</td>\n      <td>enlist in an intense brand of axis vs allied t...</td>\n      <td>enlist in an intense brand of axis vs allied t...</td>\n      <td>Valve</td>\n      <td>Valve</td>\n      <td>[Multi-player, Valve Anti-Cheat enabled]</td>\n      <td>Action</td>\n      <td>1 May 2003</td>\n    </tr>\n    <tr>\n      <th>3</th>\n      <td>game</td>\n      <td>Deathmatch Classic</td>\n      <td>40</td>\n      <td>enjoy fastpaced multiplayer gaming with deathm...</td>\n      <td>enjoy fastpaced multiplayer gaming with deathm...</td>\n      <td>Valve</td>\n      <td>Valve</td>\n      <td>[Multi-player, PvP, Online PvP, Shared/Split S...</td>\n      <td>Action</td>\n      <td>1 Jun 2001</td>\n    </tr>\n    <tr>\n      <th>4</th>\n      <td>game</td>\n      <td>Half-Life: Opposing Force</td>\n      <td>50</td>\n      <td>return to the black mesa research facility as ...</td>\n      <td>return to the black mesa research facility as ...</td>\n      <td>Gearbox Software</td>\n      <td>Valve</td>\n      <td>[Single-player, Multi-player, Valve Anti-Cheat...</td>\n      <td>Action</td>\n      <td>1 Nov 1999</td>\n    </tr>\n  </tbody>\n</table>\n</div>"
     },
     "metadata": {},
     "execution_count": 8
    }
   ],
   "source": [
    "# Drop square brackets from developers, publishers, categories and genres columns\n",
    "data['developers'] = data['developers'].str.get(0)\n",
    "data['publishers'] = data['publishers'].str.get(0)\n",
    "#data['categories'] = data['categories'].str.get(0) # Finding alternative as this removes all categories after 1st\n",
    "data['genres'] = data['genres'].str.get(0)\n",
    "\n",
    "# Remove hyphen from categories column\n",
    "#data['categories'] = data['categories'].replace('-', ' ', regex=True).astype(str)\n",
    "data.head()"
   ]
  },
  {
   "cell_type": "code",
   "execution_count": 9,
   "metadata": {},
   "outputs": [
    {
     "output_type": "execute_result",
     "data": {
      "text/plain": [
       "   type                       name  steam_appid  \\\n",
       "0  game             Counter-Strike           10   \n",
       "1  game      Team Fortress Classic           20   \n",
       "2  game              Day of Defeat           30   \n",
       "3  game         Deathmatch Classic           40   \n",
       "4  game  Half-Life: Opposing Force           50   \n",
       "\n",
       "                                      about_the_game  \\\n",
       "0  [play, worlds, number, 1, online, action, game...   \n",
       "1  [one, popular, online, action, games, time, te...   \n",
       "2  [enlist, intense, brand, axis, vs, allied, tea...   \n",
       "3  [enjoy, fastpaced, multiplayer, gaming, deathm...   \n",
       "4  [return, black, mesa, research, facility, one,...   \n",
       "\n",
       "                                   short_description        developers  \\\n",
       "0  [play, worlds, number, 1, online, action, game...             Valve   \n",
       "1  [one, popular, online, action, games, time, te...             Valve   \n",
       "2  [enlist, intense, brand, axis, vs, allied, tea...             Valve   \n",
       "3  [enjoy, fastpaced, multiplayer, gaming, deathm...             Valve   \n",
       "4  [return, black, mesa, research, facility, one,...  Gearbox Software   \n",
       "\n",
       "  publishers                                         categories  genres  \\\n",
       "0      Valve  [Multi-player, PvP, Online PvP, Shared/Split S...  Action   \n",
       "1      Valve  [Multi-player, PvP, Online PvP, Shared/Split S...  Action   \n",
       "2      Valve           [Multi-player, Valve Anti-Cheat enabled]  Action   \n",
       "3      Valve  [Multi-player, PvP, Online PvP, Shared/Split S...  Action   \n",
       "4      Valve  [Single-player, Multi-player, Valve Anti-Cheat...  Action   \n",
       "\n",
       "  new_release_date  \n",
       "0       1 Nov 2000  \n",
       "1       1 Apr 1999  \n",
       "2       1 May 2003  \n",
       "3       1 Jun 2001  \n",
       "4       1 Nov 1999  "
      ],
      "text/html": "<div>\n<style scoped>\n    .dataframe tbody tr th:only-of-type {\n        vertical-align: middle;\n    }\n\n    .dataframe tbody tr th {\n        vertical-align: top;\n    }\n\n    .dataframe thead th {\n        text-align: right;\n    }\n</style>\n<table border=\"1\" class=\"dataframe\">\n  <thead>\n    <tr style=\"text-align: right;\">\n      <th></th>\n      <th>type</th>\n      <th>name</th>\n      <th>steam_appid</th>\n      <th>about_the_game</th>\n      <th>short_description</th>\n      <th>developers</th>\n      <th>publishers</th>\n      <th>categories</th>\n      <th>genres</th>\n      <th>new_release_date</th>\n    </tr>\n  </thead>\n  <tbody>\n    <tr>\n      <th>0</th>\n      <td>game</td>\n      <td>Counter-Strike</td>\n      <td>10</td>\n      <td>[play, worlds, number, 1, online, action, game...</td>\n      <td>[play, worlds, number, 1, online, action, game...</td>\n      <td>Valve</td>\n      <td>Valve</td>\n      <td>[Multi-player, PvP, Online PvP, Shared/Split S...</td>\n      <td>Action</td>\n      <td>1 Nov 2000</td>\n    </tr>\n    <tr>\n      <th>1</th>\n      <td>game</td>\n      <td>Team Fortress Classic</td>\n      <td>20</td>\n      <td>[one, popular, online, action, games, time, te...</td>\n      <td>[one, popular, online, action, games, time, te...</td>\n      <td>Valve</td>\n      <td>Valve</td>\n      <td>[Multi-player, PvP, Online PvP, Shared/Split S...</td>\n      <td>Action</td>\n      <td>1 Apr 1999</td>\n    </tr>\n    <tr>\n      <th>2</th>\n      <td>game</td>\n      <td>Day of Defeat</td>\n      <td>30</td>\n      <td>[enlist, intense, brand, axis, vs, allied, tea...</td>\n      <td>[enlist, intense, brand, axis, vs, allied, tea...</td>\n      <td>Valve</td>\n      <td>Valve</td>\n      <td>[Multi-player, Valve Anti-Cheat enabled]</td>\n      <td>Action</td>\n      <td>1 May 2003</td>\n    </tr>\n    <tr>\n      <th>3</th>\n      <td>game</td>\n      <td>Deathmatch Classic</td>\n      <td>40</td>\n      <td>[enjoy, fastpaced, multiplayer, gaming, deathm...</td>\n      <td>[enjoy, fastpaced, multiplayer, gaming, deathm...</td>\n      <td>Valve</td>\n      <td>Valve</td>\n      <td>[Multi-player, PvP, Online PvP, Shared/Split S...</td>\n      <td>Action</td>\n      <td>1 Jun 2001</td>\n    </tr>\n    <tr>\n      <th>4</th>\n      <td>game</td>\n      <td>Half-Life: Opposing Force</td>\n      <td>50</td>\n      <td>[return, black, mesa, research, facility, one,...</td>\n      <td>[return, black, mesa, research, facility, one,...</td>\n      <td>Gearbox Software</td>\n      <td>Valve</td>\n      <td>[Single-player, Multi-player, Valve Anti-Cheat...</td>\n      <td>Action</td>\n      <td>1 Nov 1999</td>\n    </tr>\n  </tbody>\n</table>\n</div>"
     },
     "metadata": {},
     "execution_count": 9
    }
   ],
   "source": [
    "# Remove stopwords\n",
    "#stop_words = nltk.corpus.stopwords.words('english')\n",
    "stop_words = set(stopwords.words('english'))\n",
    "\n",
    "def remove_stopwords(text):\n",
    "    #no_stopwords = [i for i in text if i not in stopwords]\n",
    "    tokens = word_tokenize(text)\n",
    "    result = [i for i in tokens if not i in stop_words]\n",
    "    return result\n",
    "\n",
    "data['about_the_game'] = data['about_the_game'].apply(lambda x: remove_stopwords(x))\n",
    "data['short_description'] = data['short_description'].apply(lambda x: remove_stopwords(x))\n",
    "data.head()"
   ]
  },
  {
   "cell_type": "code",
   "execution_count": 10,
   "metadata": {},
   "outputs": [
    {
     "output_type": "execute_result",
     "data": {
      "text/plain": [
       "   type                       name  steam_appid  \\\n",
       "0  game             Counter-Strike           10   \n",
       "1  game      Team Fortress Classic           20   \n",
       "2  game              Day of Defeat           30   \n",
       "3  game         Deathmatch Classic           40   \n",
       "4  game  Half-Life: Opposing Force           50   \n",
       "\n",
       "                                      about_the_game  \\\n",
       "0  [play, world, number, 1, online, action, game,...   \n",
       "1  [one, popular, online, action, game, time, tea...   \n",
       "2  [enlist, intense, brand, axis, v, allied, team...   \n",
       "3  [enjoy, fastpaced, multiplayer, gaming, deathm...   \n",
       "4  [return, black, mesa, research, facility, one,...   \n",
       "\n",
       "                                   short_description        developers  \\\n",
       "0  [play, world, number, 1, online, action, game,...             Valve   \n",
       "1  [one, popular, online, action, game, time, tea...             Valve   \n",
       "2  [enlist, intense, brand, axis, v, allied, team...             Valve   \n",
       "3  [enjoy, fastpaced, multiplayer, gaming, deathm...             Valve   \n",
       "4  [return, black, mesa, research, facility, one,...  Gearbox Software   \n",
       "\n",
       "  publishers                                         categories  genres  \\\n",
       "0      Valve  [Multi-player, PvP, Online PvP, Shared/Split S...  Action   \n",
       "1      Valve  [Multi-player, PvP, Online PvP, Shared/Split S...  Action   \n",
       "2      Valve           [Multi-player, Valve Anti-Cheat enabled]  Action   \n",
       "3      Valve  [Multi-player, PvP, Online PvP, Shared/Split S...  Action   \n",
       "4      Valve  [Single-player, Multi-player, Valve Anti-Cheat...  Action   \n",
       "\n",
       "  new_release_date  \n",
       "0       1 Nov 2000  \n",
       "1       1 Apr 1999  \n",
       "2       1 May 2003  \n",
       "3       1 Jun 2001  \n",
       "4       1 Nov 1999  "
      ],
      "text/html": "<div>\n<style scoped>\n    .dataframe tbody tr th:only-of-type {\n        vertical-align: middle;\n    }\n\n    .dataframe tbody tr th {\n        vertical-align: top;\n    }\n\n    .dataframe thead th {\n        text-align: right;\n    }\n</style>\n<table border=\"1\" class=\"dataframe\">\n  <thead>\n    <tr style=\"text-align: right;\">\n      <th></th>\n      <th>type</th>\n      <th>name</th>\n      <th>steam_appid</th>\n      <th>about_the_game</th>\n      <th>short_description</th>\n      <th>developers</th>\n      <th>publishers</th>\n      <th>categories</th>\n      <th>genres</th>\n      <th>new_release_date</th>\n    </tr>\n  </thead>\n  <tbody>\n    <tr>\n      <th>0</th>\n      <td>game</td>\n      <td>Counter-Strike</td>\n      <td>10</td>\n      <td>[play, world, number, 1, online, action, game,...</td>\n      <td>[play, world, number, 1, online, action, game,...</td>\n      <td>Valve</td>\n      <td>Valve</td>\n      <td>[Multi-player, PvP, Online PvP, Shared/Split S...</td>\n      <td>Action</td>\n      <td>1 Nov 2000</td>\n    </tr>\n    <tr>\n      <th>1</th>\n      <td>game</td>\n      <td>Team Fortress Classic</td>\n      <td>20</td>\n      <td>[one, popular, online, action, game, time, tea...</td>\n      <td>[one, popular, online, action, game, time, tea...</td>\n      <td>Valve</td>\n      <td>Valve</td>\n      <td>[Multi-player, PvP, Online PvP, Shared/Split S...</td>\n      <td>Action</td>\n      <td>1 Apr 1999</td>\n    </tr>\n    <tr>\n      <th>2</th>\n      <td>game</td>\n      <td>Day of Defeat</td>\n      <td>30</td>\n      <td>[enlist, intense, brand, axis, v, allied, team...</td>\n      <td>[enlist, intense, brand, axis, v, allied, team...</td>\n      <td>Valve</td>\n      <td>Valve</td>\n      <td>[Multi-player, Valve Anti-Cheat enabled]</td>\n      <td>Action</td>\n      <td>1 May 2003</td>\n    </tr>\n    <tr>\n      <th>3</th>\n      <td>game</td>\n      <td>Deathmatch Classic</td>\n      <td>40</td>\n      <td>[enjoy, fastpaced, multiplayer, gaming, deathm...</td>\n      <td>[enjoy, fastpaced, multiplayer, gaming, deathm...</td>\n      <td>Valve</td>\n      <td>Valve</td>\n      <td>[Multi-player, PvP, Online PvP, Shared/Split S...</td>\n      <td>Action</td>\n      <td>1 Jun 2001</td>\n    </tr>\n    <tr>\n      <th>4</th>\n      <td>game</td>\n      <td>Half-Life: Opposing Force</td>\n      <td>50</td>\n      <td>[return, black, mesa, research, facility, one,...</td>\n      <td>[return, black, mesa, research, facility, one,...</td>\n      <td>Gearbox Software</td>\n      <td>Valve</td>\n      <td>[Single-player, Multi-player, Valve Anti-Cheat...</td>\n      <td>Action</td>\n      <td>1 Nov 1999</td>\n    </tr>\n  </tbody>\n</table>\n</div>"
     },
     "metadata": {},
     "execution_count": 10
    }
   ],
   "source": [
    "# Lemmatization\n",
    "wordnet_lemmatizer = WordNetLemmatizer()\n",
    "\n",
    "def lemmatizer(text):\n",
    "    lemm_text = [wordnet_lemmatizer.lemmatize(word) for word in text]\n",
    "    return lemm_text\n",
    "\n",
    "data['about_the_game'] = data['about_the_game'].apply(lambda x: lemmatizer(x))\n",
    "data['short_description'] = data['short_description'].apply(lambda x: lemmatizer(x))\n",
    "data.head()"
   ]
  },
  {
   "cell_type": "code",
   "execution_count": null,
   "metadata": {},
   "outputs": [],
   "source": []
  }
 ]
}